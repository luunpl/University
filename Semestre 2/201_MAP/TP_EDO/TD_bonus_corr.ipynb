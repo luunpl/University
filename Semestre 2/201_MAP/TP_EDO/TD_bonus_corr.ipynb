{
 "cells": [
  {
   "cell_type": "code",
   "execution_count": null,
   "metadata": {},
   "outputs": [
    {
     "ename": "",
     "evalue": "",
     "output_type": "error",
     "traceback": [
      "\u001b[1;31mRunning cells with 'Python 3.12.3' requires the ipykernel package.\n",
      "\u001b[1;31mRun the following command to install 'ipykernel' into the Python environment. \n",
      "\u001b[1;31mCommand: '/bin/python3 -m pip install ipykernel -U --user --force-reinstall'"
     ]
    }
   ],
   "source": [
    "import numpy as np\n",
    "import matplotlib.pyplot as plt\n",
    "plt.rcParams['figure.dpi'] = 240\n",
    "plt.rcParams['savefig.dpi'] = 240\n",
    "\n",
    "font = {'family': 'serif',\n",
    "        'color':  'darkblue',\n",
    "        'weight': 'normal',\n",
    "        'size': 16,\n",
    "        }\n",
    "def Affichage_Champs(g, xmin,xmax,ymin,ymax,N):\n",
    "    #g: fonction qui definit le champs de vecteurs\n",
    "    #xmin,xmax: intervalle d'abscisses affichees\n",
    "    #ymin,ymax: intervalle d'ordonnees affichees\n",
    "    #N: nombre de pas de discretisation\n",
    "    x=np.zeros([N+1,N+1])\n",
    "    y=np.zeros([N+1,N+1])\n",
    "    u=np.zeros([N+1,N+1])\n",
    "    v=np.zeros([N+1,N+1])#initialisation de quatres tableaux indexes sur [0,N]x[0,N]\n",
    "    for i in range(N+1):#boucle for qui parcourt i=0,1,2,...,N\n",
    "        for j in range(N+1):#idem pour j=0,1,2,..,N\n",
    "            x[i,j],y[i,j]=xmin+(xmax-xmin)*i/N,ymin+(ymax-ymin)*j/N#abscisse et ordonnees du point associe a (i,j)\n",
    "            u[i,j],v[i,j]=g(x[i,j],y[i,j])#valeur du champs de vecteur en (x[i,j],y[i,j])\n",
    "    u=u*(ymax-ymin)/(xmax-xmin)#Changement d'echelle.\n",
    "    u,v=u/np.sqrt(0.01+u**2+v**2),v/np.sqrt(0.01+u**2+v**2)#Normalisation du champs de vecteur: cela permet de rendre plus visible la direction.\n",
    "    plt.quiver(x,y,u,v)#affichage le champs de vecteur: cette fonction trace le vecteur (u[i,j],v[i,j]) base en (x[i,j],y[i,j]), pour i,j qui parcourent [0,N]x[0,N]\n",
    "\n",
    "def GeneralRK4(g,x_init,T_fin,N):\n",
    "    T=np.linspace(0,T_fin,N+1)\n",
    "    dt=T_fin/N\n",
    "    dim=np.size(x_init)\n",
    "    X=np.zeros([N+1,dim])\n",
    "    X[0,:]=x_init\n",
    "    for i in range(N):\n",
    "        k1=g(T[i],X[i])\n",
    "        k2=g(T[i]+dt/2,X[i]+k1*dt/2)\n",
    "        k3=g(T[i]+dt/2,X[i]+k2*dt/2)\n",
    "        k4=g(T[i]+dt,X[i]+k3*dt)\n",
    "        X[i+1]=X[i]+dt*(k1+2*k2+2*k3+k4)/6\n",
    "    return X\n"
   ]
  },
  {
   "cell_type": "markdown",
   "metadata": {},
   "source": [
    "Exercice 1\n",
    "\n",
    "Pour cet exercice, on peut commencer par étudier (établir le tableau de variation, les valeurs extrémales) de la fonction $x\\mapsto x(1-x)$ pour ensuite comprendre la fonction $f$.\n",
    "\n",
    "Pour la correction, on va plutôt travailler directement sur la fonction\n",
    "\n",
    "$$f(x)=-(x^2-x+c)$$\n",
    "\n",
    "Le discriminant de ce polynôme est $1-4c$, donc on sépare trois cas:\n",
    "\n",
    "- $c>1/4$: le discriminant est strictement négatif, donc $f(x)<0$ pour tout $x$: il n'y a pas de point d'équilibre.\n",
    "- $c=1/4$: $f(x)\\leq 0$ pour tout $x$, avec $f(x)=0$ si et seulement si $x=\\frac{1}{2}$ (l'unique racine réelle du polynôme). Dans ce cas $1/4$ est l'unique point d'équilibre. $f$ est strictement positive sur un intervalle $]1/4,1/4 + \\delta[$ (en fait sur tout l'intervalle $]1/4,+\\infty[$) donc ce point d'équilibre est instable.\n",
    "- $c<1/4$: dans ce cas le polynôme admet deux racines distinctes, $x^{\\pm}:=\\frac{1\\pm \\sqrt{1-4c}}{2}$. $f$ est donc négative sur $]-\\infty,x^{-}[$, positive sur $]x^-,x^+[$, et négative sur $]x^+,+\\infty[$. $x^-$ est donc un poitn d'équilibre instable, et $x^+$ un point d'équilibre stable (on utilise ici la caractérisation de la stabilité des points d'équilibres par l'étude du signe de la fonction autour du point). "
   ]
  },
  {
   "cell_type": "markdown",
   "metadata": {},
   "source": [
    "\n",
    "Exercice 2\n",
    "\n",
    "1) $f$ admet dans tous les cas un premier point d'équilibre en $x=\\mu$. Dans l'étude du signe de $x^2-\\mu$, on fait ressortir $3$ cas:\n",
    "- $\\mu<0$. Dans ce cas $x^2-\\mu>0$ pour tout $x$, donc $\\mu$ est l'unique point d'équilibre de $f$.\n",
    "- $\\mu=0$: dans ce cas $x^2-\\mu$ est strictement positif pour $x\\neq 0$, et s'annule en $x=0$. Il y a donc un unique point d'équilibre en $\\mu(=0)$.\n",
    "- $\\mu>0$. Dans ce cas on peut décomposer\n",
    "$$ f(x)=(x^2-\\mu)(\\mu-x)=(x-\\sqrt{\\mu})(x+\\sqrt{\\mu})(\\mu-x).$$\n",
    "Les points d'équilibres de $f$ sont donc $\\{-\\sqrt{\\mu},\\sqrt{\\mu},\\mu\\}$ (attention, les deux derniers ne sont pas forcément distincts, par exemple si $\\mu=1$).\n",
    "\n",
    "2) On sépare à nouveau les trois cas:\n",
    "\n",
    "- Si $\\mu<0$, alors $f$ est positive sur $]-\\infty,\\mu[$, négative sur $]\\mu,+\\infty[$.\n",
    "- Si $\\mu=0$, alors $f$ est, commme précédemment, positive  $]-\\infty,\\mu[$, négative sur $]\\mu,+\\infty[$.\n",
    "\n",
    "Pour le cas restant il faut à nouveau faire une distinction selon l'ordre des points d'équilibres $\\sqrt{\\mu}$, et $\\mu$. On rappelle que pour $\\mu>0$, on a $\\sqrt{\\mu}\\geq \\mu$ si et seulement si $\\mu\\leq 1$ (par exemple en passant cette inégalité au carré, et en simplifiant $\\mu$), avec égalité si et seulement si $\\mu=1$.\n",
    "\n",
    "- $0<\\mu<1$: dans ce cas les points d'équilibres sont $-\\sqrt{\\mu}<\\mu<\\sqrt{\\mu}$, avec $f$ alternant de signe (respectivement $+,-,+,-$) sur chaque intervalle.\n",
    "\n",
    "- $\\mu=1$: dans ce cas les points d'équilibres sont $-1,1$, et $f$ est positive sur $]-\\infty,-1[$, négative sur $]-1,1[$, négative sur $]1,+\\infty[$.\n",
    "\n",
    "\n",
    "- $0<\\mu<1$: dans ce cas les points d'équilibres sont $-\\sqrt{\\mu}<\\sqrt{\\mu}<\\mu$, avec $f$ alternant de signe (respectivement $+,-,+,-$) sur chaque intervalle.\n",
    "\n",
    "3) En utilisant la caractérisation de la stabilité des points d'équilibres:\n",
    "\n",
    "- $\\mu<0$: $\\mu$ est stable.\n",
    "- $\\mu=0$: $\\mu(=0)$ est stable.\n",
    "- $-\\sqrt{\\mu}$ et $\\sqrt{\\mu}$ sont stables, et $\\mu$ est instable\n",
    "- $\\mu=1$: $-1$ est stable, $1$ est instable.\n",
    "- $0<\\mu<1$: $-\\sqrt{\\mu}$ et $\\mu$ sont stables, et $\\sqrt{\\mu}$ est instable\n"
   ]
  },
  {
   "cell_type": "markdown",
   "metadata": {},
   "source": [
    "\n",
    "Exercice 3\n",
    "\n",
    "1) Les points d'annulation de la $f(x)=-\\sin(x)$ sont exactement $0$, $\\pi$ (mod $2\\pi$). Comme $-\\sin'(0)=-1<0$, alors $0$ est stable, et comme $-\\sin'(\\pi)=1>0$, alors $\\pi$ est instable. Cela est conforme à l'intuition: le pôle nord de la barre aimantée va être attiré par le pôle sud de l'aimant extérieur, et réciproquement.\n",
    "\n",
    "2) Pour l'équation de $x$: $\\sin(x-y)$ est une fonction psoitive lorsque les deux aimant forment un angle inférieur à $\\pi$: il s'agit d'un effet de répulsion entre les deux pôles nord, et d'attraction entre les pôles nord/sud.\n",
    "\n",
    "Le terme $-\\sin(x)$ (pour l'équation de $\\dot{x}$) attire le pole nord de la barre aimantée sur le pôle sud de l'aimant extérieur.\n",
    "\n",
    "Le facteur $K$ peut alors se voir comme un coefficient de prédominance de l'effet d'attraction entre les deux barre sur l'effet d'attraction avec l'aimant extérieur.\n",
    "\n",
    "Pour la recherche des points critiques, on cherche les points $(x,y)\\in\\R^2$ (pris modulo $2\\pi$, vu qu'il s'agit d'angles) tels que\n",
    "\n",
    "$$\\begin{cases}\n",
    "K\\sin(x-y)-\\sin(x)=0\\\\\n",
    "K\\sin(y-x)-\\sin(y)=0\n",
    "\\end{cases}$$\n",
    "\n",
    "Soit $(x,y)$ vérifiant cette équation, alors en combinant les deux équations on obtient $$\\sin(x)=\\sin(-y)$$\n",
    "\n",
    "Il y a alors deux cas:\n",
    "\n",
    "- $x=\\pi +y$ (mod $2\\pi$). Alors $K\\sin(x-y)=K\\sin(y-x)=0$, donc $\\sin(x)=\\sin(y)=0$, et il y a donc deux possibilités: $x=0$, $y=\\pi$ (mod $2\\pi$) on $x=\\pi$, $y=0$ (mod $2\\pi$). On peut vérifier réciproquement que ce sont bien des points d'équilibres.\n",
    "\n",
    "- $x=-y$ (mod $2\\pi$). Alors les deux équations deviennent $K\\sin(2x)=\\sin(x)$. Grâce à la formule trigonométrique $\\sin(2t)=2\\cos(t)\\sin(t)$, cette équation devient\n",
    "\n",
    "$$(2K\\cos(x)-1)\\sin(x) $$\n",
    "\n",
    "donc soit $\\sin(x)=0$, ce qui correspond aux équilibres $\\{(0,0),(\\pi,-\\pi)\\}$ (mod $2\\pi$), soit $2K\\cos(x)-1=0$, ce qui correspond à l'équation\n",
    "\n",
    "$$\\cos(x)=\\frac{1}{2K}$$\n",
    "Cette équation ne peut pas être satisfaite si $K<1/2$, est satisfaite pour $x=0$ si $K=1/2$ (ce qui redonne le point d'équilibre $(0,0)$, déjà compté précédemment), et si $K>1/2$ il y a donc deux points d'équilibres\n",
    "$$\\left(+\\arccos\\left(\\frac{1}{2K}\\right),-\\arccos\\left(\\frac{1}{2K}\\right)\\right),\\left(-\\arccos\\left(\\frac{1}{2K}\\right),+\\arccos\\left(\\frac{1}{2K}\\right)\\right) $$\n"
   ]
  },
  {
   "cell_type": "markdown",
   "metadata": {},
   "source": [
    "On illustre cela en affichant le champs de vecteur associé, sur la zone $[-\\pi,\\pi]^2$ et pour différentes valeurs de $K$."
   ]
  },
  {
   "cell_type": "code",
   "execution_count": null,
   "metadata": {},
   "outputs": [],
   "source": [
    "def eq_aimant(K,x,y):\n",
    "    return (K*np.sin(x-y)-np.sin(x),K*np.sin(y-x)-np.sin(y))\n",
    "\n",
    "def affichage_aimants(K,n):#n: nombre de subdivision dans l'affichage du champs de vecteur\n",
    "    Affichage_Champs(lambda x,y:eq_aimant(K,x,y),-np.pi,np.pi,-np.pi,np.pi,n)\n",
    "    #Affichage_Champs(lambda x,y:eq_aimant(K,x,y),-2*np.pi,2*np.pi,-2*np.pi,2*np.pi,n)\n",
    "\n",
    "affichage_aimants(0.3,30)\n",
    "\n"
   ]
  },
  {
   "cell_type": "markdown",
   "metadata": {},
   "source": [
    "Dans ce cas, $(0,0)$ semble être le seul équilibre stable."
   ]
  },
  {
   "cell_type": "code",
   "execution_count": null,
   "metadata": {},
   "outputs": [],
   "source": [
    "affichage_aimants(0.7,30)"
   ]
  },
  {
   "cell_type": "markdown",
   "metadata": {},
   "source": [
    "Dans ce cas, $(0,0)$ semble être instable: la force de répulsion entre les deux barres aimantées est plus forte, et les équilibres sont stables sont \n",
    "$$\\left(+\\arccos\\left(\\frac{1}{2K}\\right),-\\arccos\\left(\\frac{1}{2K}\\right)\\right),\\left(-\\arccos\\left(\\frac{1}{2K}\\right),+\\arccos\\left(\\frac{1}{2K}\\right)\\right) $$"
   ]
  },
  {
   "cell_type": "markdown",
   "metadata": {},
   "source": [
    "\n",
    "Exercice 4\n",
    "\n",
    "1)"
   ]
  },
  {
   "cell_type": "code",
   "execution_count": null,
   "metadata": {},
   "outputs": [],
   "source": [
    "g=9.8\n",
    "l=1\n",
    "\n",
    "\n",
    "def Kapitza(a,f,t,X):\n",
    "    return np.array([X[1], -(1/l)*(g+a*(2*np.pi*f)**2 *np.cos(2*np.pi*f*t))*np.sin(X[0])])\n",
    "\n",
    "\n",
    "def Kapitza_lim(v,t,X):\n",
    "    return np.array([X[1], -(1/l)*(g+(v**2 / 2)*np.cos(X[0]))*np.sin(X[0])])\n",
    "\n",
    "def affichage_kap(a,f,xin,Tf,N):\n",
    "    T=np.linspace(0,Tf,N+1)\n",
    "    X=GeneralRK4(lambda t,X: Kapitza(a,f,t,X),xin,Tf,N)\n",
    "    plt.plot(T,X[:,0],label='Vrai solution')\n",
    "    plt.xlabel('t')\n",
    "    plt.ylabel('x')\n",
    "\n",
    "def balayage_kap(a,f,Tf,N,n):#n: nombre de solutions affichées\n",
    "    Xin=np.linspace(-6,6,n)#On dépasse un peu\n",
    "#    print('valeur de v: ', 2*np.pi*f*a)\n",
    "    for i in range(n):\n",
    "        affichage_kap(a,f,np.array([Xin[i],0]),Tf,N)\n",
    "    plt.show()\n",
    "\n",
    "for eps in [0.1,0.05,0.01]:\n",
    "    a=eps\n",
    "    Tf=10\n",
    "    f=4/(2*np.pi*eps)\n",
    "    balayage_kap(a,f,Tf,2000,20)\n",
    "    plt.show()"
   ]
  },
  {
   "cell_type": "markdown",
   "metadata": {},
   "source": [
    "On observe que lorsque $\\epsilon\\to 0$, les trajectoires semble tendre vers une limite plus lisse qui ressemblent  une trajectoire de pendule usuel: le pendule oscille autour de l'angle $0$ (modulo $2\\pi$), qui semble être le seul point d'équilibre stable."
   ]
  },
  {
   "cell_type": "markdown",
   "metadata": {},
   "source": [
    "\n",
    "2) On fait la même chose pour $v=8$."
   ]
  },
  {
   "cell_type": "code",
   "execution_count": null,
   "metadata": {},
   "outputs": [],
   "source": [
    "for eps in [0.1,0.05,0.01]:\n",
    "    a=eps\n",
    "    Tf=10\n",
    "    f=8/(2*np.pi*eps)\n",
    "    balayage_kap(a,f,Tf,2000,20)\n",
    "    plt.show()"
   ]
  },
  {
   "cell_type": "markdown",
   "metadata": {},
   "source": [
    "A nouveau lorsque $\\epsilon\\to 0$, les oscillations rapident s'estompent. Cette fois les solutions sont différentes de celles du pendule usuel: il y a des solutions qui oscillent autour de l'angle $\\pi$ (modulo $2\\pi$): cela correspond au phénomène surprenant de la vidéo où le pendule va osciller autour de la position verticale pointant vers le haut.\n",
    "\n",
    "3) On va afficher la distance entre $x_{1/n}$ et $x_{lim}$ pour $n$ allant de $1$ à $100$. Pour mieux visualiser la vitesse de convergence on affiche le graphe de $1/\\max_{0<t<T_f}|x_{1/n}(t)-x_{\\lim}(t)|$ en fonction de $n$."
   ]
  },
  {
   "cell_type": "code",
   "execution_count": null,
   "metadata": {},
   "outputs": [],
   "source": [
    "def comparaison_kap(v,Tf,N,nmax):\n",
    "    n_range=np.arange(1,nmax)\n",
    "    E=np.zeros(len(n_range))\n",
    "    for i in range(len(n_range)):\n",
    "        a=1/n_range[i]\n",
    "        f=v/(2*np.pi*a)\n",
    "        X=GeneralRK4(lambda t,X: Kapitza(a,f,t,X),np.array([np.pi/2,0]),Tf,N)[:,0]\n",
    "        X_L=GeneralRK4(lambda t,X: Kapitza_lim(2*np.pi*f*a,t,X),np.array([np.pi/2,0]),Tf,N)[:,0]\n",
    "        E[i]=1/np.max(np.abs(X-X_L))\n",
    "    plt.xlabel('n')\n",
    "    plt.ylabel('max_t|x_1/n(t)-x_lim(t)|')\n",
    "    plt.plot(n_range,E)\n",
    "\n",
    "\n",
    "comparaison_kap(4,5,2000,100)"
   ]
  },
  {
   "cell_type": "markdown",
   "metadata": {},
   "source": [
    "On observe que la distance entre $x_{1/n}$ et $x_{\\lim}$ est d'ordre $\\frac{C}{n}$, où $C>0$ est une constante que l'on pourrait estimer par régression linéaire (on ne le fait pas)."
   ]
  },
  {
   "cell_type": "markdown",
   "metadata": {},
   "source": [
    "4) Ici, on a $\\ddot{x}_{\\lim}(t)+g(x_{\\lim}(t))=0$, où $$g(x):=\\frac{1}{l}\\left(g+\\frac{v^2}{2}\\cos(x)\\right)\\sin(x)=\\frac{g}{l}\\sin(x)+\\frac{v^2}{4l}\\sin(2x)$$\n",
    "où on a utilisé la formule trigonométrique $\\sin(2x)=2\\sin(x)\\cos(x)$ pour réecrire le deuxième terme.\n",
    "\n",
    "On commence par chercher les points d'équilibres de l'équation $\\ddot{x}(t)+g(x(t))=0$: en posant $y(t)=\\dot{x}(t)$, on se ramène à l'équation d'ordre $1$ $\\begin{cases}\\dot{x}(t)=y(t)\\\\ \\dot{y}(t)=-g(x(t))\\end{cases}$. Pour trouver les points d'équilibre, on cherche donc les $(x^e,y^e)\\in\\mathbb{R}^2$ tels que $\\begin{cases}y^e=0\\\\ g(x^e)=0\\end{cases}$.\n",
    "\n",
    "Pour simplifier la recherche, on se restreint aux angles $x^e\\in [-\\pi,\\pi]$.\n",
    "\n",
    "La première ligne est directe. La seconde condition se produit si et seulement si $\\sin(x^e)=0$ ou $g+\\frac{v^2}{2}\\cos(x^e)=0$, c'est-à-dire si et seulement si \n",
    "$$x^e\\in \\{-\\pi,0,\\pi\\},\\text{ ou }\\cos(x^e)=-\\frac{2g}{v^2}.$$\n",
    "\n",
    "La deuxième condition est impossible si $\\frac{2g}{v^2}>1$, se produit pour $x^e=\\pm \\pi$ si $\\frac{2g}{v^2}=1$, et admet deux solution $\\pm\\arccos\\left(-\\frac{2g}{v^2}\\right)$ si $\\frac{2g}{v^2}<1$.\n",
    "\n",
    "Il y a donc deux cas:\n",
    "\n",
    "- $v\\leq \\sqrt{2g}(\\approx 4.42)$ et les points d'équilibres sont $\\{(-\\pi,0),(0,0),(\\pi,0)\\}$.\n",
    "- $v>\\sqrt{2g}(\\approx 4.42)$ et les points d'équilibres sont $\\{(-\\pi,0),(-\\arccos(-2g/v^2),0),(0,0),(\\arccos(-2g/v^2),0),(\\pi,0)\\}$.\n",
    "\n",
    "Pour vérifier la stabilité du point d'équilibre $( \\pi,0)$, on regarde le signe de $g'(\\pi)$. On a\n",
    "$$g'(x)=\\frac{g}{l}\\sin(x)+\\frac{v^2}{2l}\\cos(2x)$$\n",
    "donc\n",
    "$$g'(\\pi)=\\frac{g-\\frac{v^2}{2}}{l}$$\n",
    "Ainsi, si $v>\\sqrt{2g}$, alors $g'(\\pi)>0$ et cet équilibre est stable: le pendule est maintenu à la verticale (pointant vers le haut).\n",
    "Si $v<\\sqrt{2g}$, alors $g'(\\pi)<0$ et cet équilibre est instable: le pendule tombe vers la position d'équilibre du pendule usuel (verticale pointant vers le bas)."
   ]
  }
 ],
 "metadata": {
  "kernelspec": {
   "display_name": "base",
   "language": "python",
   "name": "python3"
  },
  "language_info": {
   "codemirror_mode": {
    "name": "ipython",
    "version": 3
   },
   "file_extension": ".py",
   "mimetype": "text/x-python",
   "name": "python",
   "nbconvert_exporter": "python",
   "pygments_lexer": "ipython3",
   "version": "3.12.3"
  }
 },
 "nbformat": 4,
 "nbformat_minor": 2
}
