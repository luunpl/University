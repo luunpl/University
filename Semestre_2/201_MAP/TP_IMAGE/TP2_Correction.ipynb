{
 "cells": [
  {
   "cell_type": "markdown",
   "metadata": {
    "id": "agdDm9-suM1_"
   },
   "source": [
    "# Thème Image - TP2 - Utilisation de l’histogramme pour la correction et le traitement d’images"
   ]
  },
  {
   "cell_type": "markdown",
   "metadata": {
    "id": "w-HmQS2Pw5wj"
   },
   "source": [
    "* Vérifiez que vous vous trouvez bien dans le dossier de travail pour ce TP\n",
    "* Si ça n'est pas le cas, pour y accèder utilisez les commandes `pwd` (print working directory), `cd` (change directory) et `ls`(list contents) pour naviguer sur le disque.\n",
    "* Changez de repertoire jusqu'a voir tous les fichiers necessaires au TP.\n",
    "* Importez les modules dont vous aurez besoin en exécutant la cellule suivante (`Ctrl+Enter`).\n",
    "* Familiarisez vous avec les fonctions mises à votre disposition dans le fichier `utils.py`; elles vous seront utiles pour la suite!"
   ]
  },
  {
   "cell_type": "code",
   "execution_count": 1,
   "metadata": {
    "colab": {
     "base_uri": "https://localhost:8080/",
     "height": 123
    },
    "executionInfo": {
     "elapsed": 11,
     "status": "ok",
     "timestamp": 1696239490489,
     "user": {
      "displayName": "Marek Bucki",
      "userId": "12894677198130453404"
     },
     "user_tz": -120
    },
    "id": "t2oKF8Bzlc5K",
    "outputId": "9fd3e6ee-7927-4195-915d-8729f3269e03"
   },
   "outputs": [
    {
     "name": "stdout",
     "output_type": "stream",
     "text": [
      "_TP0_TEST_FigMatplotlib.png  TP1_Correction.ipynb  TP3_Correction.ipynb\n",
      "TP0_Tuto.ipynb               TP2_Correction.ipynb\n"
     ]
    }
   ],
   "source": [
    "ls"
   ]
  },
  {
   "cell_type": "code",
   "execution_count": 1,
   "metadata": {
    "colab": {
     "base_uri": "https://localhost:8080/",
     "height": 35
    },
    "executionInfo": {
     "elapsed": 9,
     "status": "ok",
     "timestamp": 1696239490489,
     "user": {
      "displayName": "Marek Bucki",
      "userId": "12894677198130453404"
     },
     "user_tz": -120
    },
    "id": "PhA5iMFMynvM",
    "outputId": "52576a7d-1da3-4757-849a-b5bccf67ae46"
   },
   "outputs": [
    {
     "ename": "NameError",
     "evalue": "name 'test_utils' is not defined",
     "output_type": "error",
     "traceback": [
      "\u001b[0;31m---------------------------------------------------------------------------\u001b[0m",
      "\u001b[0;31mNameError\u001b[0m                                 Traceback (most recent call last)",
      "Cell \u001b[0;32mIn[1], line 6\u001b[0m\n\u001b[1;32m      3\u001b[0m \u001b[38;5;28;01mfrom\u001b[39;00m \u001b[38;5;21;01mcopy\u001b[39;00m \u001b[38;5;28;01mimport\u001b[39;00m copy\n\u001b[1;32m      4\u001b[0m \u001b[38;5;28;01mfrom\u001b[39;00m \u001b[38;5;21;01mutils\u001b[39;00m \u001b[38;5;28;01mimport\u001b[39;00m \u001b[38;5;241m*\u001b[39m\n\u001b[0;32m----> 6\u001b[0m \u001b[43mtest_utils\u001b[49m()\n\u001b[1;32m      7\u001b[0m plt\u001b[38;5;241m.\u001b[39mion()\n",
      "\u001b[0;31mNameError\u001b[0m: name 'test_utils' is not defined"
     ]
    }
   ],
   "source": [
    "import numpy as np\n",
    "import matplotlib.pyplot as plt\n",
    "from copy import copy\n",
    "from utils import *\n",
    "\n",
    "test_utils()\n",
    "plt.ion()"
   ]
  },
  {
   "cell_type": "markdown",
   "metadata": {
    "id": "y7PeR-gIyr0d"
   },
   "source": [
    "# Histogramme et histogramme cumulé\n",
    "## Histogramme\n",
    "\n",
    "Python possède des instructions (dans la librairie `numpy`; voir le fichier `utils.py`) permettant de calculer automatiquement l'histogramme d'une image. Utiliser ces fonctions revient à utiliser une \"boîte noire\" dont on ne connaît pas le fonctionnement interne.\n",
    "\n",
    "Nous utiliserons des boîtes noires plus tard afin de gagner du temps (et parce que leur implémentation est souvent très optimisée), mais nous allons aussi re-coder certains algorithmes (en \"boîtes blanches\") afin de bien en comprendre le fonctionnement.\n",
    "\n",
    "Nous pourrons alors comparer les résultats produits par une boîte noire à ceux produits par notre boîte blanche, afin de vérifier que notre implémentation est correcte."
   ]
  },
  {
   "cell_type": "markdown",
   "metadata": {
    "id": "seD6gDBcl96i"
   },
   "source": [
    "# Exercice 1\n",
    "## Tracés d'histogrammes\n",
    "\n",
    "Dans le cas des images, nous voulons compter le nombre de pixels dont la valeur est $p$, $\\forall p \\in \\lbrace 0,\\ldots,255\\rbrace$.\n",
    "\n",
    "Affichez les images suivantes et tracez leurs histogrammes :\n",
    "\n",
    "`papillon.bmp`, `fruits.bmp`, `manoir.bmp`, `desert.bmp`\n",
    "\n",
    "Commentez l'aspect général des images et l'allure de leurs\n",
    "histogrammes."
   ]
  },
  {
   "cell_type": "code",
   "execution_count": null,
   "metadata": {
    "colab": {
     "base_uri": "https://localhost:8080/",
     "height": 1952
    },
    "executionInfo": {
     "elapsed": 5291,
     "status": "ok",
     "timestamp": 1696239495773,
     "user": {
      "displayName": "Marek Bucki",
      "userId": "12894677198130453404"
     },
     "user_tz": -120
    },
    "id": "-7ZCLvALk_03",
    "outputId": "5dd95e89-8f18-4c64-a6f5-121fad6d2793"
   },
   "outputs": [],
   "source": [
    "# Charger et afficher l'image\n",
    "img = load_and_show_image('./fruits.bmp')\n",
    "\n",
    "# Show histogram: black box\n",
    "bbox_hist = show_histogram(img, title='Histogramme - black box')\n",
    "show_histogram(img, cumulative=False, title='Histogramme CUMULE - black box')\n",
    "\n",
    "# Compute histogram from scratch\n",
    "hist = np.zeros(256)\n",
    "for i in range(img.shape[0]):\n",
    "    for j in range(img.shape[1]):\n",
    "        hist[img[i,j]] += 1\n",
    "        \n",
    "# Show histogram: white box\n",
    "show_bars(hist, title='Histogramme - white box')\n",
    "\n",
    "# Comparer les resultats black box et white box\n",
    "print(f'Difference entre black box et white box=\\n{bbox_hist - hist}')"
   ]
  },
  {
   "cell_type": "markdown",
   "metadata": {
    "id": "Mu-tOiRVy12f"
   },
   "source": [
    "# Exercice 2\n",
    "## Effet d'une transformation sur l'histogramme\n",
    "On considère les fonctions de transformation suivantes :\n",
    "* $f_1(p) = p + 50 $\n",
    "* $f_3(p) = 0.5(p-127) + 127 $\n",
    "* $f_5(p) = 2(p-127) + 127 $\n",
    "\n",
    "Modifez le code ci-dessous pour appliquer ces transformations à quelques images.\n",
    "    \n",
    "Affichez les images transformées et leurs histogrammes, et commentez la différence par rapport à l'original.\n",
    "\n",
    "Dans quels cas y a-t-il perte d'information par saturation des valeurs à 0 ou 255 ?\n",
    "\n",
    "Que se passe-t-il si on évite le bloc \"clip\" en entrant clip = False ?"
   ]
  },
  {
   "cell_type": "code",
   "execution_count": null,
   "metadata": {
    "colab": {
     "base_uri": "https://localhost:8080/",
     "height": 1636
    },
    "executionInfo": {
     "elapsed": 3548,
     "status": "ok",
     "timestamp": 1696239499316,
     "user": {
      "displayName": "Marek Bucki",
      "userId": "12894677198130453404"
     },
     "user_tz": -120
    },
    "id": "3mrjkjsP0efY",
    "outputId": "2dab7e82-a6f2-41b3-e520-b90b6695169a"
   },
   "outputs": [],
   "source": [
    "def f1(p):\n",
    "    return p+50\n",
    "\n",
    "def f2(p):\n",
    "    return 0.5 * (p - 127) + 127\n",
    "\n",
    "def f5_3(p):\n",
    "    return 2 * (p - 127) + 127\n",
    "\n",
    "# Charger et afficher l'image\n",
    "img = load_and_show_image('./manoir.bmp')\n",
    "\n",
    "# Afficher l'histogramme\n",
    "show_histogram(img, title='Histogramme de Fruits')\n",
    "\n",
    "# Appliquer la transformation\n",
    "img_2 = copy(img)\n",
    "clip = True\n",
    "for i in range(img_2.shape[0]):\n",
    "    for j in range(img_2.shape[1]):\n",
    "        # A COMPLETER : CHOISIR LA FONCTION A APPLIQUER ICI\n",
    "        new_val = f5_3(img[i,j])\n",
    "        # ------ Que se passe-t-il si on désactive (clip = False au dessus) ce bloc de code ?\n",
    "        # Quel problème avec les valeurs des pixels dans les images\n",
    "        # observe-t-on ?\n",
    "        if clip:\n",
    "            if new_val > 255:\n",
    "                img_2[i, j] = 255\n",
    "            elif new_val < 0:\n",
    "                img_2[i, j] = 0\n",
    "            else:\n",
    "              img_2[i, j] = new_val\n",
    "        else:\n",
    "            img_2[i,j] = new_val\n",
    "\n",
    "# Afficher l'image\n",
    "show_image(img_2, title='Image Fruits transformee')\n",
    "\n",
    "# Afficher l'histogramme\n",
    "_ = show_histogram(img_2, title='Histogramme de image Fruits transformee')"
   ]
  },
  {
   "cell_type": "markdown",
   "metadata": {
    "id": "2ojZfQP_3eNY"
   },
   "source": [
    "# Exercice 3\n",
    "## Histogramme cumulé\n",
    "\n",
    "Etant donné l'histogramme $h(p)$ d'une image, l'histogramme cumulé\n",
    "peut être défini de deux manières.\n",
    "1. Par une formule explicite\n",
    "$(\\star) H(p) = \\sum_{q = 0}^{p}h(q), \\ \\forall p \\in\\lbrace 0,\\ldots, 255\\rbrace.$\n",
    "\n",
    "2. Par récurrence : $H(0) = h(0)$ et pour $p\\in{1, \\ldots, 255}, H(p) = H(p-1) + h(p)$.\n",
    "\n",
    "En pratique, l'histogramme cumulé $H$ est stocké sous la forme d'un tableau\n",
    "à 256 entrées, comme l'histogramme $h$ que vous avez déjà calculé, il faut faire attention aux indices !\n",
    "\n",
    "Completez la cellule ci-dessous pour qu'elle réalise le calcul de l'histogramme cumulé, puis testez votre fonction.\n",
    "\n",
    "Quelle est la valeur du dernier élément du tableau $H$ ? A quoi correspond-elle ?"
   ]
  },
  {
   "cell_type": "code",
   "execution_count": null,
   "metadata": {
    "colab": {
     "base_uri": "https://localhost:8080/",
     "height": 1393
    },
    "executionInfo": {
     "elapsed": 2375,
     "status": "ok",
     "timestamp": 1696239501686,
     "user": {
      "displayName": "Marek Bucki",
      "userId": "12894677198130453404"
     },
     "user_tz": -120
    },
    "id": "e9jeKK0e6MV3",
    "outputId": "aeb2f8d5-2ce4-4001-ccb2-f47ff8dbd3fe"
   },
   "outputs": [],
   "source": [
    "# Charger et afficher l'image\n",
    "#img = load_and_show_image('./papillon.bmp', title='Papillon')\n",
    "img = load_and_show_image('./tomates.bmp', title='Tomates')\n",
    "\n",
    "# Calculer l'histogramme: white box (on en aura besoin plus bas)\n",
    "hist = np.zeros(256)\n",
    "for i in range(img.shape[0]):\n",
    "    for j in range(img.shape[1]):\n",
    "        hist[img[i, j]] += 1\n",
    "\n",
    "# Afficher l'histogramme\n",
    "show_bars(hist, title='Histogramme de Papillon')\n",
    "\n",
    "# Histogramme cumule: calcul lent (méthode 1, lente)\n",
    "print_timestamp('hist LENT: start')\n",
    "H_1 = np.zeros(256)\n",
    "for p in range(256):\n",
    "    H_1[p] = 0\n",
    "    for pp in range(p):\n",
    "        H_1[p] += hist[pp] \n",
    "print_timestamp('hist LENT: end')\n",
    "\n",
    "# Histogramme cumule: calcul optimise (méthode 2, optimisée)\n",
    "print_timestamp('hist RAPIDE: start')\n",
    "H_2 = np.zeros(256)\n",
    "H_2[0] = hist[0]\n",
    "for p in range(1,256):\n",
    "    H_2[p] += H_2[p-1] + hist[p]\n",
    "print_timestamp('hist RAPIDE: end')\n",
    "\n",
    "# Afficher l'histogramme cumule\n",
    "show_bars(H_1, title='Histogramme CUMULE de Papillon')"
   ]
  },
  {
   "cell_type": "markdown",
   "metadata": {
    "id": "qfwv3ANo69hU"
   },
   "source": [
    "# Exercice 4\n",
    "## Histogramme et correction de contraste\n",
    "\n",
    "Dans cette partie, nous allons voir comment l'histogramme permet de choisir la transformation affine à appliquer à une image donnée. La transformation, dite LUT (ou Look Up Table) sera affichée par la cellule ci-dessous.\n",
    "    \n",
    "L'idée est d'identifier l'intervalle $[p_0,p_1]$ de valeurs dans lequel se trouvent la majorité des pixels de l'image puis de répartir ces valeurs sur l'intervalle  $[0,255]$.\n",
    "\n",
    "Tracez l'histogramme de l'image `desert.bmp`.\n",
    "\n",
    "* Quel est le plus petit intervalle qui contient tous les pixels ?\n",
    "* Quelle est la transformation affine qui permet de répartir ces valeurs sur l'intervalle $[0,255]$ ?\n",
    "* Modifiez les paramètres dans le code de la cellule ci-dessous puis appliquez la LUT 'idéale' puis quelques autres transformations à l'image.\n",
    "* Commentez les différences au niveau des images et des histogrammes."
   ]
  },
  {
   "cell_type": "code",
   "execution_count": null,
   "metadata": {
    "colab": {
     "base_uri": "https://localhost:8080/",
     "height": 2192
    },
    "executionInfo": {
     "elapsed": 5442,
     "status": "ok",
     "timestamp": 1696239507124,
     "user": {
      "displayName": "Marek Bucki",
      "userId": "12894677198130453404"
     },
     "user_tz": -120
    },
    "id": "5ULm4AOs9Nu1",
    "outputId": "e06ed63e-766c-4e2f-92ba-5ad14d14a79f"
   },
   "outputs": [],
   "source": [
    "import numpy as np\n",
    "\n",
    "# Verifier que la fonction LUT est bien definie\n",
    "LUT_x = np.arange(256)\n",
    "LUT_y = np.array([LUT(x, 100, 200) for x in LUT_x])\n",
    "show_function(LUT_x, LUT_y, title='LUT')\n",
    "\n",
    "# Charger et afficher l'image\n",
    "img = load_and_show_image('./desert.bmp', title='Desert')\n",
    "\n",
    "# Afficher l'histogramme\n",
    "show_histogram(img, title='Histogramme de Desert')\n",
    "\n",
    "# Appliquer une LUT a l'image\n",
    "img_2 = copy(img)\n",
    "\n",
    "# Transformation sans perte d'information\n",
    "for i in range(img.shape[0]):\n",
    "    for j in range(img.shape[1]):\n",
    "        img_2[i,j] = LUT(img[i,j],75,230)\n",
    "\n",
    "# Transformation avec perte d'information\n",
    "for i in range(img.shape[0]):\n",
    "    for j in range(img.shape[1]):\n",
    "        img_2[i,j] = LUT(img[i,j],75,230)\n",
    "\n",
    "# Afficher la nouvelle image\n",
    "show_image(img_2, title='LUT(Desert)')\n",
    "\n",
    "# Afficher le nouvel histogramme\n",
    "_ = show_histogram(img_2, title='Histogramme de LUT(Desert)')\n"
   ]
  },
  {
   "cell_type": "markdown",
   "metadata": {
    "id": "zcE1kssI_Zj-"
   },
   "source": [
    "# Exercice 5\n",
    "## Détermination automatique de $p_0$ et $p_1$\n",
    "\n",
    "Soit $I$ une image de taille $M\\times N$.\n",
    "\n",
    "Soit $s\\in[0,100]$ une valeur choisie par l'utilisateur. On choisit $p_0$ (respectivement $p_1$) de telle manière que $s\\%$ des pixels de l'image $I$ aient une valeur plus petite que $p_0$ (respectivement plus grande que $p_1$).\n",
    "\n",
    "Autrement dit, soit $H$ l'histogramme cumulé de $I$, $p_0$ est la plus petite valeur $p$ telle que $\\frac{H(p)}{MN} \\geq s/100$, et $p_1$ est la plus grande valeur $p$ telle que $\\frac{H(p)}{MN} \\leq 1 - s/100$.\n",
    "\n",
    "* Modifiez la cellule ci-dessous pour déterminer $p_0$ et $p_1$.\n",
    "\n",
    "_**Astuce** : pour $p_0$, parcourir l'histogramme cumulé $H$ à partir de la valeur de pixel 0 ; pour $p_1$, parcourir $H$ dans le sens inverse (donc à partir de l'indice 255)._\n",
    "\n",
    "* Testez votre code avec l'image `desert.bmp`, par exemple avec un seuil de 1% :\n",
    "\n",
    "* Les valeurs de $p_0$ et $p_1$ sont-elles proches de celles que vous avez choisies dans l'exercice précédent ? Essayez avec d'autres valeurs du seuil et affichez les images correspondantes.\n",
    "\n",
    "* Faites de même pour les images `manoir.bmp` et `fruits.bmp`.\n"
   ]
  },
  {
   "cell_type": "code",
   "execution_count": null,
   "metadata": {
    "colab": {
     "base_uri": "https://localhost:8080/",
     "height": 2227
    },
    "executionInfo": {
     "elapsed": 3348,
     "status": "ok",
     "timestamp": 1696239510463,
     "user": {
      "displayName": "Marek Bucki",
      "userId": "12894677198130453404"
     },
     "user_tz": -120
    },
    "id": "92Iun1-mAR31",
    "outputId": "d7b4c3d4-4e47-4419-859b-c34475600bb7"
   },
   "outputs": [],
   "source": [
    "# Charger et afficher l'image\n",
    "img = load_and_show_image('./papillon.bmp', title='Papillon')\n",
    "#img = load_and_show_image('./tomates.bmp', title='Tomates')\n",
    "\n",
    "# Calculer l'histogramme: white box (on en aura besoin plus bas)\n",
    "hist = np.zeros(256)\n",
    "for i in range(img.shape[0]):\n",
    "    for j in range(img.shape[1]):\n",
    "        hist[img[i, j]] = hist[img[i, j]] + 1\n",
    "\n",
    "# Afficher l'histogramme\n",
    "show_bars(hist, title='Histogramme de Papillon', cumulative=True)\n",
    "show_histogram(img, cumulative = True)\n",
    "\n",
    "# Histogramme cumule: méthode 2 (optimisée)\n",
    "H = np.zeros(256)\n",
    "H[0] = hist[0]\n",
    "for i in range(1, 256):\n",
    "    H[i] = H[i-1] + hist[i]\n",
    "\n",
    "# Choisir un pourcentage s\n",
    "s = 5  # (en pourcents (%))\n",
    "\n",
    "# Trouver p0\n",
    "nb_pixels = img.shape[0] * img.shape[1]\n",
    "p0 = 0\n",
    "while H[p0] / nb_pixels < s/100:\n",
    "    p0 += 1\n",
    "p0 += 1\n",
    "\n",
    "# Trouver p1\n",
    "p1 = 255\n",
    "while H[p1] / nb_pixels > 1 - s / 100:\n",
    "    p1 -= 1\n",
    "p1 -= 1\n",
    "# A COMPLETER\n",
    "\n",
    "\n",
    "# Autre facon de le coder\n",
    "# for p in range(0, 256):\n",
    "#     if H[p]/nb_pixels >= s/100:\n",
    "#         p0 = p\n",
    "#         break\n",
    "# for p in range(255, -1, -1):\n",
    "#     if H[p]/nb_pixels <= 1 - s/100:\n",
    "#         p1 = p\n",
    "#         break\n",
    "\n",
    "# Valeurs\n",
    "print(f'p0= {p0}')\n",
    "print(f'p1= {p1}')\n",
    "\n",
    "# Verifier que la fonction LUT est bien definie\n",
    "LUT_x = np.arange(256)\n",
    "# A COMPLETER\n",
    "LUT_y = np.array([LUT(x, p0, p1) for x in LUT_x])\n",
    "show_function(LUT_x, LUT_y, title='LUT')\n",
    "\n",
    "# Appliquer une LUT a l'image\n",
    "img_2 = copy(img)\n",
    "for i in range(256):\n",
    "    for j in range(256):\n",
    "        img_2[i,j] = LUT(img[i,j], p0, p1)\n",
    "# Afficher la nouvelle image\n",
    "show_image(img_2, title='LUT(Papillon)')\n",
    "\n",
    "# Afficher le nouvel histogramme\n",
    "_ = show_histogram(img_2, title='Histogramme de LUT(Papillon)')"
   ]
  },
  {
   "cell_type": "markdown",
   "metadata": {
    "id": "Rl1Su7N5BLr7"
   },
   "source": [
    "# Exercice 6\n",
    "## Egalisation d'histogramme\n",
    "\n",
    "Pour une image $I_1(u,v)$ de taille $M\\times N$ dont l'histogramme cumulé est $H_1(p)$, l'égalisation d'histogramme consiste à transformer $I_1(u,v)$ en une image $I_2(u,v) = T(I_1(u,v))$ de manière à ce que le nouvel histogramme cumulé $H_2$ soit le plus linéaire possible. Pour cela, on applique la\n",
    "transformation suivante aux pixels de l'image :\n",
    "\n",
    "$ T(p) = \\frac{255}{MN}H_1(p). $\n",
    "\n",
    "* Dans la cellule ci-dessous, définir une fonction `egalisation` qui calcule la nouvelle valeur `T(p)` puis mettre en oeuvre l'égalisation d'histogramme et la tester sur `fruits.bmp`.\n",
    "\n",
    "* Commenter les allures de l'histogramme et de l'histogramme cumulé de la nouvelle image par rapport à ceux de l'image originale.\n",
    "\n",
    "* Commenter l'aspect visuel de la nouvelle image. Que pensez-vous du résultat par rapport à la correction affine ?\n",
    "\n",
    "* Appliquer une deuxième fois l'égalisation d'histogramme. Qu'observez-vous ? Comment l'expliquer ?\n",
    "\n",
    "* Que pensez-vous de l'égalisation appliquée à l'image `cellules.bmp` ?\n"
   ]
  },
  {
   "cell_type": "code",
   "execution_count": null,
   "metadata": {
    "colab": {
     "base_uri": "https://localhost:8080/",
     "height": 2610
    },
    "executionInfo": {
     "elapsed": 3676,
     "status": "ok",
     "timestamp": 1696239514134,
     "user": {
      "displayName": "Marek Bucki",
      "userId": "12894677198130453404"
     },
     "user_tz": -120
    },
    "id": "wE0RkgJFCKnw",
    "outputId": "88ae489d-f28d-494a-e7a8-16e97fef7011"
   },
   "outputs": [],
   "source": [
    "# Charger et afficher l'image\n",
    "img = load_and_show_image('./papillon.bmp')\n",
    "#img = load_and_show_image('./cellules.bmp')\n",
    "\n",
    "# Calculer l'histogramme: white box (on en aura besoin plus bas)\n",
    "hist = np.zeros(256)\n",
    "for i in range(img.shape[0]):\n",
    "    for j in range(img.shape[1]):\n",
    "        hist[img[i, j]] = hist[img[i, j]] + 1\n",
    "\n",
    "# Afficher l'histogramme\n",
    "show_bars(hist, title='Histogramme')\n",
    "\n",
    "# Histogramme cumule: calcul optimise\n",
    "H1 = np.zeros(256)\n",
    "H1[0] = hist[0]\n",
    "for i in range(1, 256):\n",
    "    H1[i] = H1[i-1] + hist[i]\n",
    "\n",
    "# Afficher histogramme cumule\n",
    "show_bars(H1, title='Histogramme CUMULE')\n",
    "\n",
    "# NB: vous pouvez remplacer les 2 calculs d'hist plus haut par des appels\n",
    "# à la fonction show_histogram (voir la doc de cette fonction dans utils.py)\n",
    "\n",
    "# Transformation d'egalisation d'histogramme\n",
    "def egalisation(p):\n",
    "    MN = img.size\n",
    "    return H1[p] * 255 / MN\n",
    "    \n",
    "# Appliquer l'egalisation d'histogramme\n",
    "img_2 = copy(img)\n",
    "for i in range(img_2.shape[0]):\n",
    "    for j in range(img_2.shape[1]):\n",
    "        img_2[i,j] = egalisation(img[i,j])\n",
    "        \n",
    "# Afficher la nouvelle image\n",
    "show_image(img_2, title='Image apres egalisation')\n",
    "\n",
    "# Calculer l'histogramme egalise\n",
    "show_histogram(img_2, cumulative=False, title='Histogramme apres egalisation')\n",
    "\n",
    "# Calculer l'histogramme cumulé egalise\n",
    "_ = show_histogram(img_2, cumulative=True, title='Histogramme CUMULE apres \\\n",
    "egalisation')"
   ]
  },
  {
   "cell_type": "markdown",
   "metadata": {
    "id": "QMXS-CW-ENdR"
   },
   "source": [
    "# Exercice 7\n",
    "## Segmentation par seuillage\n",
    "\n",
    "La segmentation d'une image consiste à identifier des classes de pixels suivant certains critères.\n",
    "\n",
    "Par exemple dans l'image `tomates.bmp`, on constate que le fond est nettement plus sombre que les tomates, et on peut choisir comme critère un seuil d'intensité $s$ :\n",
    "un pixel donné appartient à la classe **fond** si sa valeur est inférieure à $s$, et à la classe **tomate** sinon.\n",
    "\n",
    "* Visualiser l'histogramme de l'image `tomates.bmp` et identifier une valeur plausible du seuil $s$ qui permette de séparer le fond des tomates.\n",
    "\n",
    "* Dans la cellule ci-dessous implémenter la fonction `threshold` suivante :\n",
    "\n",
    "$ T(p) =\n",
    "\\left\\lbrace\n",
    "\\begin{array}{ccc}\n",
    "      255 & \\text{si} & p > s,\\\\\n",
    "      0 & \\text{sinon.}\n",
    "\\end{array}\n",
    "\\right.\n",
    "$  \n",
    "Vous pouvez la tester de la façon suivante, en faisant varier le seuil $s$ autour de la valeur que vous avez évaluée précédemment.\n",
    "\n",
    "* Dans le même esprit que le TP précédent, vous pouvez créer un masque puis utiliser le produit entre deux `numpy.ndarray` pour afficher les tomates sans le fond, ou le fond sans les tomates :\n",
    "\n",
    "* Il y a un message caché dans le fond de l'image `tomates.bmp` saurez-vous le rendre clairement visible ?"
   ]
  },
  {
   "cell_type": "code",
   "execution_count": null,
   "metadata": {
    "colab": {
     "base_uri": "https://localhost:8080/",
     "height": 2192
    },
    "executionInfo": {
     "elapsed": 3298,
     "status": "ok",
     "timestamp": 1696239517426,
     "user": {
      "displayName": "Marek Bucki",
      "userId": "12894677198130453404"
     },
     "user_tz": -120
    },
    "id": "E63d-Tn3G7jo",
    "outputId": "bb8023f4-2297-4e58-882c-7b1afa6bd737"
   },
   "outputs": [],
   "source": [
    "# Charger et afficher l'image\n",
    "img = load_and_show_image('./tomates.bmp', title='Tomates')\n",
    "\n",
    "# Afficher l'histogramme\n",
    "show_histogram(img, title='Histogramme de Tomates')\n",
    "\n",
    "# Fonction de seuillage\n",
    "def threshold(img, s):\n",
    "    img_th = copy(img)\n",
    "    for i in range(img.shape[0]):\n",
    "        for j in range(img.shape[1]):\n",
    "            if img[i,j] > s:\n",
    "                img_th[i,j] = 255\n",
    "            else:\n",
    "                img_th[i,j] = 0\n",
    "    return img_th\n",
    "\n",
    "# Appliquer un seuillage\n",
    "# A COMPLETER\n",
    "img_2 = threshold(img, 50)\n",
    "show_image(img_2, title='Seuillage(Tomates)')\n",
    "\n",
    "# Afficher les tomates sans le fonds.\n",
    "# A COMPLETER\n",
    "img_3 = img * (img_2 / 255)\n",
    "        \n",
    "show_image(img_3, title='Tomates sans le fonds')\n",
    "\n",
    "# Afficher le fonds sans les tomates\n",
    "# A COMPLETER\n",
    "img_4 = img - img_3\n",
    "show_image(img_4, title='Le fonds sans les tomates')\n",
    "\n",
    "# A COMPLETER : Chercher le message caché dans le fonds.\n"
   ]
  },
  {
   "cell_type": "code",
   "execution_count": null,
   "metadata": {},
   "outputs": [],
   "source": [
    "plt.figure();plt.imshow(img_4, vmin=0, vmax=30, cmap='gray')\n",
    "h = np.zeros(256,dtype=int)\n",
    "for p in img_4.flatten():\n",
    "    h[int(p)] += 1\n",
    "H = np.zeros(256)\n",
    "H[0] = h[0]\n",
    "for i in range(1,256):\n",
    "    H[i] = h[int(i)] + H[i-1]\n",
    "MN = img_4.flatten().shape[0]\n",
    "lut = H * 255 / MN\n",
    "\n",
    "egal_4 = np.zeros_like(img_4)\n",
    "for i in range(egal_4.shape[0]):\n",
    "    for j in range(egal_4.shape[1]):\n",
    "        egal_4[i,j] = lut[int(img_4[i,j])]\n",
    "\n",
    "show_image(egal_4, title='Le fonds sans les tomates')\n",
    "\n",
    "_ = show_histogram(egal_4, cumulative=True, title='Histogramme CUMULE apres \\\n",
    "egalisation')\n",
    "\n"
   ]
  }
 ],
 "metadata": {
  "colab": {
   "authorship_tag": "ABX9TyOBIjF1zei/HKwQxEuWTd6G",
   "mount_file_id": "1AqqQwhrscWRDGIsA2UZt4uYs0PbnY4BU",
   "provenance": []
  },
  "kernelspec": {
   "display_name": "Python 3 (ipykernel)",
   "language": "python",
   "name": "python3"
  },
  "language_info": {
   "codemirror_mode": {
    "name": "ipython",
    "version": 3
   },
   "file_extension": ".py",
   "mimetype": "text/x-python",
   "name": "python",
   "nbconvert_exporter": "python",
   "pygments_lexer": "ipython3",
   "version": "3.12.3"
  }
 },
 "nbformat": 4,
 "nbformat_minor": 4
}
