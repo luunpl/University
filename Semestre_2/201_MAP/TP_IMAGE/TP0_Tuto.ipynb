{
 "cells": [
  {
   "cell_type": "markdown",
   "metadata": {
    "id": "A6K8-MmChCGo"
   },
   "source": [
    "# Introduction à Python\n",
    "\n",
    "## Motivation\n",
    "Python est probablement l'outil le plus utilisé dans le monde des maths applis. Gratuit, polyvalent, fort d'une énorme communauté de développeurs et d'utilisateurs c'est la 'go to' plateforme pour réaliser vos projets. Etre à l'aise en Python est un atout essentiel pour vos études et votre carrière.\n",
    "\n",
    "Dans ce TP nous allons présenter les concepts essentiels du langage dont vous aurez besoin au cours des TPs suivants.\n",
    "\n",
    "## Avertissement\n",
    "\n",
    "Python est un langage très facile d'abord (ce qui explique son succès) MAIS :\n",
    "1. Cette facilité à un prix : il est en effet très facile de faire n'importe quoi... si on ne réflechit pas bien à ce qu'on est en train de coder. **Commencez par travailler avec papier + crayon avant de vous jeter sur le clavier !**\n",
    "2. Sous ce vernis se cache tout un monde de concepts puissants qui méritent d'être explorés si vous souhaitez comprendre des codes avancés ou créer des outils de haut niveau.\n",
    "\n",
    "## Notebook\n",
    "\n",
    "Ce TP s'execute dans un 'Notebook' Jupyter / Colab, qui est un environnement interactif permettant d'enchaîner des cellules de texte (markdown + latex pour les formules maths), et des cellules de code Python.\n",
    "\n",
    "Les cellules de code doivent être exécutées pour que le code soit pris en compte. Le résultat de l'exécution (ou bien l'erreur !) apparaît alors juste en dessous.\n",
    "\n",
    "Il y a d'autres aspects de mise en route d'un Notebook mais nous verrons tout cela au moment des TPs.\n",
    "\n",
    "## Structure du TP\n",
    "\n",
    "Chaque § de présentation est accompagné de code que vous pouvez exécuter dans les cellules. N'hésitez pas à modifier le code et chercher les limites du langage et de votre compréhension :-)\n",
    "\n",
    "Parmi les sujets listés ci-dessous, certains sont marqués comme optionnels avec la balise \"(OPT)\". Une connaissance de ces sujets n'est pas indispensable à la réussite des TPs et ces questions pourront être abordées plus tard lorsque vous souhaiterez approfondir votre connaissance de Python ou bien développer votre aisance avec les codes disponibles sur internet (qui bien souvent utilisent les spécificités du langage pour plus de concision ou plus de performance).\n",
    "\n",
    "Sujets abordés:\n",
    "1. Introduction générale\n",
    "2. Fonctions mathématiques de base\n",
    "3. La librairie Numpy\n",
    "4. Boucles for\n",
    "5. (OPT) : Syntaxe de 'list comprehension'\n",
    "6. Tests et valeurs booléennes\n",
    "7. Nombres aléatoires\n",
    "8. Fonctions\n",
    "9. (OPT) : Espaces de nommage des variables (namespaces)\n",
    "10. (OPT) : Notion de dictionnaire\n",
    "11. Listes et tuples\n",
    "12. Slicing de tableaux et listes\n",
    "13. Visualisation de données scientifiques\n",
    "14. Exercices : à vous de jouer !"
   ]
  },
  {
   "cell_type": "markdown",
   "metadata": {
    "id": "20AtUT-njPNe",
    "jp-MarkdownHeadingCollapsed": true
   },
   "source": [
    "# Introduction générale"
   ]
  },
  {
   "cell_type": "code",
   "execution_count": 66,
   "metadata": {
    "colab": {
     "base_uri": "https://localhost:8080/",
     "height": 35
    },
    "id": "XkMLqBzbwTc2",
    "outputId": "c3bbf5da-7528-489a-bdd9-8293eace245d"
   },
   "outputs": [
    {
     "data": {
      "text/plain": [
       "'\\nOn peut écrire un commentaire sur plusieurs ligne en utilisant les\\ntriple guillemets\\n'"
      ]
     },
     "execution_count": 66,
     "metadata": {},
     "output_type": "execute_result"
    }
   ],
   "source": [
    "# Ceci est une ligne de commentaire\n",
    "\n",
    "\"\"\"\n",
    "On peut écrire un commentaire sur plusieurs ligne en utilisant les\n",
    "triple guillemets\n",
    "\"\"\"\n",
    "\n",
    "# La ligne verticale blanche qui apparaît dans les cellules vous incite\n",
    "# simplement à ne pas écrire de lignes trop longues pour que des choses\n",
    "# importantes ne soient pas vues sur l'écran ...\n",
    "\n",
    "# Nous vous demandons de RESPECTER cette recommandation car si vous\n",
    "# convertissez en PDF votre Notebook, les lignes trop longues seront coupées..."
   ]
  },
  {
   "cell_type": "markdown",
   "metadata": {
    "id": "vV3oEfRbbRys"
   },
   "source": [
    "**IMPORTANT**\n",
    "\n",
    "Commentez votre code !\n",
    "\n",
    "Vous rendrez service :\n",
    "- à vos partenaires de TP\n",
    "- à vos correcteurs\n",
    "- à vous même quelques jours, semaines ou mois dans le futur\n",
    "\n",
    "Plutot que de redire ce que fait l'instruction commentée (sauf si ca n'est pas évident) expliquez _pourquoi_ elle le fait."
   ]
  },
  {
   "cell_type": "code",
   "execution_count": 67,
   "metadata": {
    "colab": {
     "base_uri": "https://localhost:8080/",
     "height": 70
    },
    "id": "SsY2epcS0RER",
    "outputId": "d919984e-c7e7-4f18-8f0a-00ca59fecb47"
   },
   "outputs": [
    {
     "name": "stdout",
     "output_type": "stream",
     "text": [
      "Comme ceci\n",
      "Comme cela\n",
      "Victor Hugo a dit \"La forme c'est le fond qui remonte à la surface\".\n"
     ]
    }
   ],
   "source": [
    "# Pour ecrire du texte, on peut utiliser les simples quotes ' (apostrophes)\n",
    "print('Comme ceci')\n",
    "\n",
    "# ou bien les doubles quotes \" (guillemets)\n",
    "print(\"Comme cela\")\n",
    "\n",
    "# .. ce qui permet de les mélanger. En cas de conflit utiliser \\' ou \\\"\n",
    "print('Victor Hugo a dit \"La forme c\\'est le fond qui remonte à la surface\".')"
   ]
  },
  {
   "cell_type": "code",
   "execution_count": 68,
   "metadata": {
    "colab": {
     "base_uri": "https://localhost:8080/",
     "height": 70
    },
    "id": "Z3o1Tulwjsfn",
    "is_executing": true,
    "outputId": "4f50111a-3416-4c38-926b-9e2ec43b2f5b"
   },
   "outputs": [
    {
     "name": "stdout",
     "output_type": "stream",
     "text": [
      "7\n",
      "60 17\n",
      "a/b= 2.4\n"
     ]
    }
   ],
   "source": [
    "# Python est un langage intuitif\n",
    "a = 12\n",
    "b = 5\n",
    "print(a-b)\n",
    "print(a*b, a+b)\n",
    "print(f'a/b= {a/b}')  # Un commentaire peut également suivre une instruction\n",
    "\n",
    "# Notez le formattage du texte à l'aide de f'Truc à afficher= {mon_truc}'"
   ]
  },
  {
   "cell_type": "markdown",
   "metadata": {
    "id": "ViKnHN5ymgPi"
   },
   "source": [
    "La convention de nommage des variables et des fonctions de Python est le 'snake case'. https://fr.wikipedia.org/wiki/Snake_case\n",
    "\n",
    "Exemples :\n",
    "- nom_de_variable\n",
    "- x\n",
    "- root_x\n",
    "- epsilon\n",
    "\n",
    "Le standard PEP8 définit l'ensemble des recommandations de style en Python (https://peps.python.org/pep-0008/) ce qui présente l'avantage d'éviter les disputes d'esthètes.\n",
    "\n",
    "Nous vous encourageons à utilser des nos de **variables** et de **fonctions** en ANGLAIS car c'est le langage le plus utilisé et la plupart des ressources que vous trouverez seront en anglais, et cela vous preparera à travailler dans un environnement international.\n",
    "\n",
    "Evitez les nommages de ce genre :\n",
    "`mon_resultat = 1.25`\n",
    "\n",
    "Et surtout les mélanges explosifs :\n",
    "`my_old_resultat_from_hier = 0.625`\n",
    "\n",
    "Les commentaires peuvent être en français ou en anglais (mais idem, pas de mélanges), de même pour les textes dans les sorties des cellules (outputs).\n",
    "\n",
    "**IMPORTANT**\n",
    "1. Un mauvais nommage de variables peut causer des bugs difficiles à corriger.\n",
    "2. Choisissez des noms de variables EXPLICITES.\n",
    "3. Les abbreviations sont autorisees si elles sont EVIDENTES.\n",
    "4. Si vous manipulez des unités physiques, n'hésitez pas inclure l'unité dans le nom de la variable, p.ex. `flux_l_m2_s = 1.23` pour indiquer un flux exprimé en litres par mètre carré par seconde."
   ]
  },
  {
   "cell_type": "code",
   "execution_count": 69,
   "metadata": {
    "colab": {
     "base_uri": "https://localhost:8080/",
     "height": 35
    },
    "id": "qm2DmtlSjsXj",
    "outputId": "3335e410-bf27-46c9-f704-58794cec197b"
   },
   "outputs": [
    {
     "name": "stdout",
     "output_type": "stream",
     "text": [
      "Coucou Monde !\n"
     ]
    }
   ],
   "source": [
    "# Python offre des operateurs simples permettant\n",
    "# de manipuler des objets de 'haut niveau'\n",
    "texte_1 = \"Coucou\"\n",
    "texte_2 = ' '\n",
    "texte_3 = 'Monde'\n",
    "print(texte_1+texte_2+texte_3+' !')"
   ]
  },
  {
   "cell_type": "code",
   "execution_count": 70,
   "metadata": {
    "colab": {
     "base_uri": "https://localhost:8080/",
     "height": 52
    },
    "id": "imAIAOxpjsNg",
    "outputId": "ca9f0fd3-01c0-41b0-84fe-db7802a4b938"
   },
   "outputs": [
    {
     "name": "stdout",
     "output_type": "stream",
     "text": [
      "La longueur de Coucou est 6\n",
      "\"Monde\" est du type <class 'str'>\n"
     ]
    }
   ],
   "source": [
    "# La fonction len() permet de calculer la longueur d'une string ... et d'autres\n",
    "# objets aussi (listes)\n",
    "print(f'La longueur de {texte_1} est {len(texte_1)}')\n",
    "\n",
    "# NB: la syntaxe du print(f'...{XX}....{YY}') permettant de formatter facilement\n",
    "# une ligne de texte pour ecrire le contenu des objets (potentiellement\n",
    "# complexes) XX et YY\n",
    "\n",
    "# L'instruction print est tres pratique pour explorer le contenu ou le\n",
    "# type d'un objet, à l'aide de l'instruction 'type()'\n",
    "print(f'\"{texte_3}\" est du type {type(texte_3)}')"
   ]
  },
  {
   "cell_type": "markdown",
   "metadata": {
    "id": "ekLN5u9nq_k_"
   },
   "source": [
    "Bien entendu vous pouvez définir vos propres fonctions. Vous en définirez beaucoup lors des TPs.\n",
    "\n",
    "Le sujet des fonctions est davantage développé un peu plus bas."
   ]
  },
  {
   "cell_type": "code",
   "execution_count": 71,
   "metadata": {
    "colab": {
     "base_uri": "https://localhost:8080/",
     "height": 17
    },
    "id": "sJGWlvCurHGz",
    "outputId": "723c2fcd-e5c5-4597-da8a-5cbaa5de5e4f"
   },
   "outputs": [],
   "source": [
    "# Exemple de fonction\n",
    "def print_truc(truc):\n",
    "    print(f\"On m'a demande de printer un truc, que voici: {truc}.\")"
   ]
  },
  {
   "cell_type": "code",
   "execution_count": 72,
   "metadata": {
    "colab": {
     "base_uri": "https://localhost:8080/",
     "height": 70
    },
    "id": "91almku1rWWp",
    "outputId": "b0337c50-f2af-4bee-ba36-c7909e4b3b51"
   },
   "outputs": [
    {
     "name": "stdout",
     "output_type": "stream",
     "text": [
      "On m'a demande de printer un truc, que voici: 42.\n",
      "On m'a demande de printer un truc, que voici: Bonjour.\n",
      "On m'a demande de printer un truc, que voici: <function print_truc at 0x72875856a2a0>.\n"
     ]
    }
   ],
   "source": [
    "# NB: si vous executez cette cellule AVANT d'avoir execute la cellule au dessus\n",
    "# la fonction print_truc sera inconnue de l'interpreteur ... (-> erreurs !)\n",
    "\n",
    "# Cette fonction peut etre appelee avec n'importe quel type de parametre\n",
    "print_truc(42)\n",
    "print_truc('Bonjour')\n",
    "print_truc(print_truc)  # No limit."
   ]
  },
  {
   "cell_type": "markdown",
   "metadata": {
    "id": "CKPp4-jB5lj-"
   },
   "source": [
    "L'instruction `print()` sera votre meilleure alliée si vous ne comprenez pas ce qui se passe dans votre code car elle permet d'inspecter en détail les variables que vous manipulez."
   ]
  },
  {
   "cell_type": "markdown",
   "metadata": {
    "id": "vSGwoPAJr6-D",
    "jp-MarkdownHeadingCollapsed": true
   },
   "source": [
    "# Fonctions mathématiques de base"
   ]
  },
  {
   "cell_type": "markdown",
   "metadata": {
    "id": "zPHWDqlo2aKN"
   },
   "source": [
    "Les fonctions mathématiques de base sont dans le module 'math', qu'il faut importer avant de l'utiliser."
   ]
  },
  {
   "cell_type": "code",
   "execution_count": 73,
   "metadata": {
    "colab": {
     "base_uri": "https://localhost:8080/",
     "height": 106
    },
    "id": "r3mF0Ex7sAKe",
    "outputId": "cf252e05-ff82-425e-b463-e604a82932e5"
   },
   "outputs": [
    {
     "name": "stdout",
     "output_type": "stream",
     "text": [
      "1.4142135623730951\n",
      "-6.907755278982137\n",
      "6.907755278982137\n",
      "2.718281828459045\n",
      "1.0\n"
     ]
    }
   ],
   "source": [
    "import math  # Cette instruction importe dans le code courant toutes les\n",
    "# fonctions du module math\n",
    "\n",
    "# Pour les utiliser il faut les prefixer avec '<nom du module>.',\n",
    "# ici 'math.'\n",
    "print(math.sqrt(2))\n",
    "print(math.log(0.001))\n",
    "print(abs(math.log(0.001)))  # Valeur abs. accessible sans invoquer math.\n",
    "print(math.exp(1))\n",
    "print(math.log(math.exp(1)))"
   ]
  },
  {
   "cell_type": "code",
   "execution_count": 74,
   "metadata": {
    "colab": {
     "base_uri": "https://localhost:8080/",
     "height": 229
    },
    "id": "mqUTDu0Etkvr",
    "outputId": "c3384ac0-a2ab-4347-d010-85335a58c63f"
   },
   "outputs": [
    {
     "name": "stdout",
     "output_type": "stream",
     "text": [
      "range(0, 5) contient 5 elements, que voici\n",
      "0\n",
      "1\n",
      "2\n",
      "3\n",
      "4\n",
      "\n",
      "r2= range(3, 7), et contient les 4 éléments suivants\n",
      "3\n",
      "4\n",
      "5\n",
      "6\n"
     ]
    }
   ],
   "source": [
    "# La fonction range permet de generer un intervalle de valeurs entieres ou\n",
    "# flottantes. Elle sera utilisee dans les boucles (voir plus loin)\n",
    "r1 = range(5)\n",
    "print(f'{r1} contient {len(r1)} elements, que voici')\n",
    "for i in r1:\n",
    "  print(i)\n",
    "\n",
    "print()  # Ligne vide dans l'output... pour plus de clarté\n",
    "\n",
    "# Intervalle fermé [a, b]\n",
    "a = 3\n",
    "b = 6\n",
    "r2 = range(a, b+1)  # La borne superieure n'est PAS ATTEINTE : decaler de +1\n",
    "print(f'r2= {r2}, et contient les {len(r2)} éléments suivants')\n",
    "for i in r2:\n",
    "  print(i)"
   ]
  },
  {
   "cell_type": "markdown",
   "metadata": {},
   "source": [
    "# La librairie Numpy"
   ]
  },
  {
   "cell_type": "markdown",
   "metadata": {},
   "source": [
    "Pour manipuler des objets mathématiques il est plus naturel d'utiliser les structures de données fournies par cette librairie.\n",
    "\n",
    "Il est très facile de passer d'une liste Python à un tableau Numpy (et vice versa). Ces structures sont donc largement compatibles.\n",
    "\n",
    "Outre les structures de données, numpy définit un grand nombre d'opérateurs et de fonctions mathématiques très pratiques."
   ]
  },
  {
   "cell_type": "code",
   "execution_count": 75,
   "metadata": {},
   "outputs": [
    {
     "name": "stdout",
     "output_type": "stream",
     "text": [
      "Au début la variable a contient un <class 'list'>\n",
      "Maintenant la variable a contient un <class 'numpy.ndarray'>\n",
      "\n",
      "Et maintenant, grace a numpy :\n",
      "\t[1 2 3] + [4 5 6] = [5 7 9]\n",
      "\t2 * [1 2 3]  = [2 4 6]\n",
      "\t[1 2 3] * [4 5 6]  = [ 4 10 18]\n",
      "\n",
      "\tcos([1 2 3])  = [ 0.54030231 -0.41614684 -0.9899925 ]\n"
     ]
    }
   ],
   "source": [
    "# Commencons par importer la librairie mais en lui attribuant un alias 'np'\n",
    "# C'est une bonne pratique courante qui permet d'invoquer explicitement un\n",
    "# opérateur de numpy (en cas de conflit de noms de fonctions)\n",
    "import numpy as np\n",
    "\n",
    "# Reprenons nos listes précédentes\n",
    "a = [1, 2, 3]\n",
    "b = [4, 5, 6]\n",
    "print(f'Au début la variable a contient un {type(a)}')\n",
    "\n",
    "# .. et convertissons les en numpy.ndarrays\n",
    "a = np.array([1, 2, 3])  # L'ancienne variable est remplacée par la nouvelle\n",
    "b = np.array([4, 5, 6])  # idem\n",
    "print(f'Maintenant la variable a contient un {type(a)}')\n",
    "print()\n",
    "\n",
    "# Voyons la différence pour les deux opérateurs + et *\n",
    "print('Et maintenant, grace a numpy :')\n",
    "print(f'\\t{a} + {b} = {a + b}')\n",
    "print(f'\\t2 * {a}  = {2*a}')\n",
    "print(f'\\t{a} * {b}  = {a*b}')\n",
    "print()\n",
    "\n",
    "\n",
    "# Attention le produit * multiplie les deux tableaux terme a terme\n",
    "# Il ne s'agit pas d'un PRODUIT MATRICIEL !\n",
    "#\n",
    "# Voir les cellules ci-dessous pour des exemples d'opérateurs\n",
    "# d'algèbre linéaire\n",
    "\n",
    "\n",
    "# Et pour une fonction de plus haut niveau\n",
    "print(f'\\tcos({a})  = {np.cos(a)}')"
   ]
  },
  {
   "cell_type": "code",
   "execution_count": 76,
   "metadata": {},
   "outputs": [
    {
     "name": "stdout",
     "output_type": "stream",
     "text": [
      "Liste 2d=\n",
      "[[1, 2, 3], [4, 5, 6], [7, 8, 9]]\n",
      "\n",
      "Array 2d=\n",
      "[[1 2 3]\n",
      " [4 5 6]\n",
      " [7 8 9]]\n",
      "\n",
      "Cos of array 2d=\n",
      "[[ 0.54030231 -0.41614684 -0.9899925 ]\n",
      " [-0.65364362  0.28366219  0.96017029]\n",
      " [ 0.75390225 -0.14550003 -0.91113026]]\n"
     ]
    }
   ],
   "source": [
    "# Numpy affiche les matrices de manière plus naturelle que des listes\n",
    "# Python a 2 dimensions\n",
    "\n",
    "# Exemple d'une liste Python 2d\n",
    "a = [[1, 2, 3],\n",
    "     [4, 5, 6],\n",
    "     [7, 8, 9]]\n",
    "print(f'Liste 2d=\\n{a}')\n",
    "print()\n",
    "\n",
    "# Avec numpy\n",
    "npa = np.array(a)\n",
    "print(f'Array 2d=\\n{npa}')\n",
    "# Ici, le saut à la ligne \\n permet d'aller a la ligne pour conserver\n",
    "# l'alignement des cellules\n",
    "print()\n",
    "\n",
    "# Le formattage se fait bien meme avec des valeurs flottantes\n",
    "cos_npa = np.cos(npa)\n",
    "print(f'Cos of array 2d=\\n{cos_npa}')"
   ]
  },
  {
   "cell_type": "code",
   "execution_count": 77,
   "metadata": {},
   "outputs": [
    {
     "name": "stdout",
     "output_type": "stream",
     "text": [
      "\"sum\" fait la somme colonne par colonne et renvoie le \"vecteur\" ligne [12 15 18].\n",
      "\n",
      "\"np.sum(npa)\" fait la somme de TOUS les termes et renvoie le scalaire 45.\n"
     ]
    }
   ],
   "source": [
    "# Attention aux differences subtiles entre operateurs natifs et numpy\n",
    "npa = np.array([[1, 2, 3],\n",
    "                [4, 5, 6],\n",
    "                [7, 8, 9]])\n",
    "\n",
    "print(f'\"sum\" fait la somme colonne par colonne et renvoie '\n",
    "      f'le \"vecteur\" ligne {sum(npa)}.')\n",
    "print()\n",
    "\n",
    "print(f'\"np.sum(npa)\" fait la somme de TOUS les termes et renvoie '\n",
    "      f'le scalaire {np.sum(npa)}.')"
   ]
  },
  {
   "cell_type": "code",
   "execution_count": 78,
   "metadata": {},
   "outputs": [
    {
     "name": "stdout",
     "output_type": "stream",
     "text": [
      "Les dimensions sont (2, 3), soit 2 lignes x 3 colonnes\n"
     ]
    }
   ],
   "source": [
    "# Les dimensions d'un ndarray de numpy sont données par le tuble 'shape'\n",
    "\n",
    "# Dimensions d'un tableau\n",
    "npa = np.array([[1, 2, 3],\n",
    "                [4, 5, 6]])\n",
    "\n",
    "print(f'Les dimensions sont {npa.shape}, soit '\n",
    "      f'{npa.shape[0]} lignes x {npa.shape[1]} colonnes')"
   ]
  },
  {
   "cell_type": "code",
   "execution_count": 79,
   "metadata": {},
   "outputs": [
    {
     "name": "stdout",
     "output_type": "stream",
     "text": [
      "Zeros=\n",
      "[[0. 0.]\n",
      " [0. 0.]\n",
      " [0. 0.]]\n",
      "\n",
      "Ones=\n",
      "[[1. 1. 1. 1. 1. 1. 1.]\n",
      " [1. 1. 1. 1. 1. 1. 1.]]\n",
      "\n",
      "No init=\n",
      "[[-0.         -3.        ]\n",
      " [85.51388889 11.        ]]\n",
      "\n"
     ]
    }
   ],
   "source": [
    "# Numpy permet d'initialiser des tableaux a partir de dimensions connues\n",
    "\n",
    "# Tableau de 0\n",
    "zeros = np.zeros((3, 2))\n",
    "print(f'Zeros=\\n{zeros}')\n",
    "print()\n",
    "\n",
    "# Tableau de 1\n",
    "ones = np.ones((2, 7))\n",
    "print(f'Ones=\\n{ones}')\n",
    "print()\n",
    "\n",
    "# Tableau non initialisé (reserve la mémoire)\n",
    "no_init = np.empty((2, 2))\n",
    "print(f'No init=\\n{no_init}')\n",
    "print()"
   ]
  },
  {
   "cell_type": "code",
   "execution_count": 80,
   "metadata": {},
   "outputs": [
    {
     "name": "stdout",
     "output_type": "stream",
     "text": [
      "a= [1 2 3]\n",
      "b= [4 5 6]\n",
      "\n",
      "a_bT=\n",
      "[[ 4  5  6]\n",
      " [ 8 10 12]\n",
      " [12 15 18]]\n",
      "\n",
      "Id_3=\n",
      "[[1. 0. 0.]\n",
      " [0. 1. 0.]\n",
      " [0. 0. 1.]]\n",
      "\n",
      "D=\n",
      "[[-1.  5.  6.]\n",
      " [ 8.  5. 12.]\n",
      " [12. 15. 13.]]\n",
      "\n",
      "|D|= 675.0000000000002\n",
      "\n",
      "D_inv=\n",
      "[[-0.17037037  0.03703704  0.04444444]\n",
      " [ 0.05925926 -0.12592593  0.08888889]\n",
      " [ 0.08888889  0.11111111 -0.06666667]]\n",
      "\n",
      "|D_inv|= 0.001481481481481481\n",
      "|D_inv|*|D|= 1.0\n",
      "\n",
      "D_inv*D=\n",
      "[[ 1.00000000e+00  0.00000000e+00  2.77555756e-17]\n",
      " [ 2.77555756e-16  1.00000000e+00 -5.55111512e-17]\n",
      " [ 1.52655666e-16 -5.55111512e-17  1.00000000e+00]]\n"
     ]
    }
   ],
   "source": [
    "\"\"\"\n",
    "ATTENTION : les exemples dans cette cellule font appel à la notion de matrice\n",
    "=========== si vous n'êtes pas familiers avec cette notion vous pouvez passer\n",
    "            à la cellule suivante.\n",
    "\n",
    "            Vous pourrez revenir à cette cellule lorsque vous aurez besoin de\n",
    "            ces notions (notamment pour les TPs d'EDO).\n",
    "\"\"\"\n",
    "import numpy as np\n",
    "\n",
    "# Exemples d'opérations algébriques sur des matrices (tableaux) de numpy\n",
    "\n",
    "# Vecteur ligne a\n",
    "a = np.array([1, 2, 3])\n",
    "print(f'a= {a}')\n",
    "\n",
    "# Vecteur ligne b\n",
    "b = np.array([4, 5, 6])\n",
    "print(f'b= {b}')\n",
    "print()\n",
    "\n",
    "# Produit tensoriel a x b = (3x1 x (1x3) = matrice 3x3\n",
    "C = a_bT = np.outer(a, b)\n",
    "print(f'a_bT=\\n{a_bT}')\n",
    "print()\n",
    "\n",
    "# Matrice identite\n",
    "Id_3 = np.identity(3)\n",
    "print(f'Id_3=\\n{Id_3}')\n",
    "print()\n",
    "\n",
    "# D = C - 5*I\n",
    "D = C - 5*Id_3\n",
    "print(f'D=\\n{D}')\n",
    "print()\n",
    "\n",
    "# On touche maintenant aux limites des opérateurs conventionnels + et *\n",
    "#\n",
    "# Pour mettre en oeuvre l'algèbre linéaire sur des matrices il faut faire\n",
    "# appel au module 'linalg' de Numpy\n",
    "\n",
    "# Determinant : cette fonction se trouve dans 'linalg'\n",
    "print(f'|D|= {np.linalg.det(D)}')\n",
    "print()\n",
    "\n",
    "# Inverse de la matrice\n",
    "D_inv = np.linalg.inv(D)  # Attention : 1 / D, inverse les termes de la matrice\n",
    "print(f'D_inv=\\n{D_inv}')\n",
    "print()\n",
    "\n",
    "# Calcul du determinant de la matrice inverse, et verification\n",
    "print(f'|D_inv|= {np.linalg.det(D_inv)}')\n",
    "print(f'|D_inv|*|D|= {np.linalg.det(D)*np.linalg.det(D_inv)}')  # == 1\n",
    "print()\n",
    "\n",
    "# Calcul du produit de la matrice par son inverse, et verification\n",
    "print(f'D_inv*D=\\n{np.matmul(D, D_inv)}')  # == Id_3"
   ]
  },
  {
   "cell_type": "markdown",
   "metadata": {},
   "source": [
    "Le module numpy - que nous allons utiliser préférentiellement - fournit également les fonctions mathématiques de base que nous avons vues plus haut.\n",
    "\n",
    "Quelques exemples ci-dessous de leur utilisation."
   ]
  },
  {
   "cell_type": "code",
   "execution_count": 81,
   "metadata": {},
   "outputs": [
    {
     "name": "stdout",
     "output_type": "stream",
     "text": [
      "1.4142135623730951\n",
      "-6.907755278982137\n",
      "6.907755278982137\n",
      "2.718281828459045\n",
      "1.0\n"
     ]
    }
   ],
   "source": [
    "import numpy as np # Cette instruction importe dans le code courant toutes les\n",
    "# fonctions du module numpy et lui donne un nom 'alias' : np que nous allons\n",
    "# utiliser plus bas\n",
    "\n",
    "# Nous pouvons maintenant invoquer les fonctions mathématiques de numpy via cet alias\n",
    "print(np.sqrt(2))\n",
    "print(np.log(0.001))\n",
    "print(abs(np.log(0.001)))  # Valeur abs. accessible sans invoquer math.\n",
    "print(np.exp(1))\n",
    "print(np.log(np.exp(1)))"
   ]
  },
  {
   "cell_type": "markdown",
   "metadata": {},
   "source": [
    "De même pour la fonction range, dont l'équivalent numpy s'appelle `arange`."
   ]
  },
  {
   "cell_type": "code",
   "execution_count": 82,
   "metadata": {},
   "outputs": [
    {
     "name": "stdout",
     "output_type": "stream",
     "text": [
      "[0 1 2 3 4] contient 5 elements, que voici\n",
      "0\n",
      "1\n",
      "2\n",
      "3\n",
      "4\n",
      "\n",
      "r2= [3 4 5 6], et contient les 4 éléments suivants\n",
      "3\n",
      "4\n",
      "5\n",
      "6\n"
     ]
    }
   ],
   "source": [
    "import numpy as np \n",
    "\n",
    "# Equivalent à r1 = range(5)\n",
    "r1 = np.arange(5)\n",
    "print(f'{r1} contient {len(r1)} elements, que voici')\n",
    "for i in r1:\n",
    "  print(i)\n",
    "\n",
    "print()  # Ligne vide dans l'output... pour plus de clarté\n",
    "\n",
    "# Intervalle fermé [a, b]\n",
    "a = 3\n",
    "b = 6\n",
    "r2 = np.arange(a, b+1)  # La borne superieure n'est PAS ATTEINTE : decaler de +1\n",
    "print(f'r2= {r2}, et contient les {len(r2)} éléments suivants')\n",
    "for i in r2:\n",
    "  print(i)"
   ]
  },
  {
   "cell_type": "markdown",
   "metadata": {},
   "source": [
    "En plus de `arange`, numpy fournit la fonction `linspace` qui permet d'échantillonner un intervalle de valeurs flottantes.\n",
    "\n",
    "- Le 1er paramètre est le début de l'intervalle (atteint).\n",
    "- Le 2ème paramètre est la fin de l'intercalle (atteint aussi, cette fois).\n",
    "- Le 3ème paramètre est le nombre total de valeurs (en incluant les bornes de l'intervalle)."
   ]
  },
  {
   "cell_type": "code",
   "execution_count": 83,
   "metadata": {},
   "outputs": [
    {
     "name": "stdout",
     "output_type": "stream",
     "text": [
      "[ 1.    3.25  5.5   7.75 10.  ] contient 5 elements, que voici\n",
      "1.0\n",
      "3.25\n",
      "5.5\n",
      "7.75\n",
      "10.0\n",
      "\n",
      "[ 1.   1.9  2.8  3.7  4.6  5.5  6.4  7.3  8.2  9.1 10. ] contient 11 elements, que voici\n",
      "1.0\n",
      "1.9\n",
      "2.8\n",
      "3.7\n",
      "4.6\n",
      "5.5\n",
      "6.4\n",
      "7.3\n",
      "8.2\n",
      "9.1\n",
      "10.0\n"
     ]
    }
   ],
   "source": [
    "import numpy as np\n",
    "\n",
    "start = 1\n",
    "stop = 10\n",
    "nb_samples = 5\n",
    "sp1 = np.linspace(start, stop, nb_samples)\n",
    "print(f'{sp1} contient {len(sp1)} elements, que voici')\n",
    "for i in sp1:\n",
    "  print(i)\n",
    "\n",
    "print()\n",
    "\n",
    "# Et si on augmente le nombre d'échantillons\n",
    "nb_samples = 11\n",
    "sp2 = np.linspace(start, stop, nb_samples)\n",
    "print(f'{sp2} contient {len(sp2)} elements, que voici')\n",
    "for i in sp2:\n",
    "  print(i)"
   ]
  },
  {
   "cell_type": "markdown",
   "metadata": {
    "id": "uLka698TygIt"
   },
   "source": [
    "# Boucles for"
   ]
  },
  {
   "cell_type": "markdown",
   "metadata": {
    "id": "qmkdtIkK2VG7"
   },
   "source": [
    "Python propose une syntaxe qui permet de cacher les boucles for, c'est à dire tous les traitements itératifs.\n",
    "\n",
    "Mais :\n",
    "1. Ca n'est pas le cas de tous les langages, donc une habitude prise sous Python ne s'exportera pas bien p.ex. en C++\n",
    "2. Du point de vue pédagogique il est important de comprendre comment les opérateurs sont appliqués lors de boucles simples, doubles etc.\n",
    "\n",
    "Dans le TPs nous commencerons par des boucles explicites (pour bien comprendre ce qui se passe) puis nous adopterons une approche plus pythonesque : plus concise syntaxiquement et plus optimisée en termes de performance.\n",
    "\n",
    "Voir aussi : https://realpython.com/python-for-loop/"
   ]
  },
  {
   "cell_type": "code",
   "execution_count": 84,
   "metadata": {
    "colab": {
     "base_uri": "https://localhost:8080/",
     "height": 106
    },
    "id": "ptBQCQl7yihd",
    "outputId": "2efb6cdc-2173-4fe2-c609-7b27fac8c7dc"
   },
   "outputs": [
    {
     "name": "stdout",
     "output_type": "stream",
     "text": [
      "0\n",
      "1\n",
      "2\n",
      "3\n",
      "4\n"
     ]
    }
   ],
   "source": [
    "# Exemple de boucle deja vu plus haut\n",
    "for i in range(5):\n",
    "    print(i)  # NB: la partie du code répétée doit être indentée (1 tab ->)"
   ]
  },
  {
   "cell_type": "code",
   "execution_count": 85,
   "metadata": {
    "colab": {
     "base_uri": "https://localhost:8080/",
     "height": 123
    },
    "id": "3YgUmgJQz_cP",
    "outputId": "ffd96b48-0880-457a-f71f-102a7e2b7be0"
   },
   "outputs": [
    {
     "name": "stdout",
     "output_type": "stream",
     "text": [
      "Ici, i=0 et j=0\n",
      "Ici, i=0 et j=1\n",
      "Ici, i=1 et j=0\n",
      "Ici, i=1 et j=1\n",
      "Ici, i=2 et j=0\n",
      "Ici, i=2 et j=1\n"
     ]
    }
   ],
   "source": [
    "# Double boucle donc double indentation\n",
    "for i in range(3):\n",
    "    for j in range(2):\n",
    "        print(f'Ici, i={i} et j={j}')\n",
    "\n",
    "# Notez l'ordre d'affichage des indices\n",
    "\n",
    "# i est dit 'least varying index' ou 'indice le plus externe'\n",
    "# j est dit 'most varying index' ou 'indice le plus interne'"
   ]
  },
  {
   "cell_type": "code",
   "execution_count": 86,
   "metadata": {
    "colab": {
     "base_uri": "https://localhost:8080/",
     "height": 123
    },
    "id": "3fW-4PP31wvR",
    "outputId": "ec502a3c-1cf0-4193-ac94-1ae81b170b6e"
   },
   "outputs": [
    {
     "name": "stdout",
     "output_type": "stream",
     "text": [
      "Et maintenant, i=0 et j=0\n",
      "Et maintenant, i=1 et j=0\n",
      "Et maintenant, i=1 et j=1\n",
      "Et maintenant, i=2 et j=0\n",
      "Et maintenant, i=2 et j=1\n",
      "Et maintenant, i=2 et j=2\n"
     ]
    }
   ],
   "source": [
    "# La boucle interieure peut dependre de la boucle exterieure\n",
    "for i in range(3):\n",
    "    for j in range(i+1):\n",
    "        print(f'Et maintenant, i={i} et j={j}')"
   ]
  },
  {
   "cell_type": "code",
   "execution_count": 87,
   "metadata": {
    "colab": {
     "base_uri": "https://localhost:8080/",
     "height": 123
    },
    "id": "rbNYyOUh13Su",
    "outputId": "379c9873-8135-4215-d60e-94ea88cff9c9"
   },
   "outputs": [
    {
     "name": "stdout",
     "output_type": "stream",
     "text": [
      "Retro loop: 5\n",
      "Retro loop: 4\n",
      "Retro loop: 3\n",
      "Retro loop: 2\n",
      "Retro loop: 1\n",
      "Retro loop: 0\n"
     ]
    }
   ],
   "source": [
    "# Boucle retrograde avec un pas de -1\n",
    "# Commence a i=5 et s'arrete lorsque i=-1 donc la derniere valeur de i est i=0\n",
    "for i in range(5, -1, -1):\n",
    "    print(f'Retro loop: {i}')  # --> 5, 4, 3, 2, 1, 0"
   ]
  },
  {
   "cell_type": "code",
   "execution_count": 88,
   "metadata": {
    "colab": {
     "base_uri": "https://localhost:8080/",
     "height": 88
    },
    "id": "pINcb7kP2BCf",
    "outputId": "58856af8-d806-4f4d-e37b-15d0bc01bf2c"
   },
   "outputs": [
    {
     "name": "stdout",
     "output_type": "stream",
     "text": [
      "Retro loop: 6\n",
      "Retro loop: 4\n",
      "Retro loop: 2\n",
      "Retro loop: 0\n"
     ]
    }
   ],
   "source": [
    "# Boucle retrograde avec un pas de -2\n",
    "# Commence a i=6 et s'arrete lorsque i=-1 donc la derniere valeur de i est i=0\n",
    "for i in range(6, -1, -2):\n",
    "    print(f'Retro loop: {i}')  # --> 6, 4, 2, 0"
   ]
  },
  {
   "cell_type": "markdown",
   "metadata": {
    "id": "b0s1Phhj4xag",
    "jp-MarkdownHeadingCollapsed": true
   },
   "source": [
    "# (OPT) : Syntaxe de 'list comprehension'\n"
   ]
  },
  {
   "cell_type": "markdown",
   "metadata": {
    "id": "0G2sTewL42as"
   },
   "source": [
    "Cette syntaxe est une particularité de Python. Vous risquez de la rencontrer dans la nature donc voici comment la comprendre et l'utiliser."
   ]
  },
  {
   "cell_type": "code",
   "execution_count": 89,
   "metadata": {
    "colab": {
     "base_uri": "https://localhost:8080/",
     "height": 52
    },
    "id": "RTK8-1-I403v",
    "outputId": "ab536203-6d13-4a7d-b7a1-e533ce1d4527"
   },
   "outputs": [
    {
     "name": "stdout",
     "output_type": "stream",
     "text": [
      "a= [1, 2, 3, 4, 5, 6, 7]\n",
      "b= [2, 4, 6, 8, 10, 12, 14]\n"
     ]
    }
   ],
   "source": [
    "# Prenons une liste\n",
    "a = [1, 2, 3, 4, 5, 6, 7]  # Qu'on aurait pu également generer avec range(1, 8)\n",
    "\n",
    "# La ligne ci-dessous permet obtenir une liste qui contient\n",
    "# le double des valeurs de a\n",
    "b = [2*i for i in a]\n",
    "\n",
    "# Littéralement : la liste b contient 2*i pour i parcourant tout a\n",
    "\n",
    "print(f'a= {a}')\n",
    "print(f'b= {b}')"
   ]
  },
  {
   "cell_type": "code",
   "execution_count": 90,
   "metadata": {
    "colab": {
     "base_uri": "https://localhost:8080/",
     "height": 52
    },
    "id": "piz0V1mz6UJ_",
    "outputId": "447940c8-7763-4bf8-c884-1cc36f6e8489"
   },
   "outputs": [
    {
     "name": "stdout",
     "output_type": "stream",
     "text": [
      "a= [1, 2, 3, 4, 5, 6, 7]\n",
      "b= [1.0, 2.0, 3.0]\n"
     ]
    }
   ],
   "source": [
    "# En utilisant le meme a\n",
    "a = [1, 2, 3, 4, 5, 6, 7]\n",
    "\n",
    "# On peut egalement conditionner l'initialisation de b, de la maniere suivante\n",
    "b = [i/2 for i in a if i % 2 == 0]\n",
    "\n",
    "# b contient maintenant 1/2 de toutes les valeurs paires de a\n",
    "\n",
    "# La syntaxe ici est : [f(<x>) for <x> in <liste> if <condition>]\n",
    "\n",
    "print(f'a= {a}')\n",
    "print(f'b= {b}')"
   ]
  },
  {
   "cell_type": "code",
   "execution_count": 91,
   "metadata": {
    "colab": {
     "base_uri": "https://localhost:8080/",
     "height": 52
    },
    "id": "Eh_nwmYw66b1",
    "outputId": "205bf703-9e21-4c74-d3a9-be7d092a4e02"
   },
   "outputs": [
    {
     "name": "stdout",
     "output_type": "stream",
     "text": [
      "a= [1, 2, 3, 4, 5, 6, 7]\n",
      "b= [999, 1.0, 999, 2.0, 999, 3.0, 999]\n"
     ]
    }
   ],
   "source": [
    "# En utilisant le meme a\n",
    "a = [1, 2, 3, 4, 5, 6, 7]\n",
    "\n",
    "# Ici b aura autant d'éléments que a, définis par les conditions suivantes\n",
    "b = [i/2 if i % 2 == 0 else 999 for i in a]\n",
    "\n",
    "# b contient maintenant 1/2 de toutes les valeurs paires de a, et 999 lorsque\n",
    "# la valeur dans a est impaire\n",
    "\n",
    "# La syntaxe ici est : [f(<x>) if <condition> else g(<x>) for <x> in <liste>]\n",
    "\n",
    "print(f'a= {a}')\n",
    "print(f'b= {b}')"
   ]
  },
  {
   "cell_type": "markdown",
   "metadata": {
    "id": "046UkuWI2R54",
    "jp-MarkdownHeadingCollapsed": true
   },
   "source": [
    "# Tests et valeurs booléennes"
   ]
  },
  {
   "cell_type": "markdown",
   "metadata": {
    "id": "5nHp-pWs5MyO"
   },
   "source": [
    "Les 2 valeurs booléennes sont True et False.\n",
    "\n",
    "Les principaux opérateurs logiques sont : and, or, not.\n",
    "\n",
    "Voir aussi : https://realpython.com/lessons/introduction-and-python-if-statement/"
   ]
  },
  {
   "cell_type": "code",
   "execution_count": 92,
   "metadata": {
    "colab": {
     "base_uri": "https://localhost:8080/",
     "height": 35
    },
    "id": "BLu7955I2eLk",
    "outputId": "e6149c7a-99ab-4083-a007-8d48307d6892"
   },
   "outputs": [
    {
     "name": "stdout",
     "output_type": "stream",
     "text": [
      "Tout va bien\n"
     ]
    }
   ],
   "source": [
    "if 2 + 2 == 4:\n",
    "    print('Tout va bien')\n",
    "else:\n",
    "    print('Oops...')"
   ]
  },
  {
   "cell_type": "code",
   "execution_count": 93,
   "metadata": {
    "colab": {
     "base_uri": "https://localhost:8080/",
     "height": 35
    },
    "id": "aZ-1n3AV22Cb",
    "outputId": "48ff6f94-bf25-44f0-a604-719b3ec02629"
   },
   "outputs": [
    {
     "name": "stdout",
     "output_type": "stream",
     "text": [
      "On devrait voir ce message si test_ko est ko...\n"
     ]
    }
   ],
   "source": [
    "test_ok = True\n",
    "test_ko = False\n",
    "if not test_ko:\n",
    "  print('On devrait voir ce message si test_ko est ko...')\n",
    "elif test_ok:\n",
    "  print('Autre cas ici...')\n",
    "else:\n",
    "  print(\"Si rien n'a fonctionné plus haut.\")"
   ]
  },
  {
   "cell_type": "code",
   "execution_count": 94,
   "metadata": {
    "colab": {
     "base_uri": "https://localhost:8080/",
     "height": 35
    },
    "id": "56PDeKi54tcm",
    "outputId": "3295726b-9219-4d84-f0f4-e08075e32cb8"
   },
   "outputs": [
    {
     "name": "stdout",
     "output_type": "stream",
     "text": [
      "Ok\n"
     ]
    }
   ],
   "source": [
    "# Autre exemple\n",
    "yes = True\n",
    "no = False\n",
    "if yes and not no:\n",
    "    print('Ok')\n",
    "else:\n",
    "    print('Ko...')"
   ]
  },
  {
   "cell_type": "markdown",
   "metadata": {
    "id": "WUK1XLmx6SF9"
   },
   "source": [
    "# Nombres aléatoires"
   ]
  },
  {
   "cell_type": "markdown",
   "metadata": {
    "id": "P2pF8Qzq6UZ6"
   },
   "source": [
    "Les fonctions permettant de générer des nombres (pseudo) aléatoires, sont fournies par le module random, qu'il faut importer avant de l'utiliser."
   ]
  },
  {
   "cell_type": "code",
   "execution_count": 95,
   "metadata": {
    "colab": {
     "base_uri": "https://localhost:8080/",
     "height": 35
    },
    "id": "4mx7ZPkD6djN",
    "outputId": "7e152e9d-e679-4ab1-aa80-44e0c547798b"
   },
   "outputs": [
    {
     "name": "stdout",
     "output_type": "stream",
     "text": [
      "Tranche\n"
     ]
    }
   ],
   "source": [
    "import random\n",
    "\n",
    "# Genere de manière équiprobable un nombre entier entre 0 et 2, donc 0, 1 ou 2\n",
    "pile_face_tranche = random.randint(0, 2)\n",
    "\n",
    "# A chaque execution de cette cellule vous obtiendrez un résultat différent\n",
    "if pile_face_tranche == 0:\n",
    "    print('Pile')\n",
    "elif pile_face_tranche == 1:\n",
    "    print('Face')\n",
    "else:\n",
    "    print('Tranche')"
   ]
  },
  {
   "cell_type": "markdown",
   "metadata": {},
   "source": [
    "De même que pour les fonctions mathématiques, nous pouvons aussi utiliser la librairie numpy qui propose en général des fonctions plus avancées."
   ]
  },
  {
   "cell_type": "code",
   "execution_count": 96,
   "metadata": {},
   "outputs": [
    {
     "name": "stdout",
     "output_type": "stream",
     "text": [
      "1\n",
      "1\n",
      "0\n",
      "1\n",
      "2\n",
      "\n",
      "0.17499636867811297\n",
      "0.1964599087238068\n",
      "0.28384814164693606\n",
      "0.3687665267254071\n",
      "0.4727297865890562\n"
     ]
    }
   ],
   "source": [
    "import numpy as np\n",
    "\n",
    "# Genere de manière équiprobable un nombre entier entre 0 et 2, donc 0, 1 ou 2\n",
    "for i in range(5):\n",
    "    print(np.random.randint(3))  # randint utilise la logique de range: la dernière valeur n'est pas atteinte\n",
    "\n",
    "print()\n",
    "\n",
    "# On peut également générer des nombres réels entre 0.0 et 1.0\n",
    "for i in range(5):\n",
    "    print(np.random.rand())  # La probabilité d'obtenir exactement 0.0 ou 1.0 est ... nulle (ou presque)"
   ]
  },
  {
   "cell_type": "markdown",
   "metadata": {},
   "source": [
    "Il est également très facile de générer des tableaux (matrices) de valeurs aléatoires."
   ]
  },
  {
   "cell_type": "code",
   "execution_count": 97,
   "metadata": {},
   "outputs": [
    {
     "name": "stdout",
     "output_type": "stream",
     "text": [
      "[3 5 9]\n",
      "\n",
      "[[5 0 6 5 8 9 0 0 5 9]\n",
      " [7 1 0 6 3 2 4 0 1 9]\n",
      " [6 1 0 6 1 3 7 1 9 8]]\n",
      "\n",
      "[0.76681699 0.21632856 0.65109609 0.13443048 0.41877711]\n",
      "\n",
      "[[0.97614581 0.47620586]\n",
      " [0.67263803 0.53859393]\n",
      " [0.58496793 0.08866946]\n",
      " [0.33042746 0.80387586]\n",
      " [0.44158295 0.73554669]]\n"
     ]
    }
   ],
   "source": [
    "import numpy as np\n",
    "\n",
    "# Vecteur de nombres entiers aléatoires\n",
    "x = np.random.randint(10, size=(3))\n",
    "print(x)\n",
    "print()\n",
    "\n",
    "# Tableau de nombres entiers aléatoires\n",
    "y = np.random.randint(10, size=(3,10))\n",
    "print(y)\n",
    "print()\n",
    "\n",
    "# Vecteur de nombres réels aléatories\n",
    "z = np.random.rand(5)\n",
    "print(z)\n",
    "print()\n",
    "\n",
    "# Tableau de nombres réels aléatories\n",
    "w = np.random.rand(5, 2)\n",
    "print(w)"
   ]
  },
  {
   "cell_type": "markdown",
   "metadata": {
    "id": "wsTIBVVI73ek"
   },
   "source": [
    "# Fonctions"
   ]
  },
  {
   "cell_type": "code",
   "execution_count": 98,
   "metadata": {
    "colab": {
     "base_uri": "https://localhost:8080/",
     "height": 70
    },
    "id": "AFdZqQRx7595",
    "outputId": "b4d95c4a-06e1-4c4a-92d1-89941a9eeae8"
   },
   "outputs": [
    {
     "name": "stdout",
     "output_type": "stream",
     "text": [
      "Je ne prends aucun param et je ne renvoie rien\n",
      "Resultat 1= 6.623167437931569\n",
      "Resultat 2= 1006.6231674379316\n"
     ]
    }
   ],
   "source": [
    "# Une fonction peut prendre des parametres (ou pas)\n",
    "# et peut renvoyer une valeur (ou pas)\n",
    "\n",
    "# Aucun paramètre, aucune valeur de retour\n",
    "def no_param_no_return():\n",
    "    print('Je ne prends aucun param et je ne renvoie rien')\n",
    "\n",
    "\n",
    "# 3 paramètres dont un optionnel, et une valeur de retour\n",
    "def calcul_savant(x, y, z_optionnel=0):\n",
    "    ln_x = math.log(x)\n",
    "    sqrt_y = math.sqrt(y)\n",
    "    return ln_x*sqrt_y + z_optionnel\n",
    "\n",
    "# Appel de la fonction sans paramètres\n",
    "no_param_no_return()\n",
    "\n",
    "# Appel de la fonction avec paramètres\n",
    "print(f'Resultat 1= {calcul_savant(42, 3.14)}')\n",
    "print(f'Resultat 2= {calcul_savant(42, 3.14, 1000)}')\n",
    "\n",
    "# Les valeurs données aux paramètres s'appelent des 'arguments' (ou args)"
   ]
  },
  {
   "cell_type": "code",
   "execution_count": 99,
   "metadata": {
    "colab": {
     "base_uri": "https://localhost:8080/",
     "height": 52
    },
    "id": "4_DoaJ8u8mUp",
    "outputId": "a177b98c-7a2c-4526-de48-b7a48a046b10"
   },
   "outputs": [
    {
     "name": "stdout",
     "output_type": "stream",
     "text": [
      "17/5 = 3, reste 2\n",
      "100 modulo 99 = 1\n"
     ]
    }
   ],
   "source": [
    "# En python une fonction peut meme renvoyer plusieurs resultats!\n",
    "def euclidean_div(x, y):\n",
    "    # On suppose que y != 0\n",
    "    reste = x % y\n",
    "    quotient = (x - reste) / y\n",
    "    return int(quotient), reste\n",
    "    # Le quotient est converti en entier par l'instruction int(...)\n",
    "\n",
    "\n",
    "# On récupére les résultats multiples avec la syntaxe suivante\n",
    "q, r = euclidean_div(17, 5)\n",
    "print(f'17/5 = {q}, reste {r}')\n",
    "\n",
    "# Si on souhaite ignorer un résultat, une convention possible est de\n",
    "# l'assigner à une variable 'poubelle' notée '_'\n",
    "a = 100\n",
    "b = 99\n",
    "_, r = euclidean_div(a, b)\n",
    "print(f'{a} modulo {b} = {r}')"
   ]
  },
  {
   "cell_type": "markdown",
   "metadata": {
    "jp-MarkdownHeadingCollapsed": true
   },
   "source": [
    "# (OPT) : Espaces de nommage des variables (namespaces)"
   ]
  },
  {
   "cell_type": "markdown",
   "metadata": {
    "id": "2p2qhKbi9c_n"
   },
   "source": [
    "La modification des valeurs des paramètres par les fonctions en Python est un sujet délicat qui fait appel à la notion de namespace (espace de nommage). Une variable est soit dans le namespace global (visible de tous), soit dans le namespace local (vsibilité réduite à la fonction dans laquelle on se trouve).\n",
    "\n",
    "Les exemples ci-dessous illustrent ce comportement."
   ]
  },
  {
   "cell_type": "code",
   "execution_count": 100,
   "metadata": {
    "colab": {
     "base_uri": "https://localhost:8080/",
     "height": 35
    },
    "id": "a2fU-j1q-odo",
    "outputId": "e153b61d-f5a9-4a3f-e62c-8e14cda4cb86"
   },
   "outputs": [
    {
     "name": "stdout",
     "output_type": "stream",
     "text": [
      "Vous avez sans doute devine que fonc(7) = 30\n"
     ]
    }
   ],
   "source": [
    "# On peut definir une fonction a l'interieur d'une fonction en Python\n",
    "def fonc(x):\n",
    "    def sub_fonc(y):\n",
    "        return 3*y + 2\n",
    "    return x + sub_fonc(x)\n",
    "\n",
    "\n",
    "x = 7\n",
    "print(f'Vous avez sans doute devine que fonc({x}) = {fonc(x)}')"
   ]
  },
  {
   "cell_type": "code",
   "execution_count": 101,
   "metadata": {
    "colab": {
     "base_uri": "https://localhost:8080/",
     "height": 70
    },
    "id": "aW4__klS9wun",
    "outputId": "64024559-322a-457c-b20f-3c8522c86e04"
   },
   "outputs": [
    {
     "name": "stdout",
     "output_type": "stream",
     "text": [
      "12\n",
      "['hello', 'python']\n",
      "['hello', 'python', 'youpie']\n"
     ]
    }
   ],
   "source": [
    "# Les fonctions de python peuvent modifier les paramètres qui leur sont passés.\n",
    "# Mais ca n'est pas toujours le cas.\n",
    "\n",
    "# Si python peut travailler complètement sur une variable locale\n",
    "# (qui n'existera que dans la fonction appelée) alors il fera ce choix car cela\n",
    "# minimise les effets de bords (i.e. effets indésirables 'à distance')\n",
    "def no_change_int(x):\n",
    "    # Ici une variable locale x est cree et prend la valeur 3;\n",
    "    # le parametre x reste cependant inchange\n",
    "    x = 3\n",
    "\n",
    "\n",
    "def no_change_list(lst):\n",
    "    # Ici une liste locale est créée et initialisée; le paramètre reste inchangé\n",
    "    lst = ['abc']\n",
    "\n",
    "\n",
    "def yes_change_list(lst):\n",
    "    # Ici, en l'absence d'une déclaration de variable locale, c'est bien le\n",
    "    # paramètre en entrée qui est modifié par l'ajout d'un élément\n",
    "    lst.append('youpie')\n",
    "\n",
    "\n",
    "# a reste inchangé après l'appel de la fonction\n",
    "a = 12\n",
    "no_change_int(a)\n",
    "print(a)\n",
    "\n",
    "# b reste inchangee apres l'appel de la fonction\n",
    "b = ['hello', 'python']\n",
    "no_change_list(b)\n",
    "print(b)\n",
    "\n",
    "# c est MODIFIE par l'appel de la fonction\n",
    "c = ['hello', 'python']\n",
    "yes_change_list(c)\n",
    "print(c)"
   ]
  },
  {
   "cell_type": "code",
   "execution_count": 102,
   "metadata": {
    "colab": {
     "base_uri": "https://localhost:8080/",
     "height": 35
    },
    "id": "CLf5qfNq-84_",
    "outputId": "2f294fe3-8f13-481a-e522-12520962ad2e"
   },
   "outputs": [
    {
     "name": "stdout",
     "output_type": "stream",
     "text": [
      "42! = 1405006117752879898543142606244511569936384000000000\n"
     ]
    }
   ],
   "source": [
    "# Une fonction peut s'appeler elle-meme\n",
    "# Mais attention aux boucles infinies !\n",
    "def factorielle(n):\n",
    "    if n <= 1:\n",
    "        return 1\n",
    "    else:\n",
    "        return n*factorielle(n - 1)\n",
    "\n",
    "x = 42\n",
    "print(f'{x}! = {factorielle(x)}')"
   ]
  },
  {
   "cell_type": "markdown",
   "metadata": {
    "id": "GSDwTdkf_Zqk",
    "jp-MarkdownHeadingCollapsed": true
   },
   "source": [
    "# (OPT) : Notion de dictionnaire\n"
   ]
  },
  {
   "cell_type": "markdown",
   "metadata": {
    "id": "86yjCZq__b6L"
   },
   "source": [
    "Le dictionnaire est un concept clé du langage. Sans aller très loin dans sa compréhension, il est bon de comprendre ses usages principaux.\n",
    "\n",
    "Un dictionnaire (dict) est tout simplement une table clé-valeur (*key-value table*).\n",
    "\n",
    "Cette notion ne sera pas utilisée en TP mais elle est essentielle pour avoir un compréhension approfondie du langage.\n",
    "\n",
    "Voir aussi : https://realpython.com/python-kwargs-and-args/"
   ]
  },
  {
   "cell_type": "code",
   "execution_count": 103,
   "metadata": {
    "colab": {
     "base_uri": "https://localhost:8080/",
     "height": 229
    },
    "id": "HG6hMVzq_qmL",
    "outputId": "4c93645c-b87f-4b37-88d6-af0f3549d52a"
   },
   "outputs": [
    {
     "name": "stdout",
     "output_type": "stream",
     "text": [
      "Truc nr. 1\n",
      "Bidule nr. 2\n",
      "La reponse \"D\"\n",
      "\n",
      "Cles du dict: dict_keys([1, 2, 3, 'D'])\n",
      "\n",
      "Elements du dict: dict_items([(1, 'Truc nr. 1'), (2, 'Bidule nr. 2'), (3, 1.7320508075688772), ('D', 'La reponse \"D\"')])\n",
      "\n",
      "La cle 1 correspond a Truc nr. 1\n",
      "La cle 2 correspond a Bidule nr. 2\n",
      "La cle 3 correspond a 1.7320508075688772\n",
      "La cle D correspond a La reponse \"D\"\n"
     ]
    }
   ],
   "source": [
    "# Un dict peut contenur une collection hétéroclite d'objets...\n",
    "my_dict = {1: 'Truc nr. 1', 2: 'Bidule nr. 2',\n",
    "           3: math.sqrt(3), 'D': 'La reponse \"D\"'}\n",
    "\n",
    "# On utilise la clé (première valeur) pour accéder à la seconde valeur d'un\n",
    "# élément (item)\n",
    "print(my_dict[1])\n",
    "print(my_dict[2])\n",
    "print(my_dict['D'])\n",
    "print()  # Print vide pour aèrer le texte de sortie\n",
    "\n",
    "# Pour lister les clés (keys) d'un dict :\n",
    "print(f'Cles du dict: {my_dict.keys()}')\n",
    "print()\n",
    "\n",
    "# Pour lister les éléments (items) d'un dict :\n",
    "print(f'Elements du dict: {my_dict.items()}')\n",
    "print()\n",
    "\n",
    "# Un dict peut etre un veritable ou un paramètre de fonction fourre tout...\n",
    "\n",
    "# On peut le parcourir avec la boucle suivante\n",
    "for key in my_dict.keys():\n",
    "    print(f'La cle {key} correspond a {my_dict[key]}')"
   ]
  },
  {
   "cell_type": "markdown",
   "metadata": {
    "id": "0K4tVhuUCXns",
    "jp-MarkdownHeadingCollapsed": true
   },
   "source": [
    "# Listes et tuples"
   ]
  },
  {
   "cell_type": "markdown",
   "metadata": {
    "id": "-sHVA6eQCZl2"
   },
   "source": [
    "Les structure natives (fondamentales) de Python pour stocker des séries de valeurs sont les listes (dont on peut changer le contenu) et les tuples (qui ne sont pas modifiables)."
   ]
  },
  {
   "cell_type": "code",
   "execution_count": 104,
   "metadata": {
    "colab": {
     "base_uri": "https://localhost:8080/",
     "height": 35
    },
    "id": "7HKPvu0iCjgj",
    "outputId": "d04fe650-7641-49ff-805f-21535ddfaf93"
   },
   "outputs": [
    {
     "name": "stdout",
     "output_type": "stream",
     "text": [
      "[1, -99, 3, 4]\n"
     ]
    }
   ],
   "source": [
    "lst = [1, 2, 3, 4]  # Une liste est delimitee par [ et ]\n",
    "\n",
    "# L'indexation commence à 0, l'indice 1 correspond donc au 2ème élément\n",
    "lst[1] = -99\n",
    "\n",
    "# Résultat de la modification\n",
    "print(lst)"
   ]
  },
  {
   "cell_type": "code",
   "execution_count": 105,
   "metadata": {
    "colab": {
     "base_uri": "https://localhost:8080/",
     "height": 17
    },
    "id": "uVoj37qVCyI_",
    "outputId": "13eec3bf-0b92-4648-9227-6bd501e1686a"
   },
   "outputs": [],
   "source": [
    "tpl = (1, 2, 3, 4)  # Un tuple delimite par ( et )\n",
    "\n",
    "# L'instruction ci-dessous est illégale => Essayez (supprimer le symbole \"#\")\n",
    "# tpl[2] = 0  # -- TypeError: 'tuple' object does not support item assignment"
   ]
  },
  {
   "cell_type": "code",
   "execution_count": 106,
   "metadata": {
    "colab": {
     "base_uri": "https://localhost:8080/",
     "height": 35
    },
    "id": "U-jsSIKTC9kJ",
    "outputId": "434037f1-5d3d-4889-8470-da93c6be2349"
   },
   "outputs": [
    {
     "name": "stdout",
     "output_type": "stream",
     "text": [
      "mix_lst= [1, 'Coucou', 0.3333333333333333, (1, 2, 3, 4)]\n"
     ]
    }
   ],
   "source": [
    "# Les listes peuvent également contenir des objets heteroclites\n",
    "mix_lst = [1, 'Coucou', 1/3, tpl]\n",
    "\n",
    "print(f'mix_lst= {mix_lst}')"
   ]
  },
  {
   "cell_type": "code",
   "execution_count": 107,
   "metadata": {
    "colab": {
     "base_uri": "https://localhost:8080/",
     "height": 35
    },
    "id": "cesypn9ADRpX",
    "outputId": "44dba8b8-6a19-42df-863a-9773c4c3a44f"
   },
   "outputs": [
    {
     "name": "stdout",
     "output_type": "stream",
     "text": [
      "Tout va bien\n"
     ]
    }
   ],
   "source": [
    "# Une liste de listes peut être utilisée pour stocker un tableau 2D de valeurs\n",
    "mat_id = [[1, 0, 0],\n",
    "          [0, 2, 0],\n",
    "          [0, 0, 3]]\n",
    "\n",
    "# On peut verifier qu'il s'agit bien d'une matrice diagonale [1, 2, 3]\n",
    "for i in range(3):\n",
    "  for j in range(3):\n",
    "    if i == j:\n",
    "      if mat_id[i][j] != (i + 1):\n",
    "        # Une exception interrompt immédiatement l'exécution de la cellule\n",
    "        raise Exception('*** Erreur sur la diagonale!')\n",
    "    else:\n",
    "      if mat_id[i][j] != 0:\n",
    "        # Le texte de l'exception permet de préciser les causes de l'erreur\n",
    "        raise Exception('*** Erreur hors diagonale!')\n",
    "\n",
    "print('Tout va bien')"
   ]
  },
  {
   "cell_type": "code",
   "execution_count": 108,
   "metadata": {
    "colab": {
     "base_uri": "https://localhost:8080/",
     "height": 52
    },
    "id": "LKBX1nvOFi8X",
    "outputId": "a822d4ae-28a4-45cb-d866-b706905897a8"
   },
   "outputs": [
    {
     "name": "stdout",
     "output_type": "stream",
     "text": [
      "A B C D E\n",
      "E D C B A\n"
     ]
    }
   ],
   "source": [
    "# Python permet d'indexer les listes (tableaux) de manière 'circulaire'\n",
    "# dans la limite de la taille de la liste\n",
    "\n",
    "# De 0 (A) a 4 (E) dans le sens + ou de -1 (E) a -5 (A) dans le sens -\n",
    "lst = ['A', 'B', 'C', 'D', 'E']\n",
    "\n",
    "# Parcours du tableau dans le sens direct\n",
    "print(lst[0], lst[1], lst[2], lst[3], lst[4])  # lst[5] -> IndexError\n",
    "\n",
    "# Parcours du tableau dans le sens inverse\n",
    "print(lst[-1], lst[-2], lst[-3], lst[-4], lst[-5])  # lst[-6] -> IndexError"
   ]
  },
  {
   "cell_type": "code",
   "execution_count": 109,
   "metadata": {
    "colab": {
     "base_uri": "https://localhost:8080/",
     "height": 52
    },
    "id": "aYOocuBDGW_Q",
    "outputId": "ed9da0e7-8973-4536-926d-c0b653443653"
   },
   "outputs": [
    {
     "name": "stdout",
     "output_type": "stream",
     "text": [
      "Longueur de la liste= 3\n",
      "Et maintenant, lst= [1, 2, 3, 'Soleil']\n"
     ]
    }
   ],
   "source": [
    "# Longueur d'une liste\n",
    "lst = [1, 2, 3]\n",
    "print(f'Longueur de la liste= {len(lst)}')\n",
    "\n",
    "# Ajout d'un element a la liste : methode 'append'\n",
    "lst.append('Soleil')\n",
    "print(f'Et maintenant, lst= {lst}')"
   ]
  },
  {
   "cell_type": "code",
   "execution_count": 110,
   "metadata": {
    "colab": {
     "base_uri": "https://localhost:8080/",
     "height": 52
    },
    "id": "hLwxCWfNGinS",
    "outputId": "dc5dc84c-c21b-4b58-c461-c43a6c3226f3"
   },
   "outputs": [
    {
     "name": "stdout",
     "output_type": "stream",
     "text": [
      "Addition de listes : [1, 2, 3] + [4, 5, 6] = [1, 2, 3, 4, 5, 6]\n",
      "Multiplication de listes : 2*[1, 2, 3]  = [1, 2, 3, 1, 2, 3]\n"
     ]
    }
   ],
   "source": [
    "# Attention les operateurs algebriques se comportent de maniere particuliere\n",
    "a = [1, 2, 3]\n",
    "b = [4, 5, 6]\n",
    "\n",
    "# Concatenation de listes avec + --> ne fait pas la SOMME des éléments !\n",
    "print(f'Addition de listes : {a} + {b} = {a + b}')\n",
    "\n",
    "# Duplication de listes avec * --> ne multiplie pas les éléments !\n",
    "print(f'Multiplication de listes : 2*{a}  = {2*a}')\n",
    "\n",
    "# Nous allons retrouver un comportement plus ALGEBRIQUE de ces opérateurs\n",
    "# dans les fonctions proposées par la librairie Numpy"
   ]
  },
  {
   "cell_type": "markdown",
   "metadata": {
    "id": "aaVf87-oeKHd",
    "jp-MarkdownHeadingCollapsed": true
   },
   "source": [
    "# Slicing de tableaux et listes"
   ]
  },
  {
   "cell_type": "markdown",
   "metadata": {
    "id": "89RCiQTfeTbJ"
   },
   "source": [
    "Slicing signifie littéralement \"découpage\" de tableaux. Python utilise pour cela le symbole ':' entre les crochets (dits 'droits') : '[' et ']'.\n",
    "\n",
    "Voici quelques syntaxes possibles:\n",
    "- Extraire une slice i.e., tous les elements entre deux indices : [start : end]\n",
    "- Extraire une slice avec un certain pas : [start : end : step]\n",
    "- Extraire tous les elements à partir d'un indice : [start :]\n",
    "- Extraire tous les elements jusqu'& un indice : [: end]\n",
    "\n",
    "Les exemples ci-dessous illustrent ce mécanisme."
   ]
  },
  {
   "cell_type": "code",
   "execution_count": 111,
   "metadata": {
    "colab": {
     "base_uri": "https://localhost:8080/",
     "height": 52
    },
    "id": "NbyoTSToeT7m",
    "outputId": "08ea489a-3a40-4e19-b577-43fce9db0f24"
   },
   "outputs": [
    {
     "name": "stdout",
     "output_type": "stream",
     "text": [
      "[1, 2, 3, 4]\n",
      "[4 5]\n"
     ]
    }
   ],
   "source": [
    "# START -- END\n",
    "\n",
    "import numpy as np  # Les exemples vont porter sur les listes natives\n",
    "# de python mais aussi sur les tableaux numpy\n",
    "\n",
    "# Les valeurs du tableau sont les indices, pour visualiser facilement l'effet\n",
    "# du slicing\n",
    "lst = [0, 1, 2, 3, 4, 5]\n",
    "\n",
    "# Slice entre 1 et 5 (deuxieme indice non atteint)\n",
    "print(lst[1:5])  # --> [1, 2, 3, 4]\n",
    "\n",
    "# ATTENTION : le deuxième indice (end) n'est pas atteint.\n",
    "\n",
    "# Le slicing fonctionne de la meme facon avec un ndarray de numpy\n",
    "arr = np.array([0, 1, 2, 3, 4, 5])  # ou bien arr = np.array(lst)\n",
    "\n",
    "# Slice entre 4 et 6\n",
    "print(arr[4:6])  # --> [4 5]  <end> n'est PAS ATTEINT"
   ]
  },
  {
   "cell_type": "markdown",
   "metadata": {
    "id": "xeADAyQr-0S7"
   },
   "source": [
    "Notez que contrairement aux listes Python, les np.array s'affichent sans separateurs ',' entre les éléments.\n"
   ]
  },
  {
   "cell_type": "code",
   "execution_count": 112,
   "metadata": {
    "colab": {
     "base_uri": "https://localhost:8080/",
     "height": 52
    },
    "id": "2Bsggh1-trVJ",
    "outputId": "6f5d4445-5120-4f42-ea4d-573a3442f0aa"
   },
   "outputs": [
    {
     "name": "stdout",
     "output_type": "stream",
     "text": [
      "[0, 2, 4]\n",
      "[1 3 5]\n"
     ]
    }
   ],
   "source": [
    "# START -- END -- STEP\n",
    "\n",
    "lst = [0, 1, 2, 3, 4, 5]\n",
    "arr = np.array(lst)\n",
    "\n",
    "# <end> n'est PAS ATTEINT\n",
    "print(lst[0:6:2])  # --> [0, 2, 4]\n",
    "print(arr[1:6:2])  # --> [1 3 5]"
   ]
  },
  {
   "cell_type": "code",
   "execution_count": 113,
   "metadata": {
    "colab": {
     "base_uri": "https://localhost:8080/",
     "height": 52
    },
    "id": "5cIJfwjdESho",
    "outputId": "4a4c88cf-5ac9-4636-eb72-36a358bcd466"
   },
   "outputs": [
    {
     "name": "stdout",
     "output_type": "stream",
     "text": [
      "[0, 1]\n",
      "[0 1 2]\n"
     ]
    }
   ],
   "source": [
    "# ... -- END\n",
    "\n",
    "lst = [0, 1, 2, 3, 4, 5]\n",
    "arr = np.array(lst)\n",
    "\n",
    "# <end> n'est PAS ATTEINT\n",
    "print(lst[:2])  # --> [0, 1]\n",
    "print(arr[:3])  # --> [0 1 2]"
   ]
  },
  {
   "cell_type": "code",
   "execution_count": 114,
   "metadata": {
    "colab": {
     "base_uri": "https://localhost:8080/",
     "height": 52
    },
    "id": "I84z-o6VEnQi",
    "outputId": "f48add96-23fe-4194-f15d-80fca993f77a"
   },
   "outputs": [
    {
     "name": "stdout",
     "output_type": "stream",
     "text": [
      "[0]\n",
      "[0 2]\n"
     ]
    }
   ],
   "source": [
    "# ... -- END -- STEP\n",
    "\n",
    "lst = [0, 1, 2, 3, 4, 5]\n",
    "arr = np.array(lst)\n",
    "\n",
    "# <end> n'est PAS ATTEINT\n",
    "print(lst[:2:2])  # --> [0]\n",
    "print(arr[:4:2])  # --> [0 2]"
   ]
  },
  {
   "cell_type": "code",
   "execution_count": 115,
   "metadata": {
    "colab": {
     "base_uri": "https://localhost:8080/",
     "height": 52
    },
    "id": "tOOxcBV6E-WQ",
    "outputId": "e7e5b9da-9731-44df-af8c-d936fe2d7ee7"
   },
   "outputs": [
    {
     "name": "stdout",
     "output_type": "stream",
     "text": [
      "[2, 3, 4, 5]\n",
      "[5]\n"
     ]
    }
   ],
   "source": [
    "# START -- ...\n",
    "\n",
    "lst = [0, 1, 2, 3, 4, 5]\n",
    "arr = np.array(lst)\n",
    "\n",
    "# <start> EST BIEN INCLUS\n",
    "print(lst[2:])  # --> [2, 3, 4, 5]\n",
    "print(arr[5:])  # --> [5]"
   ]
  },
  {
   "cell_type": "code",
   "execution_count": 116,
   "metadata": {
    "colab": {
     "base_uri": "https://localhost:8080/",
     "height": 52
    },
    "id": "kRuWZl1TGsdG",
    "outputId": "be4e177d-d0ba-4d4d-9f04-aa70b474d002"
   },
   "outputs": [
    {
     "name": "stdout",
     "output_type": "stream",
     "text": [
      "[2, 4]\n",
      "[5]\n"
     ]
    }
   ],
   "source": [
    "# START -- ... -- STEP\n",
    "\n",
    "lst = [0, 1, 2, 3, 4, 5]\n",
    "arr = np.array(lst)\n",
    "\n",
    "# <start> EST BIEN INCLUS\n",
    "print(lst[2::2])  # --> [2, 4]\n",
    "print(arr[5::42])  # --> [5]"
   ]
  },
  {
   "cell_type": "markdown",
   "metadata": {
    "id": "5TC1hLpZazEo"
   },
   "source": [
    "# Visualisation de données scientifiques"
   ]
  },
  {
   "cell_type": "markdown",
   "metadata": {
    "id": "PLp7EwPVa2o2"
   },
   "source": [
    "Python permet très facilement de visualiser vos données scientifiques, les résultats de vos calculs, les images ou les simulations que vous aurez à étudier lors des TPs.\n",
    "\n",
    "Pour vous faire gagner du temps nous allons vous fournir une mini-librairie qui contient déjà des fonctions de visualisation basiques. Ces fonctions seront explorées au moment des TPs.\n",
    "\n",
    "Cette section montre un aperçu de ce qui peut être fait en matière de visualisation en Python, dans le but de vous donner envie de visualiser et d'explorer vos données afin de mieux les comprendre.\n",
    "\n",
    "Les cellules ci-dessous utilisent la librairie de visualisation Matplotlib : voir https://matplotlib.org/"
   ]
  },
  {
   "cell_type": "code",
   "execution_count": 117,
   "metadata": {
    "colab": {
     "base_uri": "https://localhost:8080/",
     "height": 448
    },
    "id": "JrwBgDC9kaDi",
    "outputId": "95aec9b3-123d-456e-c7e3-e3bd277643f3"
   },
   "outputs": [
    {
     "data": {
      "text/plain": [
       "[<matplotlib.lines.Line2D at 0x7287586e1af0>]"
      ]
     },
     "execution_count": 117,
     "metadata": {},
     "output_type": "execute_result"
    },
    {
     "data": {
      "image/png": "[encoded data removed]",
      "text/plain": [
       "<Figure size 640x480 with 1 Axes>"
      ]
     },
     "metadata": {},
     "output_type": "display_data"
    }
   ],
   "source": [
    "# En 3 lignes de code on peut afficher un ou plusieurs graphes sur une\n",
    "# meme figure\n",
    "\n",
    "# Pour cela on utilise la classe pyplot dans la librairie Matplotlib\n",
    "# via un alias 'plt' (convention usuelle)\n",
    "import matplotlib.pyplot as plt\n",
    "import numpy as np\n",
    "\n",
    "# Un graphe est défini par les coordonnées x des points : 1ere liste\n",
    "# et les coordonnées y des points : 2eme liste\n",
    "plt.plot([1, 2, 4], [3, 1, 5])\n",
    "\n",
    "# On peut ajouter un autre graphe sur la meme figure\n",
    "plt.plot([1, 3, 4], [1, 5, 3])"
   ]
  },
  {
   "cell_type": "code",
   "execution_count": 118,
   "metadata": {
    "colab": {
     "base_uri": "https://localhost:8080/",
     "height": 448
    },
    "id": "H_F98ZBWmi7O",
    "outputId": "6e241057-99d7-4296-957a-8ffcb99a4b96"
   },
   "outputs": [
    {
     "data": {
      "text/plain": [
       "<matplotlib.legend.Legend at 0x7287586be120>"
      ]
     },
     "execution_count": 118,
     "metadata": {},
     "output_type": "execute_result"
    },
    {
     "data": {
      "image/png": "[encoded data removed]",
      "text/plain": [
       "<Figure size 640x480 with 1 Axes>"
      ]
     },
     "metadata": {},
     "output_type": "display_data"
    }
   ],
   "source": [
    "# On peut legender les figures en attribuant un label a chaque courbe\n",
    "plt.plot([1, 2, 3, 3.5, 4], [0, 1, 1.5, 2.7, 5], label='courbe A')\n",
    "plt.plot([1, 3, 4], [1, 0, 4], label='courbe B')\n",
    "\n",
    "# ... et en invoquant la methode legend() a la fin du rendu\n",
    "plt.legend()"
   ]
  },
  {
   "cell_type": "markdown",
   "metadata": {
    "id": "51oJFLqlpknZ"
   },
   "source": [
    "Un exemple plus complet est donné ci-dessous."
   ]
  },
  {
   "cell_type": "code",
   "execution_count": null,
   "metadata": {
    "colab": {
     "base_uri": "https://localhost:8080/",
     "height": 534
    },
    "id": "81tLIKvRnygT",
    "outputId": "72ecf6e3-fd25-4c27-852f-e3c12d67c91e"
   },
   "outputs": [
    {
     "data": {
      "image/png": "[encoded data removed]",
      "text/plain": [
       "<Figure size 1200x600 with 2 Axes>"
      ]
     },
     "metadata": {},
     "output_type": "display_data"
    }
   ],
   "source": [
    "# Creer une figure qui contient deux graphes ('axes' dans matplotlib)\n",
    "# 1, 2 : une ligne de 2 figures\n",
    "# figsize : dimensions de la figure, en pouces\n",
    "fig, (ax1, ax2) = plt.subplots(1, 2, figsize=(12,6))\n",
    "\n",
    "# L'instruction ci-dessus renvoie une figure fig et deux\n",
    "# graphes (axes) ax1 et ax2 (dans un tuple)\n",
    "\n",
    "# Utiliser la figure pour ajuster l'espacement entre les graphes\n",
    "# pour eviter d'eventuels empietements\n",
    "fig.tight_layout(pad=5.0)\n",
    "\n",
    "# -------------------------------\n",
    "# Parametrer le premier graphe\n",
    "# -------------------------------\n",
    "\n",
    "# Titre\n",
    "ax1.set_title('Left graph')\n",
    "\n",
    "# Legendes des axes X et Y\n",
    "ax1.set_xlabel('X_units')\n",
    "ax1.set_ylabel('Y_units')\n",
    "\n",
    "# Intervalles des axes X et Y\n",
    "ax1.set_xlim(0, 100)\n",
    "ax1.set_ylim(-5, 5)\n",
    "\n",
    "# Calcul des données à afficher\n",
    "x1 = np.arange(1, 100, 0.05)\n",
    "y1 = np.log(x1)*np.cos(x1 / 2)\n",
    "\n",
    "# Affichage et generation de la legende\n",
    "ax1.plot(x1, y1, color='green', label='courbe 1')\n",
    "ax1.legend()\n",
    "\n",
    "# -------------------------------\n",
    "# Parametrage le second graphe\n",
    "# -------------------------------\n",
    "\n",
    "# Titre\n",
    "ax2.set_title('Right graph')\n",
    "\n",
    "# Legendes des axes X et Y\n",
    "ax2.set_xlabel('X(t)')\n",
    "ax2.set_ylabel('Y(t)')\n",
    "\n",
    "# Intervalles des axes X et Y\n",
    "ax2.set_xlim(-80, +80)\n",
    "ax2.set_ylim(-80, +80)\n",
    "\n",
    "# Calcul des données à afficher\n",
    "t = np.arange(1, 100, 0.05)\n",
    "r = t\n",
    "x2 = r*np.cos(t)\n",
    "y2 = r*np.sin(t)\n",
    "\n",
    "# Affichage et generation de la legende\n",
    "ax2.plot(x2, y2, color='magenta', label='spirale')\n",
    "ax2.legend()\n",
    "\n",
    "# -------------------------------\n",
    "# Enregistrement de la figure\n",
    "# -------------------------------\n",
    "\n",
    "fig.savefig('./TP0_TEST_FigMatplotlib.png')"
   ]
  },
  {
   "cell_type": "markdown",
   "metadata": {},
   "source": [
    "# Exercices : à vous de jouer !\n"
   ]
  },
  {
   "cell_type": "markdown",
   "metadata": {},
   "source": [
    "## Exercice 1 : approximation d'une intégrale par méthode de Monte-Carlo.\n",
    "- Calculer $I=\\int_0^1 \\frac{p^2}{4} dp$.\n",
    "- Remplir un tableau de 10000 couples $(p,q)$ issus d'une loi uniforme de l'intervalle $[0,1]$.\n",
    "- Calculer la proportion $\\tilde{I}$ des couples $(p,q)$ qui vérifient $q < \\frac{p^2}{4}$.\n",
    "- Sur une fenêtre graphique, représenter EN ROUGE les points situés en dessous de la courbe $q=\\frac{p^2}{4}$ et en VERT les autres.\n",
    "- Conclure.\n",
    "\n",
    "\n",
    "## Exercice 2\n",
    "On s'intéresse aux solutions de l'équation $x^2+px+q=0$. Supposons que $(p,q)$ sont des nombres aléatoires issus d'une loi uniforme sur $[0,1]$ (comme précédemment).\n",
    "- Intuitivement, quelle est la loi de probabilité suivie par le nombre de solutions d'une équation du second degré. Autrement dit, si $X$ désigne la variable aléatoire égale au nombre de solution de l'équation $x^2+px+q=0$, que valent les probabilités $P(X=0)$, $P(X=1)$ et $P(X=2)$.\n",
    "- Voyez-vous un lien avec l'exercice précédent ?\n",
    "- Ecrire une fonction `binome(p,q)` qui permet de résoudre l'équation de type $x^2+px+q = 0$. \n",
    "- Pour chaque couple du tableau `A`, stocker le nombre de solutions dans un tableau `S`.\n",
    "- Calculer les proportions de triplets qui conduisent à 0, 1 ou 2 solutions. Cela confirme-t-il votre intuition ?"
   ]
  }
 ],
 "metadata": {
  "colab": {
   "collapsed_sections": [
    "20AtUT-njPNe",
    "vSGwoPAJr6-D",
    "uLka698TygIt",
    "b0s1Phhj4xag",
    "046UkuWI2R54",
    "WUK1XLmx6SF9",
    "wsTIBVVI73ek",
    "GSDwTdkf_Zqk",
    "0K4tVhuUCXns",
    "V12uf37ZHiDP",
    "5TC1hLpZazEo"
   ],
   "provenance": []
  },
  "kernelspec": {
   "display_name": ".venv",
   "language": "python",
   "name": "python3"
  },
  "language_info": {
   "codemirror_mode": {
    "name": "ipython",
    "version": 3
   },
   "file_extension": ".py",
   "mimetype": "text/x-python",
   "name": "python",
   "nbconvert_exporter": "python",
   "pygments_lexer": "ipython3",
   "version": "3.12.3"
  }
 },
 "nbformat": 4,
 "nbformat_minor": 4
}
