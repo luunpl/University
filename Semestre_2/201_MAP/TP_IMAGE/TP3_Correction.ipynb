{
 "cells": [
  {
   "cell_type": "markdown",
   "metadata": {
    "id": "Aa863rzmPJ6H"
   },
   "source": [
    "# Thème Image - TP3 - Introduction au filtrage"
   ]
  },
  {
   "cell_type": "markdown",
   "metadata": {
    "id": "5Hcdz-aGMwK3"
   },
   "source": [
    "## Notebook\n",
    "* A tout moment, vous pouvez savoir dans quel répertoire vous vous trouvez en utilisant la commande `pwd`et lister les fichiers qui s'y trouvent avec la commande `ls`.\n",
    "\n",
    "* Accèdez au dossier de travail, pour cela utilisez les commandes `pwd` (print working directory), `cd` (change directory) et `ls`(list contents) pour naviguer sur le disque.\n",
    "\n",
    "* Changez de repertoire jusqu'a voir tous les fichiers necessaires au TP.\n",
    "\n",
    "* Familiarisez vous avec les fonctions mises à votre disposition dans le fichier `utils.py`; elles vous seront utiles pour la suite.\n",
    "\n",
    "* Pour commencer, executez la cellule suivante afin d'avoir accès à votre espace disque.\n",
    "\n",
    "* Vérifiez que vous êtes au bon endroit, et que tous les fichiers nécessaires au TP sont bien présents. Utilisez la commande `ls` pour cela."
   ]
  },
  {
   "cell_type": "code",
   "execution_count": 1,
   "metadata": {
    "id": "tArtU0BmNkCZ"
   },
   "outputs": [
    {
     "data": {
      "text/plain": [
       "'/home/luunpl/Study/L1/201_MAP/TP_IMAGE'"
      ]
     },
     "execution_count": 1,
     "metadata": {},
     "output_type": "execute_result"
    }
   ],
   "source": [
    "pwd"
   ]
  },
  {
   "cell_type": "markdown",
   "metadata": {
    "id": "sj89Md6IOdDN"
   },
   "source": [
    "* Importez les modules dont vous aurez besoin en exécutant la cellule suivante (`Shift+Enter`)."
   ]
  },
  {
   "cell_type": "code",
   "execution_count": 2,
   "metadata": {
    "id": "7D1u8ePzOcYk"
   },
   "outputs": [
    {
     "ename": "ModuleNotFoundError",
     "evalue": "No module named 'utils'",
     "output_type": "error",
     "traceback": [
      "\u001b[0;31m---------------------------------------------------------------------------\u001b[0m",
      "\u001b[0;31mModuleNotFoundError\u001b[0m                       Traceback (most recent call last)",
      "Cell \u001b[0;32mIn[2], line 11\u001b[0m\n\u001b[1;32m      9\u001b[0m \u001b[38;5;28;01mimport\u001b[39;00m \u001b[38;5;21;01msys\u001b[39;00m\n\u001b[1;32m     10\u001b[0m sys\u001b[38;5;241m.\u001b[39mpath\u001b[38;5;241m.\u001b[39mappend(\u001b[38;5;124m'\u001b[39m\u001b[38;5;124m..\u001b[39m\u001b[38;5;124m'\u001b[39m)\n\u001b[0;32m---> 11\u001b[0m \u001b[38;5;28;01mfrom\u001b[39;00m \u001b[38;5;21;01mutils\u001b[39;00m \u001b[38;5;28;01mimport\u001b[39;00m \u001b[38;5;241m*\u001b[39m\n\u001b[1;32m     13\u001b[0m test_utils()\n",
      "\u001b[0;31mModuleNotFoundError\u001b[0m: No module named 'utils'"
     ]
    }
   ],
   "source": [
    "import math\n",
    "import statistics\n",
    "from scipy import signal\n",
    "import numpy as np\n",
    "import matplotlib.pyplot as plt\n",
    "\n",
    "plt.ion()\n",
    "\n",
    "import sys\n",
    "sys.path.append('..')\n",
    "from utils import *\n",
    "\n",
    "test_utils()"
   ]
  },
  {
   "cell_type": "markdown",
   "metadata": {
    "id": "2ErwBpfcMFLe"
   },
   "source": [
    "# Objectifs du TP\n",
    "* Aborder concrètement la notion de filtrage, d'abord en 1D puis en 2D\n",
    "* Etudier deux filtres de lissage : filtre moyenne et filtre gaussien\n",
    "* Application : lissage d'une image bruitée\n",
    "  Image originale & Image bruitée\n",
    "\n",
    "\n",
    "\n",
    "\n",
    "* Comparer l'effet des deux filtres"
   ]
  },
  {
   "cell_type": "markdown",
   "metadata": {
    "id": "kDDxW4S9PR9t"
   },
   "source": [
    "# Exercice 1\n",
    "## Filtrage 1D\n",
    "\n",
    "On s'intéresse dans un premier temps au filtrage de signaux 1D.\n",
    "\n",
    "Dans le cadre du filtrage numérique, on travaille sur des vecteurs de nombres.\n",
    "L'idée du filtrage est de  promener une \"fenêtre\" sur chacun des éléments du vecteur, et obtenir une nouvelle valeur à partir des éléments de cette fenêtre.\n"
   ]
  },
  {
   "cell_type": "code",
   "execution_count": 3,
   "metadata": {
    "id": "oVsOQ6pdSgWl"
   },
   "outputs": [
    {
     "name": "stdout",
     "output_type": "stream",
     "text": [
      "s= [0 1 2 3 4 5 6 7 8 9]\n"
     ]
    }
   ],
   "source": [
    "# Creer un vecteur d'indices de taille N (N pourra etre modifie par la suite)\n",
    "N = 10\n",
    "s = np.arange(N)\n",
    "print(f's= {s}')"
   ]
  },
  {
   "cell_type": "markdown",
   "metadata": {
    "id": "-KV-qCgOcI7U"
   },
   "source": [
    "## Construction de la fenêtre et parcours du signal\n",
    "\n",
    "* Etant donné un indice $u$ et un entier $m$, comment construire le sous-tableau de $s$ contenant les $2m+1$ éléments suivants :\n",
    "$s(u-m), ..., s(u), ..., s(u+m)$ ?\n",
    "\n",
    "* Pour quelles valeurs de $u$ est-il possible de construire ce sous-tableau ?"
   ]
  },
  {
   "cell_type": "code",
   "execution_count": null,
   "metadata": {
    "id": "iVfJA1tKQps5"
   },
   "outputs": [],
   "source": [
    "# Ecrire une fonction permettant d'extraire la fenetre de valeurs [u-m, ..., u, ..., u+m]\n",
    "def get_window(vec, u, m):\n",
    "    window = []\n",
    "    # A COMPLETER\n",
    "    for i in range(2*m+1):\n",
    "        window.append(vec[u+i])\n",
    "    return window"
   ]
  },
  {
   "cell_type": "code",
   "execution_count": null,
   "metadata": {
    "id": "hVyBkTm2SnkE"
   },
   "outputs": [],
   "source": [
    "# Tester la fonction: que se passe-t-il lorsque u=0 ou u=N-1?\n",
    "# Autre cas problematiques?\n",
    "test_win = get_window(s, 2, 2)\n",
    "print(f'test_win= {test_win}')"
   ]
  },
  {
   "cell_type": "code",
   "execution_count": null,
   "metadata": {
    "id": "cLX9Y3ZLQvjI"
   },
   "outputs": [],
   "source": [
    "# Ecrire une fonction qui verifie les bornes de la fenetre\n",
    "def check_and_get_window(vec, u, m):\n",
    "    # Check\n",
    "    # A COMPLETER\n",
    "    if u - m < 0 or u + m >= len(vec):\n",
    "        return False, None\n",
    "    \n",
    "    # Compute\n",
    "    window = []\n",
    "    # A COMPLETER\n",
    "    for i in range(-m, m + 1):\n",
    "        window.append(vec[u + i])\n",
    "    return True, window"
   ]
  },
  {
   "cell_type": "code",
   "execution_count": null,
   "metadata": {
    "id": "bL_et7yoS4dO"
   },
   "outputs": [],
   "source": [
    "# Tester check_and_get_window\n",
    "print(check_and_get_window(s, 2,4))\n",
    "s2 = np.arange(50)\n",
    "print(check_and_get_window(s2, 30,10))"
   ]
  },
  {
   "cell_type": "code",
   "execution_count": null,
   "metadata": {
    "id": "eqL6v601RAyo"
   },
   "outputs": [],
   "source": [
    "# Ecrire une fonction qui extrait toutes les fenetres admissibles a partir du vecteur vec\n",
    "def print_all_windows(vec, m):\n",
    "    # A COMPLETER\n",
    "    for u in range(len(vec)):\n",
    "        ok, win = check_and_get_window(vec, u, m)\n",
    "        if ok:\n",
    "            print(f'u= {u} --> {win}')\n"
   ]
  },
  {
   "cell_type": "markdown",
   "metadata": {
    "id": "t-hhoj3rcqt2"
   },
   "source": [
    "* Pour un vecteur de taille 10, et un rayon $m = 2$ vous devriez obtenir les fenêtres suivantes :\n",
    "- u= 2 --> [0, 1, 2, 3, 4]\n",
    "- u= 3 --> [1, 2, 3, 4, 5]\n",
    "- u= 4 --> [2, 3, 4, 5, 6]\n",
    "- u= 5 --> [3, 4, 5, 6, 7]\n",
    "- u= 6 --> [4, 5, 6, 7, 8]\n",
    "- u= 7 --> [5, 6, 7, 8, 9]"
   ]
  },
  {
   "cell_type": "code",
   "execution_count": null,
   "metadata": {
    "id": "3PaP6im4R69H"
   },
   "outputs": [],
   "source": [
    "# Tester\n",
    "print_all_windows(s, 2)"
   ]
  },
  {
   "cell_type": "code",
   "execution_count": null,
   "metadata": {
    "id": "RNZ1WZb9TAuK"
   },
   "outputs": [],
   "source": [
    "# Refaire le test avec un tableau de valeurs 'physiques'\n",
    "s2 = np.sin(s)  # np.sin transforme le tableau en [sin(0), sin(1), sin(2), ...]\n",
    "print(f's2= {s2}')\n",
    "print_all_windows(s2, 2)"
   ]
  },
  {
   "cell_type": "markdown",
   "metadata": {
    "id": "QpStBUSVdG7j"
   },
   "source": [
    "# Exercice 2\n",
    "## Filtre moyenne\n",
    "\n",
    "L'application du filtre moyenne consiste à remplacer la valeur d'un élément par la moyenne arithmétique des valeurs sur une fenêtre centrée autour de cet élément.\n",
    "\n",
    "* En vous inspirant de l'exercice précédent, écrives une fonction qui à partir d'un tableau $s$ renvoie le tableau $s_{mean}$ défini de la façon suivante :\n",
    "  * si on peut définir une fenêtre de taille $2m+1$ autour de l'indice $u$, $s_{mean}[u]$ est la moyenne des éléments de la fenêtre,\n",
    "  * sinon $s_{mean}[0] = 0$.\n",
    "\n",
    "_**Indication** : Vous pourrez utiliser la fonction `check_and_get_window` pour extraire de manière sécurisée les fenêtres, et la fonction `statistics.mean()` pour calculer la moyenne._\n",
    "\n",
    "_Exemple :_\n",
    "L'application du filtre moyen dayon $m=1$ sur le vecteur $s = [0, 0, 0, 0, 0, 3, 3, 3, 3, 3]$ doit produire $s_{mean}= [0, 0, 0, 0, 1, 2, 3, 3, 3, 0]$.\n",
    "\n",
    "* Que pensez-vous de ce résultat ?"
   ]
  },
  {
   "cell_type": "code",
   "execution_count": null,
   "metadata": {
    "colab": {
     "base_uri": "https://localhost:8080/",
     "height": 17
    },
    "executionInfo": {
     "elapsed": 47,
     "status": "ok",
     "timestamp": 1696252911532,
     "user": {
      "displayName": "Marek Bucki",
      "userId": "12894677198130453404"
     },
     "user_tz": -120
    },
    "id": "nBNM_SvOdh9X",
    "outputId": "f9d18532-0938-4488-87d5-6bd3306efed4"
   },
   "outputs": [],
   "source": [
    "# Ecrire une fonction permettant d'appliquer un filtre moyen sur un vecteur\n",
    "def mean_filter(vec, m):\n",
    "    mean_vec = []  # Nouveau vecteur de valeurs\n",
    "    # A COMPLETER\n",
    "    for i in range(len(vec)):\n",
    "        ok, win = check_and_get_window(vec,i,m)\n",
    "        if ok:\n",
    "            mean_val = statistics.mean(win)\n",
    "        else:\n",
    "            mean_val = 0.\n",
    "        mean_vec.append(mean_val)\n",
    "    return mean_vec\n"
   ]
  },
  {
   "cell_type": "code",
   "execution_count": null,
   "metadata": {
    "id": "VgrPFDDbdo0H"
   },
   "outputs": [],
   "source": [
    "# Definir un vecteur de valeurs\n",
    "s = [0, 0, 0, 0, 0, 3, 3, 3, 3, 3]\n",
    "print(f's= {s}')\n",
    "\n",
    "# Lisser\n",
    "s_mean = mean_filter(s, 1)\n",
    "\n",
    "# Comparer\n",
    "print(f's_mean= {s_mean}')\n",
    "show_vectors(s, s_mean, labels=['s', 's_mean'], title='Vecteur test et moyenne')\n"
   ]
  },
  {
   "cell_type": "markdown",
   "metadata": {
    "id": "0zYAImusdwL0"
   },
   "source": [
    "* Essayer avec un vecteur plus long, contenant des valeurs 'physiques' et du bruit."
   ]
  },
  {
   "cell_type": "code",
   "execution_count": null,
   "metadata": {
    "id": "ExFJ4Oa3d2Kj"
   },
   "outputs": [],
   "source": [
    "# Generer le signal pur\n",
    "M = 100\n",
    "s = np.sin(2 * np.pi * np.arange(M) / M)\n",
    "\n",
    "# Generer un bruit blanc (distribution aleatoire uniforme)\n",
    "noise_magnitude = 0.3\n",
    "noise = noise_magnitude * np.random.randint(-100, +100, M) / 100\n",
    "\n",
    "# Appliquer le bruit au signal\n",
    "s = s + noise\n",
    "\n",
    "# Filtrer\n",
    "s_mean = mean_filter(s, 5)\n",
    "\n",
    "# Comparer\n",
    "show_vectors(s, s_mean, title='Vecteur bruité et moyenne')"
   ]
  },
  {
   "cell_type": "markdown",
   "metadata": {
    "id": "BBc7eqmegzB0"
   },
   "source": [
    "# Exercice 3\n",
    "## Moyenne pondérée\n",
    "\n",
    "La moyenne arithmétique accorde un poids égal à chacun des pixels sur une fenêtre donnée. On considère d'autres types de moyennes, dites pondérées,\n",
    "où un poids différent peut être accordé à chaque pixel.\n",
    "\n",
    "Dans un cadre totalement différent, pensez à la note du baccalauréat qui est obtenue en affectant des coeficients différents selon les matières, en faisant la somme de toutes ces notes, puis en divisant par la somme des coefficients\n",
    "pour ramener la note sur 20.\n",
    "\n",
    "Ici, on fait de même : étant donné un tableau $W$ de taille $2m+1$ et un vecteur $s$, on veut construire un vecteur $s2$ tel que pour chaque indice $u$, $s2[u]$ contient la moyenne pondérée par les poids $W$ sur la fenêtre\n",
    "de taille $2m+1$ autour de l'élément d'indice $u$ si on peut définir cette fenêtre, et sinon $0$.\n",
    "\n",
    "* Etant donné un vecteur $W$ de taille $2m+1$ qu'on suppose normalisé (dont la somme des coefficients vaut 1), et un tableau $s$ contenant un signal, comment calculer $s2$ la moyenne pondérée de $s$ par les poids $W$ ?\n",
    "\n",
    "_**Indications** : la fonction numpy.sum() calcule la somme des éléments d'un tableau. L'opérateur * permet de multiplier terme à terme deux tableaux dans numpy. Voir l'exemple dans la cellule ci-dessous._"
   ]
  },
  {
   "cell_type": "code",
   "execution_count": null,
   "metadata": {
    "id": "_l4rkf5fqlnW"
   },
   "outputs": [],
   "source": [
    "# Exemple d'utilisation des opérateurs de numpy\n",
    "a = np.array([1, 2, 3])\n",
    "b = np.array([4, 5, 6])\n",
    "print(a*b)\n",
    "print(np.sum(a * b))"
   ]
  },
  {
   "cell_type": "code",
   "execution_count": null,
   "metadata": {
    "id": "57FhngGshMFJ"
   },
   "outputs": [],
   "source": [
    "# Ecrire une fonction qui calcule une moyenne ponderee en appliquant un filtre\n",
    "def apply_filter(s, W):\n",
    "    s2 = []\n",
    "    # A COMPLETER\n",
    "    m = int((len(W) - 1) / 2)  # Que se passe-t-il si le filtre a une taille paire ?\n",
    "    for i in range(len(s)):\n",
    "        ok, win = check_and_get_window(s, i, m)\n",
    "        if ok:\n",
    "            mean_val = np.sum(win * W)\n",
    "        else:\n",
    "            mean_val = 0.\n",
    "        s2.append(mean_val)\n",
    "    return s2"
   ]
  },
  {
   "cell_type": "code",
   "execution_count": null,
   "metadata": {
    "id": "5a_ODE6xhRfJ"
   },
   "outputs": [],
   "source": [
    "# Definir un vecteur de valeurs\n",
    "s = [0, 0, 0, 0, 0, 3, 3, 3, 3, 3]\n",
    "print(f's= {s}')\n",
    "\n",
    "# Definir un filtre de moyenne ponderee\n",
    "W = np.array([0.5, 1.0, 0.5]) / 2.0\n",
    "print(f'W= {W}')\n",
    "\n",
    "# Tester\n",
    "s_wmean = apply_filter(s, W)\n",
    "show_vectors(s, s_wmean, title='Vecteur test et moyenne ponderee')"
   ]
  },
  {
   "cell_type": "markdown",
   "metadata": {
    "id": "aklkimQoqZRi"
   },
   "source": [
    "* Testez avec les poids $1/3*[1, 1, 1]$, vous devez retrouver le même résultat qu'à l'exercice précédent."
   ]
  },
  {
   "cell_type": "code",
   "execution_count": null,
   "metadata": {
    "id": "4lrQvh-Mpmbm"
   },
   "outputs": [],
   "source": [
    "# En utilisant le filtre moyen de l'exercice precedent, on doit retrouver le meme resultat\n",
    "# A COMPLETER\n",
    "W = np.ones(3) / 3\n",
    "print(f'W= {W}')\n",
    "\n",
    "s = [0, 0, 0, 0, 0, 3, 3, 3, 3, 3]\n",
    "print(f's= {s}')\n",
    "\n",
    "s2 = apply_filter(s, W)\n",
    "print(f's_mean= {s2}')\n",
    "show_vectors(s, s2, title='Vecteur test et moyenne ponderee')"
   ]
  },
  {
   "cell_type": "markdown",
   "metadata": {
    "id": "ZfwBVSFAlmI3"
   },
   "source": [
    "* Que se passe-t-il si on ne normalise pas le filtre ?"
   ]
  },
  {
   "cell_type": "code",
   "execution_count": null,
   "metadata": {
    "id": "kMiX83-CpqTK"
   },
   "outputs": [],
   "source": [
    "W = np.array([1.0, 1.0, 1.0])  # Pas de normalisation: / 3.0\n",
    "s_wmean = apply_filter(s, W)\n",
    "show_vectors(s, s_wmean, title='Vecteur test et filtre NON normalise')"
   ]
  },
  {
   "cell_type": "markdown",
   "metadata": {
    "id": "Ui_GHybWhZlw"
   },
   "source": [
    "# Exercice 4\n",
    "## Filtre gaussien\n",
    "\n",
    "La fonction gaussienne $f(x) = e^{-\\frac{x^2}{2\\sigma^2}}$ a une forme de chapeau qui est intéressante pour construire une moyenne pondérée avec une\n",
    "valeur plus importante sur l'élément central de la fenêtre et une décroissance rapide et régulière sur les autres éléments.\n",
    "\n",
    "De plus la largeur du chapeau est contrôlée par le paramètre $\\sigma$ (sigma), ce qui permet d'obtenir facilement une famille de filtres de taille plus ou moins grande."
   ]
  },
  {
   "cell_type": "code",
   "execution_count": null,
   "metadata": {
    "id": "3r-7BtxThnXN"
   },
   "outputs": [],
   "source": [
    "# Fonction gaussienne\n",
    "def f(x, sig):\n",
    "    # A COMPLETER\n",
    "    return np.exp(-0.5 * x**2 / sig ** 2)"
   ]
  },
  {
   "cell_type": "code",
   "execution_count": null,
   "metadata": {
    "id": "-1R06LtOiEtZ"
   },
   "outputs": [],
   "source": [
    "# Courbes gaussiennes pour quelques valeurs de sigma\n",
    "x = np.arange(-5.0, +5.0, 0.1)\n",
    "\n",
    "fig = plt.figure()\n",
    "ax = fig.add_subplot()\n",
    "for sigma in [1.5, 1.0, 0.5]:\n",
    "  y = [f(x, sigma) for x in x]\n",
    "  ax.plot(x, y, label=f'Sigma={sigma}')\n",
    "\n",
    "_ = ax.legend()"
   ]
  },
  {
   "cell_type": "markdown",
   "metadata": {
    "id": "vOKJUHVzrQaT"
   },
   "source": [
    "L'idée du filtre gaussien consiste à prendre les valeurs de $f(x)$ pour $x$ parcourant des ensembles de la forme $\\lbrace -L, \\ldots, 0, \\ldots, L\\rbrace$ où $L$ est choisi tel que $f(L+1)$ soit négligeable devant $f(0) = 1$.\n",
    "\n",
    "Par exemple pour $\\sigma = 0.5$ (voir courbe ci-dessus), on a\n",
    "$f(0) = 1, f(1) \\approx 0.135, f(2) \\approx 0.0003$, donc $f(2)$ est négligeable devant $f(0)$.\n",
    "\n",
    "Si on prend $L=1$ les poids correspondant à $\\sigma = 0.5$ sont\n",
    "$[0.135, 1, 0.135]$ avant normalisation.\n",
    "\n"
   ]
  },
  {
   "cell_type": "code",
   "execution_count": null,
   "metadata": {
    "id": "R0UikZ3sr19f"
   },
   "outputs": [],
   "source": [
    "simga = 0.5\n",
    "print(f'f(0)= {f(0, sigma)}')\n",
    "print(f'f(1)= {f(1, sigma)}')\n",
    "print(f'f(2)= {f(2, sigma)}')\n",
    "\n",
    "# Et evidemment\n",
    "print('\\nLa distribution gaussienne est paire, donc')\n",
    "print(f'f(-1)= f(1)= {f(-1, sigma)}')\n",
    "print(f'f(-2)= f(2)= {f(-2, sigma)}')"
   ]
  },
  {
   "cell_type": "markdown",
   "metadata": {
    "id": "R-fqWvTUr0uJ"
   },
   "source": [
    "De manière générale, on se fixe un seuil $\\varepsilon$ et pour une valeur de $\\sigma$ donnée, et on choisit la taille $L$ du filtre de telle manière que $f(L) > \\varepsilon$ et $f(L + 1) < \\varepsilon$.\n",
    "\n",
    "* Montrez que  $f(L) > \\varepsilon \\Longleftrightarrow L < \\sigma\\sqrt{-2\\log(\\varepsilon)}$.\n",
    "\n",
    "* Modifiez la cellule suivante pour définir une fonction qui calcule le tableau $[f(-L), ..., f(0), ..., f(L)]$ où $L$ est le plus grand entier vérifiant $f(L) > \\varepsilon$ en fonction de paramètres $sigma$ et $epsilon$. Cette fonction doit ensuite renvoyer le tableau normalisé (dont la somme des éléments est égale à 1)."
   ]
  },
  {
   "cell_type": "code",
   "execution_count": null,
   "metadata": {
    "id": "NTaTmoeZhrLE"
   },
   "outputs": [],
   "source": [
    "# Ecrire une fonction qui genere un filtre gaussien de parametre sigma de taille max\n",
    "def get_gauss_filter(sigma, epsilon):\n",
    "    # Trouver le plus grand entier L tel que f(L) > epsilon\n",
    "    # f(L) < eps <==> abs(L) < sig sqrt(-2 ln(eps)) i.e., L < sig sqrt(-2 ln(eps)), puisque L>0\n",
    "    # A COMPLETER\n",
    "    L = int(sigma * np.sqrt(- 2 * np.log(epsilon)))\n",
    "    \n",
    "    # # Debug\n",
    "    # print(f'Check f(L)   >  {epsilon}: {f(L, sigma)}')\n",
    "    # print(f'Check f(L+1) <= {epsilon}: {f(L+1, sigma)}')\n",
    "\n",
    "    # Calculer les poids\n",
    "    w = []\n",
    "    for i in range(-L, +L + 1):\n",
    "        # A COMPLETER\n",
    "        w.append(f(i,sigma))\n",
    "        \n",
    "    # Normaliser les poids pour obtenir le filtre\n",
    "    w_sum = sum(w)\n",
    "    # A COMPLETER\n",
    "    fil = np.array(w) / w_sum\n",
    "    return fil"
   ]
  },
  {
   "cell_type": "markdown",
   "metadata": {
    "id": "HaEImOVPtTky"
   },
   "source": [
    "* On fixe $\\varepsilon = 10^{-3}$.\n",
    "\n",
    "* Vous pouvez tester votre fonction pour $\\sigma = 0.5$ et $epsilon=0.001$ `get_gauss_filter` doit renvoyer $[0.106507 0.786986 0.106507]$. Remarquez qu'on a bien $\\sum_i g_i = 1$.\n",
    "\n",
    "_**IMPORTANT** : Vous devez avoir terminé cet exercice et obtenu le résultat demandé car vous aurez besoin de la fonction `get_gauss_filter` pour le reste de cette séance et (au moins) la séance suivante._"
   ]
  },
  {
   "cell_type": "code",
   "execution_count": null,
   "metadata": {
    "id": "PLttXfqFyG0G"
   },
   "outputs": [],
   "source": [
    "# On se donne un epsilon\n",
    "eps = 0.001\n",
    "\n",
    "# Test\n",
    "get_gauss_filter(0.5, 0.001)"
   ]
  },
  {
   "cell_type": "markdown",
   "metadata": {
    "id": "GhH16w0Lx7qK"
   },
   "source": [
    "* Remplissez le tableau suivant qui indique la taille du tableau en fonction de quelques valeurs de $\\sigma$ :\n",
    "  * $\\sigma = 0.5 \\Rightarrow size = ?$\n",
    "  * $\\sigma = 1.0 \\Rightarrow size = ?$\n",
    "  * $\\sigma = 1.5 \\Rightarrow size = ?$\n",
    "  * $\\sigma = 2.0 \\Rightarrow size = ?$\n",
    "\n",
    "Ici, $size$ est la taille du filtre, c'est-à-dire la taille du tableau, c'est-à-dire $2*L + 1$."
   ]
  },
  {
   "cell_type": "code",
   "execution_count": null,
   "metadata": {
    "id": "Ha1ZNMqxhwer"
   },
   "outputs": [],
   "source": [
    "# Calculer les longueurs des filtres gaussiens pour les valeurs de sigma suivantes\n",
    "sigma = 0.5\n",
    "size = int(sigma*np.sqrt(-2*np.log(eps)))\n",
    "print(f'Longueur du filtre (2*L+1) : {size}')\n",
    "sigma = 1\n",
    "size = int(sigma*np.sqrt(-2*np.log(eps)))\n",
    "print(f'Longueur du filtre (2*L+1) : {size}')\n",
    "sigma = 1.5\n",
    "size = int(sigma*np.sqrt(-2*np.log(eps)))\n",
    "print(f'Longueur du filtre (2*L+1) : {size}')\n",
    "sigma = 2.\n",
    "size = int(sigma*np.sqrt(-2*np.log(eps)))\n",
    "print(f'Longueur du filtre (2*L+1) : {size}')\n"
   ]
  },
  {
   "cell_type": "markdown",
   "metadata": {
    "id": "4w1uqXCLyVwJ"
   },
   "source": [
    "# Exercice 5\n",
    "## Lissage d'un signal bruité\n",
    "\n",
    "Nous allons extraire un signal bruité à partir de l'image papillon_noise.bmp. La cellule ci-dessous extrait la ligne 128 de l'image et l'affiche sous forme de courbe."
   ]
  },
  {
   "cell_type": "code",
   "execution_count": null,
   "metadata": {
    "id": "lV1vi5jy0YPn"
   },
   "outputs": [],
   "source": [
    "# Charger l'image bruitee\n",
    "img = load_and_show_image('./papillon_noise.bmp', title='Image source bruitee')\n",
    "\n",
    "# Extraire la ligne 128\n",
    "row = img[128, :]\n",
    "\n",
    "# Afficher le vecteur\n",
    "show_vectors(row, title=\"Ligne extraite de l'image\")\n"
   ]
  },
  {
   "cell_type": "markdown",
   "metadata": {
    "id": "l4TApH8J0pWa"
   },
   "source": [
    "* Testez l'effet du filtre moyenne sur le vecteur $row$ en augmentant progressivement la taille de la fenêtre : 3, 5, 11, 21."
   ]
  },
  {
   "cell_type": "code",
   "execution_count": null,
   "metadata": {
    "id": "RTYrtFzq0xNK"
   },
   "outputs": [],
   "source": [
    "# Lisser avec filtres moyens de taille 3, 5, 11, 21\n",
    "mean_filtering = [row]\n",
    "for size in [3, 5, 11, 21]:\n",
    "    # A COMPLETER\n",
    "    mean_fil = np.ones(size) / size\n",
    "    mean_row = apply_filter(row, mean_fil)\n",
    "    mean_filtering.append(mean_row)\n",
    "\n",
    "    # Afficher chaque paire\n",
    "    show_vectors(row, mean_row, title=f'Lissage moyen, size={size}')\n"
   ]
  },
  {
   "cell_type": "markdown",
   "metadata": {
    "id": "2hTW8ww73IbO"
   },
   "source": [
    "* On peut afficher tous les signaux les uns sur les autre, mais c'est moins lisible..."
   ]
  },
  {
   "cell_type": "code",
   "execution_count": null,
   "metadata": {
    "id": "ITMzNJBc2_S1"
   },
   "outputs": [],
   "source": [
    "show_vectors(*mean_filtering)"
   ]
  },
  {
   "cell_type": "markdown",
   "metadata": {
    "id": "lpRBJwDk0xv8"
   },
   "source": [
    "* Testez l'effet du filtre Gaussien sur le vecteur $row$ en augmentant progressivement la valeur de $\\sigma$ : 0.5, 1, 3, 5."
   ]
  },
  {
   "cell_type": "code",
   "execution_count": null,
   "metadata": {
    "id": "WVg_VUfV06lJ"
   },
   "outputs": [],
   "source": [
    "# Lisser avec des filtres gaussiens, avec sigma= 0.5, 1, 3, 5\n",
    "gauss_filtering = [row]\n",
    "for sigma in [0.5, 1, 3, 5]:\n",
    "    # A COMPLETER\n",
    "    gauss_fil = get_gauss_filter(sigma, eps)\n",
    "    gauss_row = apply_filter(row, gauss_fil)\n",
    "    gauss_filtering.append(gauss_row)\n",
    "\n",
    "    # Afficher chaque paire\n",
    "    show_vectors(row, gauss_row, title=f'Lissage gaussien, sigma={sigma}, size={len(gauss_fil)}')\n"
   ]
  },
  {
   "cell_type": "code",
   "execution_count": null,
   "metadata": {
    "id": "jEcSVDX73YuS"
   },
   "outputs": [],
   "source": [
    "# La encore, on peut afficher tout le monde sur la même figure... mais c'est un peu fouillis\n",
    "show_vectors(*gauss_filtering)"
   ]
  },
  {
   "cell_type": "markdown",
   "metadata": {
    "id": "nsgUPuqB3hqn"
   },
   "source": [
    "# Exercice 6\n",
    "## Filtrage 2D\n",
    "\n",
    "On se place maintenant dans le cadre du filtrage appliqué aux images. Le signal ici est constitué des valeurs des pixels dans un tableau à deux dimensions et les fenêtres que l'on va déplacer sur l'image sont des carrés centrés sur le pixel considéré.\n",
    "\n",
    "## Construction de la fenêtre et parcours de l'image\n",
    "\n",
    "Soit $im$ un tableau de taille $M \\times N$ contenant une image.\n",
    "\n",
    "* Etant donné un pixel désigné par un couple d'indices $(u,v)$ et un entier $m$, comment construire le sous-tableau de $im$ contenant les $(2m+1)^2$ éléments autour du pixel ?\n",
    "\n",
    "* Pour quelles valeurs de $(u,v)$ est-il possible de construire ce sous-tableau ?"
   ]
  },
  {
   "cell_type": "code",
   "execution_count": null,
   "metadata": {
    "colab": {
     "base_uri": "https://localhost:8080/",
     "height": 17
    },
    "executionInfo": {
     "elapsed": 34,
     "status": "ok",
     "timestamp": 1696252917553,
     "user": {
      "displayName": "Marek Bucki",
      "userId": "12894677198130453404"
     },
     "user_tz": -120
    },
    "id": "ZbfaGAXR3wX-",
    "outputId": "57743322-6f6b-4124-a1f2-6a1c64a38406"
   },
   "outputs": [],
   "source": [
    "# Ecrire une fonction qui extrait une fenetre centree sur (u, v) taille (2*m + 1)x(2*m + 1)\n",
    "def check_and_get_window_2D(img, u, v, m):\n",
    "    # Check\n",
    "    # A COMPLETER\n",
    "    if u - m < 0 or u + m >= img.shape[0]:\n",
    "        return False, None\n",
    "    \n",
    "    # Check\n",
    "    # A COMPLETER\n",
    "    if v - m < 0 or v + m >= img.shape[1]:\n",
    "        return False, None\n",
    "    \n",
    "    # Compute\n",
    "    window = np.empty((2*m+1, 2*m+1))\n",
    "    for i in range(-m, +m+1):\n",
    "        for j in range(-m, +m+1):\n",
    "            # A COMPLETER\n",
    "            window[m+i, m+j] = img[u+i,v+j]\n",
    "    return True, window"
   ]
  },
  {
   "cell_type": "markdown",
   "metadata": {
    "id": "Q-5xjXOz5pka"
   },
   "source": [
    "* Testez votre fonction à l'aide de la cellule ci-dessous."
   ]
  },
  {
   "cell_type": "code",
   "execution_count": null,
   "metadata": {
    "id": "ODuGywkU5tn2"
   },
   "outputs": [],
   "source": [
    "# Construire un tableau 2D d'indices\n",
    "im = np.zeros([10, 10])\n",
    "for i in range(im.shape[0]):\n",
    "    for j in range(im.shape[1]):\n",
    "        im[i, j] = i*10 + j\n",
    "\n",
    "print(im)\n",
    "\n",
    "# Test 1\n",
    "ok, win = check_and_get_window_2D(im, 1, 1, 2)\n",
    "print(f'Should be False: {ok}')\n",
    "print(win)\n",
    "\n",
    "# Test 2\n",
    "m = 2\n",
    "ok, win = check_and_get_window_2D(im, 3, 3, m)\n",
    "print(f'Should be True: {ok}')\n",
    "print(f'Window (size= {2*m+1}x{2*m+1}) should be centered on element \"33\"=\\n{win}')\n",
    "\n",
    "# Autres tests\n",
    "# A completer..."
   ]
  },
  {
   "cell_type": "markdown",
   "metadata": {
    "id": "H4j91FBQ5Zau"
   },
   "source": [
    "* Initialisez l'image $im$ en exécutant la cellule ci-dessous."
   ]
  },
  {
   "cell_type": "code",
   "execution_count": null,
   "metadata": {
    "id": "6pQTZcaw4q0w"
   },
   "outputs": [],
   "source": [
    "# Test 3\n",
    "im = np.array([[1, 0, 0, 0],\n",
    "               [0, 2, 0, 0],\n",
    "               [0, 0, 3, 0],\n",
    "               [0, 0, 0, 4]])\n"
   ]
  },
  {
   "cell_type": "markdown",
   "metadata": {
    "id": "vRk3CQDH6SgX"
   },
   "source": [
    "* Trouvez toutes les fenêtres de taille 3x3 de ce tableau.\n",
    "\n",
    "Vous devez obtenir le resultat suivant :\n",
    "\n",
    "    -----------------\n",
    "    [[1. 0. 0.]\n",
    "     [0. 2. 0.]\n",
    "     [0. 0. 3.]]\n",
    "    -----------------\n",
    "    [[0. 0. 0.]\n",
    "     [2. 0. 0.]\n",
    "     [0. 3. 0.]]\n",
    "    -----------------\n",
    "    [[0. 2. 0.]\n",
    "     [0. 0. 3.]\n",
    "     [0. 0. 0.]]\n",
    "    -----------------\n",
    "    [[2. 0. 0.]\n",
    "     [0. 3. 0.]\n",
    "     [0. 0. 4.]]"
   ]
  },
  {
   "cell_type": "code",
   "execution_count": null,
   "metadata": {
    "id": "DO2c01e26TAz"
   },
   "outputs": [],
   "source": [
    "for u in range(im.shape[0]):\n",
    "    for v in range(im.shape[1]):\n",
    "        # A COMPLETER\n",
    "        ok, win = check_and_get_window_2D(im, u, v, 1)\n",
    "        if ok:\n",
    "            print('-----------------')\n",
    "            print(win)"
   ]
  },
  {
   "cell_type": "markdown",
   "metadata": {
    "id": "PZsGGFiI69ON"
   },
   "source": [
    "# Exercice 7\n",
    "## Filtre moyenne\n",
    "\n",
    "De même qu'en 1D, l'application de ce filtre consiste à calculer la nouvelle valeur d'un pixel comme étant la  moyenne des valeurs sur une fenêtre centrée autour de lui.\n",
    "\n",
    "* En vous inspirant de l'exercice précédent, écrivez une fonction qui à partir d'une image $im$ renvoie l'image $im2$ définie de la façon suivante :\n",
    "  * pour chaque couple d'indices $(u,v)$, $im2[u,v]$ contient la moyenne de la fenêtre de taille $(2m+1)^2$ autour de $im(u,v)$ si la fenêtre est définie, et sinon $0$.\n",
    "\n",
    "* Vous pouvez tester avec une image simple contenant un carré noir sur fond blanc.\n",
    "\n",
    "* Vous pouvez faire varier la taille de la fenêtre et observer le résultat.\n"
   ]
  },
  {
   "cell_type": "code",
   "execution_count": null,
   "metadata": {
    "id": "mZoskOIf7IIn"
   },
   "outputs": [],
   "source": [
    "# Ecrire une fonction qui applique un filtre moyen a une image\n",
    "def mean_filter_2D(img, m):\n",
    "    # Creer une image vide de la meme taille que l'image en entree\n",
    "    mean_img = np.empty(img.shape)\n",
    "\n",
    "    # Appliquer le filtre\n",
    "    for i in range(img.shape[0]):\n",
    "        for j in range(img.shape[1]):\n",
    "            # A COMPLETER\n",
    "            ok, win = check_and_get_window_2D(img, i, j, m)\n",
    "            if ok:\n",
    "                mean_img[i,j] = win.sum()/((2*m+1)**2)\n",
    "            else:\n",
    "                mean_img[i,j] = 0.\n",
    "    return mean_img"
   ]
  },
  {
   "cell_type": "code",
   "execution_count": null,
   "metadata": {
    "id": "3qIgUCDeDDxA"
   },
   "outputs": [],
   "source": [
    "# Creer une image d'un carre noir sur fond blanc\n",
    "square = np.ones((10, 10)) * 255\n",
    "square[3:7, 3:7] = 0\n",
    "\n",
    "# Afficher\n",
    "print(square)\n",
    "show_image(square, title='Image carre test')\n",
    "\n",
    "# Test 1\n",
    "mean_square = mean_filter_2D(square, 1)\n",
    "print(mean_square)\n",
    "show_image(mean_square, title='Image carre test, filtre moyen 3x3')"
   ]
  },
  {
   "cell_type": "markdown",
   "metadata": {
    "id": "olK-oUELC-68"
   },
   "source": [
    "* Faites de même avec l'image papillon.bmp, avec des filtres 3x3 et 11x11.\n",
    "\n",
    "* Que pensez-vous du résultat pour $m=5$ ?"
   ]
  },
  {
   "cell_type": "code",
   "execution_count": null,
   "metadata": {
    "id": "t9Mgj8Rz7PhZ"
   },
   "outputs": [],
   "source": [
    "# Charger l'image\n",
    "test_img = load_and_show_image('./papillon.bmp', title='Image')\n",
    "\n",
    "# Test 2\n",
    "# A COMPLETER\n",
    "mean_test_img = mean_filter_2D(test_img, 1)\n",
    "show_image(mean_test_img, title='Image, filtre moyen 3x3')\n",
    "\n",
    "# Test 3\n",
    "# A COMPLETER\n",
    "mean_test_img = mean_filter_2D(test_img, 5)\n",
    "show_image(mean_test_img, title='Image, filtre moyen 11x11')\n"
   ]
  },
  {
   "cell_type": "markdown",
   "metadata": {
    "id": "rgGhvnMXDcgZ"
   },
   "source": [
    "# Exercice 8\n",
    "## Moyenne pondérée 2D\n",
    "\n",
    "On étend en 2D la moyenne pondérée définie dans l'exercice 3.\n",
    "\n",
    "* Etant donné une matrice $W$ de taille $(2m+1)^2$ qu'on suppose normalisée, et une image $im$ contenant un signal, comment calculer la moyenne pondérée par les poids $W$ ?\n",
    "\n",
    "_**Indications** : l'opérateur numpy $*$ réalise le produit terme à terme de deux tableaux, et la fonction $np.sum$ renvoie la somme des éléments d'un tableau._\n",
    "\n",
    "* Modifiez la fonction dans la cellule ci-dessous pour qu'elle réalise l'opération de moyenne pondérée par les poids $W$ sur les éléments de l'image $im$ et renvoie le résultat."
   ]
  },
  {
   "cell_type": "code",
   "execution_count": null,
   "metadata": {
    "id": "b6d1epFjDjQX"
   },
   "outputs": [],
   "source": [
    "# Ecrire une fonction qui applique un filtre en 2D a une image\n",
    "def apply_filter_2D(im, W):\n",
    "    fil_img = np.empty(im.shape)\n",
    "    m = int((W.shape[0] - 1) / 2)\n",
    "    # Que se passe-t-il si le filtre a une taille paire ?\n",
    "    # Quels autres checks faudrait il mettre en place?\n",
    "\n",
    "    # Calculer l'image filtree\n",
    "    for i in range(im.shape[0]):\n",
    "        for j in range(im.shape[1]):\n",
    "            # A COMPLETER\n",
    "            ok, win = check_and_get_window_2D(im, i, j, m)\n",
    "            if ok:\n",
    "                mean_val = np.sum(win * W)\n",
    "            else:\n",
    "                mean_val = 0.\n",
    "            fil_img[i, j] = mean_val\n",
    "    return fil_img"
   ]
  },
  {
   "cell_type": "markdown",
   "metadata": {
    "id": "fyddXHAcDolF"
   },
   "source": [
    "* Testez avec les poids $W = (1/9)*np.ones(3,3)$, vous devez retrouver le même résultat qu'à l'exercice précédent."
   ]
  },
  {
   "cell_type": "code",
   "execution_count": null,
   "metadata": {
    "id": "MIj-jneGDpbw"
   },
   "outputs": [],
   "source": [
    "# Creer un filtre moyen 3x3 (m=1)\n",
    "W = np.ones((3, 3)) / 9\n",
    "print(f'W=\\n{W}')\n",
    "\n",
    "# Test 1: carre noir sur fond blanc\n",
    "square = np.ones((10, 10)) * 255\n",
    "square[3:7, 3:7] = 0\n",
    "print(f'square=\\n{square}')\n",
    "show_image(square, title='Image carre test')\n",
    "#\n",
    "# A COMPLETER\n",
    "mean_square = apply_filter_2D(square, W)\n",
    "print(f'mean_square=\\n{mean_square}')\n",
    "show_image(mean_square, title='Image carre test + filtre pondere 3x3')"
   ]
  },
  {
   "cell_type": "markdown",
   "metadata": {
    "id": "uikO8b9XFNml"
   },
   "source": [
    "* Faites de même avec l'image papillon.bmp."
   ]
  },
  {
   "cell_type": "code",
   "execution_count": null,
   "metadata": {
    "id": "pK79uvvLFRBa"
   },
   "outputs": [],
   "source": [
    "# Test 2\n",
    "test_img = load_and_show_image('./papillon.bmp', title='Image')\n",
    "# A COMPLETER\n",
    "W = np.ones([3,3])/9\n",
    "mean_test_img = apply_filter_2D(test_img, W)\n",
    "show_image(mean_test_img, title='Image + filtre pondere 3x3')"
   ]
  },
  {
   "cell_type": "markdown",
   "metadata": {
    "id": "30hLcJ8JGjgK"
   },
   "source": [
    "# Exercice 9\n",
    "## Filtre gaussien\n",
    "\n",
    "On peut étendre à deux dimensions la fonction gaussienne vue auparavant :\n",
    "$f_{2D}(x,y) = e^{-\\frac{x^2+y^2}{2\\sigma^2}}$. Elle possède les mêmes bonnes propriétés pour obtenir des poids : valeur plus importante sur l'élément central de la fenêtre et décroissance régulière; de plus elle ne possède pas de direction privilégiée.\n",
    "\n",
    "Par ailleurs, on peut observer que $f_{2D}(x,y) = e^{-\\frac{x^2}{2\\sigma^2}}e^{-\\frac{y^2}{2\\sigma^2}} = f(x)f(y)$, ce qui implique qu'on peut construire le filtre gaussien $G2D$ correspondant à $f_{2D}$ à partir du filtre gaussien 1D $G$ construit plus haut :\n",
    "$\\tt \\forall (i,j), G2D(i,j) = G(i)*G(j)$\n",
    "\n",
    "* Modifiez la cellule ci-dessous pour qu'elle renvoie le tableau $G2D$ décrit ci-dessus. Il y a (au moins) deux façons de faire : soit en réutilisant les termes du filtre 1D, soit en repartant du calcul de $L$ puis en échantillonnant la fonction $f_{2D}$.\n",
    "\n",
    "* Pour $\\sigma=0.5$ et $\\epsilon=0.001$ e tableau doit contenir les valeurs suivantes :\n",
    "\n",
    "|           |           |           |\n",
    "|-----------|-----------|-----------|\n",
    "| 0.0113437 | 0.0838195 | 0.0113437 |\n",
    "| 0.0838195 | 0.619347  | 0.0838195 |\n",
    "| 0.0113437 | 0.0838195 | 0.0113437 |\n",
    "\n",
    "\n",
    "* Remarquez qu'on a bien $\\sum_{i, j} \\texttt{G2D}_{ij} = 1$."
   ]
  },
  {
   "cell_type": "code",
   "execution_count": null,
   "metadata": {
    "id": "SkP135FzI3SN"
   },
   "outputs": [],
   "source": [
    "# Ecrire une fonction gaussienne 2D\n",
    "def f_2D(x, y, sig):\n",
    "    return f(x, sig)*f(y, sig)\n",
    "\n",
    "\n",
    "# Ecrire une fonction qui calcule une filtre gaussien en 2D\n",
    "def get_gauss_filter_2D(sigma, epsilon):\n",
    "    # A COMPLETER\n",
    "    # Trouver le plus grand entier L tel que f(L) > epsilon\n",
    "    L = int(sigma*np.sqrt(-2*np.log(epsilon)))\n",
    "\n",
    "    # # Debug\n",
    "    # print(f'Check f(L)   >  {epsilon}: {f(L, sigma)}')\n",
    "    # print(f'Check f(L+1) <= {epsilon}: {f(L+1, sigma)}')\n",
    "\n",
    "    # Calculer les poids\n",
    "    w = np.empty((2*L+1, 2*L+1))\n",
    "    for i in range(-L, L+1):\n",
    "        for j in range(-L, L+1):\n",
    "            w[L+i,L+j] = f_2D(i,j,sigma)\n",
    "\n",
    "    # Normaliser les poids pour obtenir le filtre\n",
    "    fil = w/w.sum()\n",
    "    return fil\n",
    "    \n",
    "# Test\n",
    "G2D = get_gauss_filter_2D(sigma=0.5, epsilon=0.001)\n",
    "print(f'G2D=\\n{G2D}')\n",
    "print(f'somme= {np.sum(G2D)}')"
   ]
  },
  {
   "cell_type": "markdown",
   "metadata": {
    "id": "ea7MjafBI_ou"
   },
   "source": [
    "* Vous pouvez maintenant utiliser la fonction de l'exercice précédent pour appliquer le filtre gaussien sur l'image papillon.bmp.\n",
    "\n",
    "* Vous pouvez faire varier $\\sigma$.\n",
    "\n",
    "* Que pensez-vous du résultat pour $\\sigma = 2.5$ en comparaison avec le résultat avec un filtre moyenne de grande taille ?\n",
    "\n",
    "* Comparer a l'image produite par un filtre moyen de grande taille (m=5) plus haut."
   ]
  },
  {
   "cell_type": "code",
   "execution_count": null,
   "metadata": {
    "id": "NUf2-zT-JG7Y"
   },
   "outputs": [],
   "source": [
    "# Test 2\n",
    "im = load_and_show_image('./papillon.bmp', title='Image')\n",
    "# A COMPLETER\n",
    "G2D = get_gauss_filter_2D(sigma=0.5, epsilon=0.001)\n",
    "im2 = apply_filter_2D(im, G2D)\n",
    "\n",
    "print(f'G2D {G2D.shape}=\\n{G2D}')\n",
    "show_image(im2, title='Image + filtre gaussien 2D')"
   ]
  },
  {
   "cell_type": "markdown",
   "metadata": {
    "id": "3nSpyLEvUk_x"
   },
   "source": [
    "# Exercice 10\n",
    "## Lissage d'une image bruitée\n",
    "\n",
    "On reprend l'image bruitée papillon_noise.bmp.\n",
    "\n",
    "* Appliquez le filtre moyenne à l'image bruitée pour plusieurs tailles de fenêtres.\n",
    "\n",
    "* Faites de même avec le filtre gaussien pour plusieurs valeurs de $\\sigma$.\n",
    "\n",
    "* Avec quel filtre obtient-on le meilleur résultat ?"
   ]
  },
  {
   "cell_type": "code",
   "execution_count": null,
   "metadata": {
    "id": "DQg6cJdsU19y"
   },
   "outputs": [],
   "source": [
    "# Charger l'image bruitee\n",
    "img = load_and_show_image('./papillon_noise.bmp', title='Image bruitee')\n",
    "\n",
    "# Lisser avec des filtres gaussiens, avec sigma= 0.5, 1, 3, 5\n",
    "gauss_sizes = []\n",
    "for sigma in [0.5, 1, 3, 5]:\n",
    "    # Generer le filtre gaussien\n",
    "    # A COMPLETER\n",
    "    gauss_fil = get_gauss_filter_2D(sigma=sigma, epsilon=0.001)\n",
    "    size = gauss_fil.shape[0]\n",
    "    print(f'Filtre gaussien, sigma= {sigma}, {size} x {size}')\n",
    "\n",
    "    # Garder en memoire ses dimensions\n",
    "    gauss_sizes.append(size)\n",
    "\n",
    "    # Appliquer a l'image\n",
    "    # A COMPLETER\n",
    "    gauss_img = apply_filter_2D(img, gauss_fil)\n",
    "    \n",
    "    # Afficher l'image\n",
    "    show_image(gauss_img, title=f'Image bruitee + filtre gaussien {size}x{size} sigma={sigma}')\n",
    "\n",
    "# Lisser avec des filtres moyens de MEME taille que les filtres gaussiens utilises plus haut\n",
    "for size in gauss_sizes:\n",
    "    # Generer le filtre moyen\n",
    "    # A COMPLETER\n",
    "    mean_fil = np.ones((size,size)) / (size**2)\n",
    "    print(f'Filtre moyen {size} x {size}')\n",
    "\n",
    "    # Appliquer a l'image\n",
    "    # A COMPLETER\n",
    "    mean_img = apply_filter_2D(img, mean_fil)\n",
    "    \n",
    "    # Afficher l'image\n",
    "    show_image(mean_img, title=f'Image bruitee + filtre moyen {size}x{size}')"
   ]
  },
  {
   "cell_type": "markdown",
   "metadata": {
    "id": "Az8CtZU6VoTR"
   },
   "source": [
    "# Exercice 11\n",
    "## Technique du masque flou\n",
    "\n",
    "La technique du masque flou consiste à utiliser une version floue d'une image pour augmenter la netteté et faire ressortir ses détails :\n",
    "\n",
    "* Soit $I$ une image et $I_f$ sa version floue ; le masque est $I_m = I - I_f$, il contient les éléments ``non flous'' de l'image, donc ses détails.\n",
    "\n",
    "* L'image traitée est obtenue en combinant l'image initiale $I$ et le masque $I_m$. Nous nous limiterons aux combinaisons de la forme $I + \\alpha I_m$ pour $\\alpha>0$ mais il en existe d'autres.\n",
    "\n",
    "**REMARQUE** : A partir de maintenant nous utiliserons la fonction `signal.convolve2d()` de la librairie `scipy` pour appliquer un filtre $H$ à une image $im$.\n",
    "\n",
    "* Dans la cellule ci-dessous complétez la fonction qui prend en entrée une image $im$ et le paramètre $\\sigma$ afin qu'elle renvoie le masque obtenu par différence entre $im$ et de sa version floue obtenue par convolution avec le filtre gaussien de paramètre $\\sigma$."
   ]
  },
  {
   "cell_type": "code",
   "execution_count": null,
   "metadata": {
    "id": "pUQ2F2S2VvUb"
   },
   "outputs": [],
   "source": [
    "# Ecrire une fonction qui calcule le masque flou d'une image img := img - img * G2D(sigma)\n",
    "def get_mask(im, sigma):\n",
    "    # Calculer le filtre\n",
    "    # A COMPLETER\n",
    "    fil = get_gauss_filter_2D(sigma=sigma, epsilon=0.001)\n",
    "    \n",
    "    # Calculer la convolution\n",
    "    # Differences avec les calculs precedents:\n",
    "    # - bien plus rapide\n",
    "    # - le masque est retourne afin de respecter la definition de l'operateur de convolution\n",
    "    # - gestion des bords differente (on 'rajoute' des pixels nuls lorsque le masque deborde de l'image)\n",
    "    # ==> Pourquoi ce retournement ? est-ce que cela change notre resultat ?\n",
    "    print_timestamp('Start convolve 2D')\n",
    "    gauss_im = signal.convolve2d(im, fil, mode='same')\n",
    "    print_timestamp('End convolve 2D')\n",
    "\n",
    "    # Soustraire: attention ici le masque n'est plus veritablement une image car il peut contenir\n",
    "    # des valeurs negatives\n",
    "    # A COMPLETER\n",
    "    mask = im - gauss_im\n",
    "    \n",
    "    return mask"
   ]
  },
  {
   "cell_type": "markdown",
   "metadata": {
    "id": "lopWtX9-Vzf0"
   },
   "source": [
    "* Ecrivez une fonction qui applique le masque flou à une image."
   ]
  },
  {
   "cell_type": "code",
   "execution_count": null,
   "metadata": {
    "id": "52fNOi-cVz82"
   },
   "outputs": [],
   "source": [
    "# Ecrire une fonction qui applique un masque flou avec un coefficient alpha\n",
    "def apply_mask(img, mask, alpha):\n",
    "    \"\"\"\n",
    "    img: input image\n",
    "    mask: input mask\n",
    "    alpha: coefficient\n",
    "    returns: masked image\n",
    "    \"\"\"\n",
    "    # Que faut-il verifier ici pour que le programme ne crashe pas?\n",
    "    # A COMPLETER\n",
    "    if img.shape != mask.shape:\n",
    "        raise ValueError('Shape mismatch!')\n",
    "\n",
    "    if False:  # Testez les deux versions en changeant ce flag à False\n",
    "      # Version pythonesque: sans boucles\n",
    "      # A COMPLETER\n",
    "      new_img = int(img + alpha * mask)\n",
    "      \n",
    "    else:\n",
    "      # Version 'white box' (sans doute moins performante), avec des boucles for\n",
    "      new_img = np.empty(img.shape)\n",
    "      for i in range(img.shape[0]):\n",
    "          for j in range(img.shape[1]):\n",
    "              # A COMPLETER\n",
    "              new_val = img[i,j] + alpha * mask[i,j]\n",
    "              new_img[i, j] = int(new_val)\n",
    "              \n",
    "    return new_img"
   ]
  },
  {
   "cell_type": "markdown",
   "metadata": {
    "id": "NbgZ1BPsV28X"
   },
   "source": [
    "Vous pouvez tester cette fonction sur une image contenant deux \"gros pixels\" (voir cellule ci-dessous).\n",
    "\n",
    "1. Generer l'image test\n",
    "2. Calculer le masque avec $\\sigma=1.5$, et l'afficher\n",
    "3. Appliquer le masque avec $\\alpha=1.2$, et afficher le resultat"
   ]
  },
  {
   "cell_type": "code",
   "execution_count": null,
   "metadata": {
    "id": "VicnaRZAV3bn"
   },
   "outputs": [],
   "source": [
    "# Test 1\n",
    "im = np.ones((50, 100)) * 200\n",
    "im[:, 50:100] = 100\n",
    "show_image(im, title='Image test, 2 gros pixels')\n",
    "#\n",
    "# A COMPLETER\n",
    "mask = get_mask(im, sigma=1.5)\n",
    "show_image(mask, check_bounds=False, title='Masque flou de Image test (contient valeurs signees: + et -)')\n",
    "#\n",
    "# A COMPLETER\n",
    "im_masked = apply_mask(im, mask, alpha=1.2)\n",
    "show_image(im_masked, title='masque flou applique a Image test')"
   ]
  },
  {
   "cell_type": "markdown",
   "metadata": {
    "id": "WonZcJBSzBSe"
   },
   "source": [
    "Pour comprendre le fonctionnement du filtre, nous allons visualiser ce qui se passe sur une ligne horizontale de l'image.\n",
    "\n",
    "Le code dans la cellule ci-dessous prend la ligne du milieu (y=50) de l'image et du masque et visualise les effets de l'opération.\n",
    "\n",
    "* Expliquer pourquoi cet operateur augmente le contraste entre les regions sombre et claire."
   ]
  },
  {
   "cell_type": "code",
   "execution_count": null,
   "metadata": {
    "id": "Jr54lEDxzBwB"
   },
   "outputs": [],
   "source": [
    "# Extrait la ligne du milieu de l'image avant et apres masquage\n",
    "im_row = im[25, :]\n",
    "mask_row = mask[25, :]\n",
    "\n",
    "# Retrouve l'image filtree par le filtre gaussien\n",
    "# A COMPLETER\n",
    "gauss_row = im_masked[25,:]\n",
    "\n",
    "# Afficher les 3 lignes ensemble\n",
    "show_vectors(im_row, gauss_row, mask_row,\n",
    "             labels=['ligne source', 'ligne lissée', 'masque flou'],\n",
    "             title='Ligne test, lissée et masque flou')\n",
    "\n",
    "# Effet du masque flou sur l'image pour diffèrentes valeurs de alpha\n",
    "test_alphas = []\n",
    "labels_alpha = []\n",
    "for alpha in [0.5, 1.2, 2.0, 3.0]:\n",
    "    im_masked_row = np.clip(im_row + alpha * mask_row, 0, 255)\n",
    "    test_alphas.append(im_masked_row)\n",
    "    labels_alpha.append(f'Alpha={alpha}')\n",
    "\n",
    "show_vectors(*test_alphas, labels=labels_alpha, title='Image corrigée pour diffèrentes valeurs de alpha')"
   ]
  },
  {
   "cell_type": "markdown",
   "metadata": {
    "id": "N-F5JmLJV_dD"
   },
   "source": [
    "* Testez avec l'image sweets.bmp pour différentes valeurs de $\\alpha$ : 1, 5, 10."
   ]
  },
  {
   "cell_type": "code",
   "execution_count": null,
   "metadata": {
    "id": "MyintIUGV_2O"
   },
   "outputs": [],
   "source": [
    "# Test 2\n",
    "test_img = load_and_show_image('./sweets.bmp', title='Bonbons')\n",
    "#\n",
    "# A COMPLETER\n",
    "mask = get_mask(test_img, sigma=1.5)\n",
    "\n",
    "show_image(mask, check_bounds=False, title='Masque flou de Bonbons')\n",
    "#\n",
    "for alpha in [1, 5, 10]:\n",
    "    # A COMPLETER\n",
    "    test_img_masked = apply_mask(test_img, mask, alpha)\n",
    "    test_img_masked = np.clip(test_img_masked, 0, 255)\n",
    "    #test_img_masked = (test_img_masked - test_img_masked.min())/(test_img_masked.max() - test_img_masked.min())*255\n",
    "    show_image(test_img_masked, title=f\"Sweets avec alpha={alpha}.\")\n"
   ]
  }
 ],
 "metadata": {
  "colab": {
   "authorship_tag": "ABX9TyMP7wTntKk1a1uDTEtlgIMM",
   "provenance": []
  },
  "kernelspec": {
   "display_name": "Python 3 (ipykernel)",
   "language": "python",
   "name": "python3"
  },
  "language_info": {
   "codemirror_mode": {
    "name": "ipython",
    "version": 3
   },
   "file_extension": ".py",
   "mimetype": "text/x-python",
   "name": "python",
   "nbconvert_exporter": "python",
   "pygments_lexer": "ipython3",
   "version": "3.12.3"
  }
 },
 "nbformat": 4,
 "nbformat_minor": 4
}
