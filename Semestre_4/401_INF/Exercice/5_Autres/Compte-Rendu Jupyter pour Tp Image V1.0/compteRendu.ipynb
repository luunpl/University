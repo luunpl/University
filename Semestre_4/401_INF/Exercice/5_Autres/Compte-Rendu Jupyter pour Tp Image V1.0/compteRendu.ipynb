{
 "cells": [
  {
   "cell_type": "markdown",
   "id": "640d8d98-c198-4b02-b31a-7241099d745a",
   "metadata": {},
   "source": [
    "# Image\n",
    "\n",
    "(proposition de trame de compte-rendu, à vous de compléter/modifier/améliorer pour que cela soit **votre compte-rendu** : à la fin, il faut que l'on ait envie de lire ce que vous avez écrit, codé et testé et que l'on ait compris ce que vous avez appris pendant le tp)\n",
    "\n",
    "Un image est fournie."
   ]
  },
  {
   "cell_type": "code",
   "execution_count": null,
   "id": "2c4e22e1-578b-4183-87bd-af66e230bf79",
   "metadata": {
    "execution": {
     "iopub.execute_input": "2023-03-30T14:14:13.741539Z",
     "iopub.status.busy": "2023-03-30T14:14:13.741210Z",
     "iopub.status.idle": "2023-03-30T14:14:14.304672Z",
     "shell.execute_reply": "2023-03-30T14:14:14.303145Z",
     "shell.execute_reply.started": "2023-03-30T14:14:13.741453Z"
    },
    "tags": []
   },
   "outputs": [],
   "source": [
    "!bmtoa image_test.bm"
   ]
  },
  {
   "cell_type": "markdown",
   "id": "9ac2fb1d-fa7b-421c-a758-3e92c09a53dd",
   "metadata": {},
   "source": [
    "## Inversion vidéo\n",
    "\n",
    "Des fichiers .c sont fournis pour faire une inversion vidéo de l'image (surtout negatif.c). \n",
    "\n",
    "Ils fonctionnent :"
   ]
  },
  {
   "cell_type": "code",
   "execution_count": null,
   "id": "3c8e85e9-487f-4872-acec-70061e529268",
   "metadata": {
    "execution": {
     "iopub.execute_input": "2023-03-30T14:14:17.103903Z",
     "iopub.status.busy": "2023-03-30T14:14:17.103065Z",
     "iopub.status.idle": "2023-03-30T14:14:19.350185Z",
     "shell.execute_reply": "2023-03-30T14:14:19.348722Z",
     "shell.execute_reply.started": "2023-03-30T14:14:17.103819Z"
    },
    "tags": []
   },
   "outputs": [],
   "source": [
    "!touch negatif.c negatif_asm.S\n",
    "!touch symetrie.c symetrie_asm.S\n",
    "!make C_NEGATIF=\"-DC_NEG_OCTET -DC_NEG_IMAGE\"\n",
    "!qemu-arm transformer n\n",
    "!bmtoa resultat.bm"
   ]
  },
  {
   "cell_type": "markdown",
   "id": "b27ed5dc-5272-44e2-85ff-4ed4cf8a98cc",
   "metadata": {},
   "source": [
    "Votre travail : traduire en assembleur negatif.c\n",
    "\n",
    "Un squelette est donné :"
   ]
  },
  {
   "cell_type": "code",
   "execution_count": null,
   "id": "43d002b0-7ad3-4a12-ba5c-9ee5bc9a2895",
   "metadata": {
    "autorun": true,
    "tags": []
   },
   "outputs": [],
   "source": [
    "%%writefile negatif_asm.S                                                                                 \n",
    "@  Importation des,constantes symboliques WIDTH, HEIGHT, BYTES, BYTES_PER_LINE        \n",
    "#include \"image_bits_include.h\"                                                       \n",
    "                 .text                                                                                                                                                      \n",
    "#ifndef C_NEG_OCTET                                                                   \n",
    "                 .global neg_octet                                                    \n",
    "@ r0 : parametre octet                                                                                                                                                                                                                       \n",
    "neg_octet:                                                                            \n",
    "                                                                                      \n",
    "#endif // C_NEG_OCTET                                                                 \n",
    "                                                                                      \n",
    "#ifndef C_NEG_IMAGE                                                               \n",
    "                 .global neg_image                                                    \n",
    "@ r0 : parametre reçu image                                                                                                                                        \n",
    "neg_image:                                                                            \n",
    "                                                                                      \n",
    "                 bx  lr                                                                                                                                                  \n",
    "adr_bytes:\t.word BYTES                                                           \n",
    "#endif // C_NEG_IMAGE                                                                 "
   ]
  },
  {
   "cell_type": "markdown",
   "id": "b5eed66d-63a7-4793-b397-ecbfeac9b6b3",
   "metadata": {},
   "source": [
    "Pour exécuter votre code (asm) :"
   ]
  },
  {
   "cell_type": "code",
   "execution_count": null,
   "id": "a0815cd3-c296-4f00-a397-9131bda9f24b",
   "metadata": {
    "tags": []
   },
   "outputs": [],
   "source": [
    "!touch negatif.c negatif_asm.S\n",
    "!touch symetrie.c symetrie_asm.S\n",
    "!make\n",
    "!qemu-arm transformer n\n",
    "!bmtoa resultat.bm"
   ]
  },
  {
   "cell_type": "markdown",
   "id": "14831300-456d-4923-be14-29ccc337b275",
   "metadata": {},
   "source": [
    "## Symétrie \n",
    "\n",
    "Des fichiers .c sont donnés pour faire des symétries (surtout symetrie.c) \n",
    "\n",
    "Ils fonctionnent, par exemple ici avec un symétrie selon l'axe horizontal :\n"
   ]
  },
  {
   "cell_type": "code",
   "execution_count": null,
   "id": "962639e6-3ff9-4da5-8586-780a4770a76d",
   "metadata": {
    "execution": {
     "iopub.execute_input": "2023-03-30T14:14:25.257527Z",
     "iopub.status.busy": "2023-03-30T14:14:25.256012Z",
     "iopub.status.idle": "2023-03-30T14:14:27.547190Z",
     "shell.execute_reply": "2023-03-30T14:14:27.545877Z",
     "shell.execute_reply.started": "2023-03-30T14:14:25.257439Z"
    },
    "tags": []
   },
   "outputs": [],
   "source": [
    "!touch negatif.c negatif_asm.S\n",
    "!touch symetrie.c symetrie_asm.S\n",
    "!make C_SYMETRY=\"-DC_SYMETRIE_OCTET -DC_PERMUTER_COLS -DC_SYMETRIE_AXE_V -DC_PERMUTER_LIGNES -DC_SYMETRIE_AXE_H\"\n",
    "!qemu-arm transformer h\n",
    "!bmtoa resultat.bm"
   ]
  },
  {
   "cell_type": "markdown",
   "id": "0a009f5a-e7ab-4d4a-a860-7a1b8c8dcc3f",
   "metadata": {},
   "source": [
    "Votre travail : traduire en assembleur les programmes donnés en C.\n",
    "\n",
    "\n",
    "Un squelette est donné (un peu long, vous pouvez songer à le découper en plusieurs morceaux, pour un ré-assemblage final avec des #include, comme pour le morceau image_bits_include.h) :"
   ]
  },
  {
   "cell_type": "code",
   "execution_count": null,
   "id": "59e3f01e-cc3f-4a53-9543-e67535dc9a90",
   "metadata": {
    "autorun": true,
    "tags": []
   },
   "outputs": [],
   "source": [
    "%%writefile symetrie_asm.S \n",
    "@  Importation des,constantes symboliques WIDTH, HEIGHT, BYTES, BYTES_PER_LINE          \n",
    "#include \"image_bits_include.h\"                                                                                                                                               \n",
    "                 .global symetrie_octet                                                 \n",
    "                 .global permuter_cols                                                  \n",
    "                 .global symetrie_axe_v                                                 \n",
    "                 .global permuter_ligne                                                 \n",
    "                 .global symetrie_axe_h                                                 \n",
    "                 .global symetrie_axe_h                                                 \n",
    "                 .global permuter_lignes                                                \n",
    "                 .global symetrie_axe_v                                                 \n",
    "                                                                                        \n",
    "                 .text                                                                                                                                                          \n",
    "                                                                                        \n",
    "#ifndef C_SYMETRIE_OCTET                                                                \n",
    "#ifndef SYMTAB                                                                          \n",
    "@ r0 : parametre reçu adresse                                                           \n",
    "@ r1 : variable locale octet                                                            \n",
    "@  Version avec opérations bit à bit                                                    \n",
    "symetrie_octet:                                                                         \n",
    "                                                                                        \n",
    "#else  // SYMTAB                                                                        \n",
    "                                                                                        \n",
    "@ Version tabulée                                                                       \n",
    "symetrie_octet:  \n",
    "    \n",
    "#endif  // SYMTAB                                                                       \n",
    "#endif  // C_SYMETRIE_OCTET                                                             \n",
    "                                                                                        \n",
    "#ifndef C_PERMUTER_COLS                                                                 \n",
    "@ r0 : parametre tab                                                                    \n",
    "@ r1 : parametre col                                                                    \n",
    "permuter_cols:                                                                          \n",
    "\n",
    "#endif // C_PERMUTER_COLS                                                               \n",
    "                                                                                        \n",
    "#ifndef C_SYMETRIE_AXE_V                                                                \n",
    "@ r0 : paramètre image                                                                  \n",
    "symetrie_axe_v:                                                                         \n",
    "                                                                                        \n",
    "#endif // C_SYMETRIE_AXE_V                                                              \n",
    "                                                                                        \n",
    "#ifndef C_PERMUTER_LIGNES                                                               \n",
    "@ r0 : tab                                                                              \n",
    "@ r1 : li                                                                               \n",
    "permuter_lignes:                                                                        \n",
    "                                                                                        \n",
    "#endif // C_PERMUTER_LIGNES                                                             \n",
    "                                                                                                                                                                                \n",
    "#ifndef  C_SYMETRIE_AXE_H                                                               \n",
    "@ r0 : paramètre image                                                                  \n",
    "symetrie_axe_h:                                                                         \n",
    "                          \n",
    "          bx  lr   \n",
    "#endif   // C_SYMETRIE_AXE_H                                                            "
   ]
  },
  {
   "cell_type": "markdown",
   "id": "a1412901-aa82-45a8-b857-3f0897dd1756",
   "metadata": {},
   "source": [
    "Pour exécuter votre code (asm), par exemple ici avec un symétrie selon l'axe horizontal :"
   ]
  },
  {
   "cell_type": "code",
   "execution_count": null,
   "id": "167968aa-bfd9-4563-9860-c965b90b85ff",
   "metadata": {
    "tags": []
   },
   "outputs": [],
   "source": [
    "!touch negatif.c negatif_asm.S\n",
    "!touch symetrie.c symetrie_asm.S\n",
    "!make\n",
    "!qemu-arm transformer h\n",
    "!bmtoa resultat.bm"
   ]
  },
  {
   "cell_type": "markdown",
   "id": "0838b6b7-ac79-4245-8dd8-372a7bc962d7",
   "metadata": {},
   "source": [
    "## Conclusion\n",
    "\n",
    "Travail final à faire :\n",
    "* transformer ce bloc-note en compte-rendu."
   ]
  }
 ],
 "metadata": {
  "kernelspec": {
   "display_name": "Python 3 (ipykernel)",
   "language": "python",
   "name": "python3"
  },
  "language_info": {
   "codemirror_mode": {
    "name": "ipython",
    "version": 3
   },
   "file_extension": ".py",
   "mimetype": "text/x-python",
   "name": "python",
   "nbconvert_exporter": "python",
   "pygments_lexer": "ipython3",
   "version": "3.9.2"
  }
 },
 "nbformat": 4,
 "nbformat_minor": 5
}
