{
 "cells": [
  {
   "cell_type": "markdown",
   "id": "69f0a023-7c4b-408b-b9b5-e65a31ad8a30",
   "metadata": {},
   "source": [
    "# MapReduce (programmation fonctionnelle en ARM)\n",
    "\n",
    "Comment faire de la programmation fonctionnelle en ARM ?\n",
    "\n",
    "Vous prendrez l'exemple de **map** :\n",
    "\n",
    "```\n",
    "map(t_in,n,t_out,f) :\n",
    "  pour i = 0..n-1 :\n",
    "    t_out[i] = f(t_in[i]) \n",
    "```\n",
    "\n",
    "Le passage des paramètres se fera avec la convention sur les registres :\n",
    "\n",
    "* R0 pour t_in\n",
    "* R1 pour n\n",
    "* R2 pour t_out\n",
    "* R3 pour f\n",
    "\n",
    "Pour f, la convention d'appel passera par :\n",
    "\n",
    "* R3 pour le paramètre\n",
    "* R4 pour le résultat\n",
    "\n",
    "## Traduction de Map\n",
    "\n",
    "( ** à compléter ** méthode de traduction, choix, justification ? )\n",
    "\n",
    "Trame à compléter :"
   ]
  },
  {
   "cell_type": "code",
   "execution_count": 1,
   "id": "b15e9940-a7db-4151-8fc1-e5e3cd3d985b",
   "metadata": {},
   "outputs": [
    {
     "name": "stdout",
     "output_type": "stream",
     "text": [
      "Writing map.s\n"
     ]
    }
   ],
   "source": [
    "%%writefile map.s\n",
    "         .text\n",
    "         .global  map\n",
    "map:     \n",
    "    @@@@@@@@@@@@@@@@@\n",
    "    @@ à completer @@\n",
    "    @@@@@@@@@@@@@@@@@"
   ]
  },
  {
   "cell_type": "markdown",
   "id": "50f13c61-a023-483b-b4a0-d646ac00bba9",
   "metadata": {},
   "source": [
    "Pour compiler votre fichier :"
   ]
  },
  {
   "cell_type": "code",
   "execution_count": 2,
   "id": "7a53adfc-fa83-49bd-a127-8af88103b21c",
   "metadata": {},
   "outputs": [],
   "source": [
    "%%sh\n",
    "arm-linux-gnueabi-gcc -static -c map.s"
   ]
  },
  {
   "cell_type": "markdown",
   "id": "9b4e41fc-1513-487e-95d3-0b923545575b",
   "metadata": {},
   "source": [
    "## Appel de Map\n",
    "\n",
    "Pour l'appel de Map, vous utiliserez le fichier essai-map.s.\n",
    "\n",
    "( ** à compléter ** analyse de essai-map, explication du travail à faire ? )\n",
    "\n",
    "Trame à compléter :"
   ]
  },
  {
   "cell_type": "code",
   "execution_count": 7,
   "id": "b6408080-77ca-4d44-9f69-666d644e5550",
   "metadata": {},
   "outputs": [
    {
     "name": "stdout",
     "output_type": "stream",
     "text": [
      "Overwriting essai-map.s\n"
     ]
    }
   ],
   "source": [
    "%%writefile essai-map.s\n",
    "         .data\n",
    "invite: .asciz   \"Saisir une sequence de 10 entiers\"\n",
    "resultat: .asciz   \"Résultat :\"\n",
    "tab1:    .skip    10           @ tableau de 10 octets\n",
    "tab2:    .skip    10           @ tableau de 10 octets\n",
    "         .text\n",
    "         .global  main\n",
    "main:    push {lr}               \n",
    "         ldr      r1, LD_invite\n",
    "         bl       EcrChaine\n",
    "         ldr      r0, LD_tab1\n",
    "         mov      r1, #10\n",
    "         bl       saisir_tab\n",
    "    @ début de l'appel de la procedure map(tab1, NMAX, tab2, plus_un)\n",
    "    \n",
    "    @@@@@@@@@@@@@@@@@\n",
    "    @@ à compléter @@\n",
    "    @@@@@@@@@@@@@@@@@\n",
    "    \n",
    "    @ fin de l'appel de la procédure map\n",
    "         ldr      r1, LD_resultat\n",
    "         bl       EcrChaine\n",
    "         ldr      r0, LD_tab2\n",
    "         mov      r1, #10\n",
    "         bl       afficher_tab\n",
    "         pop      {lr}     \n",
    "         bx       lr       \n",
    "LD_invite:   .word    invite\n",
    "LD_resultat: .word    resultat\n",
    "LD_tab1:     .word    tab1\n",
    "LD_tab2:     .word    tab2\n",
    "LD_plus_un:  .word    plus_un"
   ]
  },
  {
   "cell_type": "markdown",
   "id": "6345f4c7-d620-473e-9bcc-865d063c4739",
   "metadata": {},
   "source": [
    "Pour compiler votre fichier :"
   ]
  },
  {
   "cell_type": "code",
   "execution_count": 8,
   "id": "aa0029aa-a050-46af-919b-33554c48feca",
   "metadata": {},
   "outputs": [],
   "source": [
    "%%sh\n",
    "arm-linux-gnueabi-gcc -static -c essai-map.s"
   ]
  },
  {
   "cell_type": "markdown",
   "id": "865cb20c-013f-4214-98e4-465ac394e958",
   "metadata": {},
   "source": [
    "## Exécution (et test) de Map\n",
    "\n",
    "Quand les deux précédents programmes sont terminés et compilent sans erreurs, vous pouvez tester l'ensemble :"
   ]
  },
  {
   "cell_type": "code",
   "execution_count": 11,
   "id": "f8920384-5113-4d61-a422-dd7950ae2e1d",
   "metadata": {},
   "outputs": [
    {
     "name": "stdout",
     "output_type": "stream",
     "text": [
      "Saisir une sequence de 10 entiers\n",
      "Résultat :\n",
      "0 0 0 0 0 0 0 0 0 0  \n"
     ]
    },
    {
     "ename": "CalledProcessError",
     "evalue": "Command 'b'rm -f essai-map\\narm-linux-gnueabi-gcc -static -c map.s\\narm-linux-gnueabi-gcc -static -c fg.s\\narm-linux-gnueabi-gcc -static -c mult.s\\narm-linux-gnueabi-gcc -static -c essai-map.s\\narm-linux-gnueabi-gcc -static -c gestion_tab.s\\narm-linux-gnueabi-gcc -static -c es.s\\narm-linux-gnueabi-gcc -static map.o fg.o essai-map.o gestion_tab.o es.o mult.o -o essai-map\\necho \"0 1 2 3 4 5 6 7 8 9\" | qemu-arm essai-map\\n'' returned non-zero exit status 200.",
     "output_type": "error",
     "traceback": [
      "\u001b[0;31m---------------------------------------------------------------------------\u001b[0m",
      "\u001b[0;31mCalledProcessError\u001b[0m                        Traceback (most recent call last)",
      "Cell \u001b[0;32mIn[11], line 1\u001b[0m\n\u001b[0;32m----> 1\u001b[0m \u001b[43mget_ipython\u001b[49m\u001b[43m(\u001b[49m\u001b[43m)\u001b[49m\u001b[38;5;241;43m.\u001b[39;49m\u001b[43mrun_cell_magic\u001b[49m\u001b[43m(\u001b[49m\u001b[38;5;124;43m'\u001b[39;49m\u001b[38;5;124;43msh\u001b[39;49m\u001b[38;5;124;43m'\u001b[39;49m\u001b[43m,\u001b[49m\u001b[43m \u001b[49m\u001b[38;5;124;43m'\u001b[39;49m\u001b[38;5;124;43m'\u001b[39;49m\u001b[43m,\u001b[49m\u001b[43m \u001b[49m\u001b[38;5;124;43m'\u001b[39;49m\u001b[38;5;124;43mrm -f essai-map\u001b[39;49m\u001b[38;5;130;43;01m\\n\u001b[39;49;00m\u001b[38;5;124;43marm-linux-gnueabi-gcc -static -c map.s\u001b[39;49m\u001b[38;5;130;43;01m\\n\u001b[39;49;00m\u001b[38;5;124;43marm-linux-gnueabi-gcc -static -c fg.s\u001b[39;49m\u001b[38;5;130;43;01m\\n\u001b[39;49;00m\u001b[38;5;124;43marm-linux-gnueabi-gcc -static -c mult.s\u001b[39;49m\u001b[38;5;130;43;01m\\n\u001b[39;49;00m\u001b[38;5;124;43marm-linux-gnueabi-gcc -static -c essai-map.s\u001b[39;49m\u001b[38;5;130;43;01m\\n\u001b[39;49;00m\u001b[38;5;124;43marm-linux-gnueabi-gcc -static -c gestion_tab.s\u001b[39;49m\u001b[38;5;130;43;01m\\n\u001b[39;49;00m\u001b[38;5;124;43marm-linux-gnueabi-gcc -static -c es.s\u001b[39;49m\u001b[38;5;130;43;01m\\n\u001b[39;49;00m\u001b[38;5;124;43marm-linux-gnueabi-gcc -static map.o fg.o essai-map.o gestion_tab.o es.o mult.o -o essai-map\u001b[39;49m\u001b[38;5;130;43;01m\\n\u001b[39;49;00m\u001b[38;5;124;43mecho \u001b[39;49m\u001b[38;5;124;43m\"\u001b[39;49m\u001b[38;5;124;43m0 1 2 3 4 5 6 7 8 9\u001b[39;49m\u001b[38;5;124;43m\"\u001b[39;49m\u001b[38;5;124;43m | qemu-arm essai-map\u001b[39;49m\u001b[38;5;130;43;01m\\n\u001b[39;49;00m\u001b[38;5;124;43m'\u001b[39;49m\u001b[43m)\u001b[49m\n",
      "File \u001b[0;32m/usr/local/lib/python3.9/dist-packages/IPython/core/interactiveshell.py:2422\u001b[0m, in \u001b[0;36mInteractiveShell.run_cell_magic\u001b[0;34m(self, magic_name, line, cell)\u001b[0m\n\u001b[1;32m   2420\u001b[0m \u001b[38;5;28;01mwith\u001b[39;00m \u001b[38;5;28mself\u001b[39m\u001b[38;5;241m.\u001b[39mbuiltin_trap:\n\u001b[1;32m   2421\u001b[0m     args \u001b[38;5;241m=\u001b[39m (magic_arg_s, cell)\n\u001b[0;32m-> 2422\u001b[0m     result \u001b[38;5;241m=\u001b[39m \u001b[43mfn\u001b[49m\u001b[43m(\u001b[49m\u001b[38;5;241;43m*\u001b[39;49m\u001b[43margs\u001b[49m\u001b[43m,\u001b[49m\u001b[43m \u001b[49m\u001b[38;5;241;43m*\u001b[39;49m\u001b[38;5;241;43m*\u001b[39;49m\u001b[43mkwargs\u001b[49m\u001b[43m)\u001b[49m\n\u001b[1;32m   2423\u001b[0m \u001b[38;5;28;01mreturn\u001b[39;00m result\n",
      "File \u001b[0;32m/usr/local/lib/python3.9/dist-packages/IPython/core/magics/script.py:153\u001b[0m, in \u001b[0;36mScriptMagics._make_script_magic.<locals>.named_script_magic\u001b[0;34m(line, cell)\u001b[0m\n\u001b[1;32m    151\u001b[0m \u001b[38;5;28;01melse\u001b[39;00m:\n\u001b[1;32m    152\u001b[0m     line \u001b[38;5;241m=\u001b[39m script\n\u001b[0;32m--> 153\u001b[0m \u001b[38;5;28;01mreturn\u001b[39;00m \u001b[38;5;28;43mself\u001b[39;49m\u001b[38;5;241;43m.\u001b[39;49m\u001b[43mshebang\u001b[49m\u001b[43m(\u001b[49m\u001b[43mline\u001b[49m\u001b[43m,\u001b[49m\u001b[43m \u001b[49m\u001b[43mcell\u001b[49m\u001b[43m)\u001b[49m\n",
      "File \u001b[0;32m/usr/local/lib/python3.9/dist-packages/IPython/core/magics/script.py:305\u001b[0m, in \u001b[0;36mScriptMagics.shebang\u001b[0;34m(self, line, cell)\u001b[0m\n\u001b[1;32m    300\u001b[0m \u001b[38;5;28;01mif\u001b[39;00m args\u001b[38;5;241m.\u001b[39mraise_error \u001b[38;5;129;01mand\u001b[39;00m p\u001b[38;5;241m.\u001b[39mreturncode \u001b[38;5;241m!=\u001b[39m \u001b[38;5;241m0\u001b[39m:\n\u001b[1;32m    301\u001b[0m     \u001b[38;5;66;03m# If we get here and p.returncode is still None, we must have\u001b[39;00m\n\u001b[1;32m    302\u001b[0m     \u001b[38;5;66;03m# killed it but not yet seen its return code. We don't wait for it,\u001b[39;00m\n\u001b[1;32m    303\u001b[0m     \u001b[38;5;66;03m# in case it's stuck in uninterruptible sleep. -9 = SIGKILL\u001b[39;00m\n\u001b[1;32m    304\u001b[0m     rc \u001b[38;5;241m=\u001b[39m p\u001b[38;5;241m.\u001b[39mreturncode \u001b[38;5;129;01mor\u001b[39;00m \u001b[38;5;241m-\u001b[39m\u001b[38;5;241m9\u001b[39m\n\u001b[0;32m--> 305\u001b[0m     \u001b[38;5;28;01mraise\u001b[39;00m CalledProcessError(rc, cell)\n",
      "\u001b[0;31mCalledProcessError\u001b[0m: Command 'b'rm -f essai-map\\narm-linux-gnueabi-gcc -static -c map.s\\narm-linux-gnueabi-gcc -static -c fg.s\\narm-linux-gnueabi-gcc -static -c mult.s\\narm-linux-gnueabi-gcc -static -c essai-map.s\\narm-linux-gnueabi-gcc -static -c gestion_tab.s\\narm-linux-gnueabi-gcc -static -c es.s\\narm-linux-gnueabi-gcc -static map.o fg.o essai-map.o gestion_tab.o es.o mult.o -o essai-map\\necho \"0 1 2 3 4 5 6 7 8 9\" | qemu-arm essai-map\\n'' returned non-zero exit status 200."
     ]
    }
   ],
   "source": [
    "%%sh \n",
    "rm -f essai-map\n",
    "arm-linux-gnueabi-gcc -static -c map.s\n",
    "arm-linux-gnueabi-gcc -static -c fg.s\n",
    "arm-linux-gnueabi-gcc -static -c mult.s\n",
    "arm-linux-gnueabi-gcc -static -c essai-map.s\n",
    "arm-linux-gnueabi-gcc -static -c gestion_tab.s\n",
    "arm-linux-gnueabi-gcc -static -c es.s\n",
    "arm-linux-gnueabi-gcc -static map.o fg.o essai-map.o gestion_tab.o es.o mult.o -o essai-map\n",
    "echo \"0 1 2 3 4 5 6 7 8 9\" | qemu-arm essai-map\n",
    "echo -e \"\\nfin\""
   ]
  },
  {
   "cell_type": "markdown",
   "id": "4646ed99-7f81-4a60-b3dc-96cfd585d20c",
   "metadata": {},
   "source": [
    "( ** à compléter ** Commentaires ? Utilisation ? Limites ? )"
   ]
  },
  {
   "cell_type": "markdown",
   "id": "f9c52605",
   "metadata": {},
   "source": [
    "## Traduction de Reduce\n",
    "\n",
    "Idem (...)"
   ]
  },
  {
   "cell_type": "markdown",
   "id": "047e6c40-ccaf-44a2-9c8e-85332874a51c",
   "metadata": {},
   "source": [
    "## Conclusion\n",
    "\n",
    "  ** à compléter **\n",
    "\n",
    "(temps passé, organisations/méthodes employées, difficultées rencontrées, que retenir ?)\n"
   ]
  }
 ],
 "metadata": {
  "kernelspec": {
   "display_name": "Python 3 (ipykernel)",
   "language": "python",
   "name": "python3"
  },
  "language_info": {
   "codemirror_mode": {
    "name": "ipython",
    "version": 3
   },
   "file_extension": ".py",
   "mimetype": "text/x-python",
   "name": "python",
   "nbconvert_exporter": "python",
   "pygments_lexer": "ipython3",
   "version": "3.9.2"
  }
 },
 "nbformat": 4,
 "nbformat_minor": 5
}
