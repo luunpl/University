{
 "cells": [
  {
   "cell_type": "markdown",
   "id": "78bb17ad-1ed1-4864-8d68-268db12873ff",
   "metadata": {},
   "source": [
    "# Elements de correction\n",
    "\n",
    "## Question de cours\n",
    "### Question a) Cycle de base d'exécution des instructions assembleur\n",
    "\n",
    "Par exemple :\n",
    "\n",
    "* Lecture de l'instruction\n",
    "* Décodage & Exécution\n",
    "* Passage à l'instruction suivante\n",
    "\n",
    "(on peut aussi détailler ces étapes et/ou ajouter la gestions des paramètres et des résultats)\n",
    "\n",
    "### Question b&c) Pipe-Line\n",
    "\n",
    "Il s'agit de l'exécution en même temps de plusieurs instructions, chacune à un moment différent du cycle :\n",
    "\n",
    "* l'une finit son cycle avec le calcul de l'adresse de l'instruction suivante\n",
    "* une seconde est au milieu de son cycle\n",
    "* une troisième commence son cycle avec la lecture de l'instruction\n",
    "\n",
    "Gain visé :\n",
    "\n",
    "* effectuer N instruction pour aller N fois plus vite (N=Nombre d'étape dans le cycle)\n",
    "\n",
    "Contraintes :\n",
    "\n",
    "* Matérielles : que le circuit puisse réaliser en parallèle les différentes étapes du cycle\n",
    "* Fonctionnelles : qu'il n'y ait pas de dépendances entre les instructions (ni vis à vis des données, ni vis à vis du choix de l'instruction suivante)\n",
    "\n",
    "\n",
    "Pour en savoir plus : \n",
    "\n",
    "* [https://fr.wikipedia.org/wiki/Pipeline_(architecture_des_processeurs)](https://fr.wikipedia.org/wiki/Pipeline_(architecture_des_processeurs))"
   ]
  },
  {
   "cell_type": "markdown",
   "id": "c10f4b4f-50c4-423c-aa2c-24adecae6f60",
   "metadata": {},
   "source": [
    "## Programmation ARM\n",
    "\n",
    "L'exercice porte sur la traduction du calcul de la distance d'édition entre 2 chaînes de caractères.\n",
    "\n",
    "Un début de programme est donné (complété un peu ici pour permettre des tests) :"
   ]
  },
  {
   "cell_type": "code",
   "execution_count": 1,
   "id": "0711934d-47cb-4f3a-86d1-3cd098460e16",
   "metadata": {},
   "outputs": [
    {
     "name": "stdout",
     "output_type": "stream",
     "text": [
      "Overwriting progTBC.s\n"
     ]
    }
   ],
   "source": [
    "%%writefile progTBC.s\n",
    "#ifndef _INIT_D\n",
    "#define _INIT_D 42\n",
    "#endif\n",
    "#ifndef _CONTROLE_CH1\n",
    "#define _CONTROLE_CH1\n",
    "#endif\n",
    "#ifndef _CONTROLE_CH2\n",
    "#define _CONTROLE_CH2\n",
    "#endif\n",
    ".data\n",
    "msg1: .asciz \"Entrer un mot\"\n",
    "msg2: .asciz \"Distance entre les 2 mots \"\n",
    "d: .word _INIT_D\n",
    ".bss\n",
    "ch1: .skip 80\n",
    "ch2: .skip 80\n",
    ".text\n",
    ".global main\n",
    "main: push {lr}\n",
    "    \n",
    "    @@ A COMPLETER\n",
    "#include \"corpsMain.s\"\n",
    "\n",
    "    pop {lr}\n",
    "    mov R0, #0\n",
    "    bx lr\n",
    "#ifdef FONCTION\n",
    "#include \"fonction.s\"\n",
    "#else\n",
    "DistLev:\n",
    "    bx lr\n",
    "#endif\n",
    "LD_d: .word d\n",
    "LD_ch1: .word ch1\n",
    "LD_ch2: .word ch2\n",
    "LD_msg1: .word msg1\n",
    "LD_msg2: .word msg2"
   ]
  },
  {
   "cell_type": "markdown",
   "id": "bad97867-0b6d-4d55-a199-e5174f803f2b",
   "metadata": {},
   "source": [
    "### Question d) Traduction des entrées-sorties\n",
    " \n",
    "La traduction du programme principal (hors appel à la fonction) :"
   ]
  },
  {
   "cell_type": "code",
   "execution_count": 2,
   "id": "aa806816-c885-4765-b20e-ec2d3ef4f953",
   "metadata": {},
   "outputs": [
    {
     "name": "stdout",
     "output_type": "stream",
     "text": [
      "Overwriting corpsMain.s\n"
     ]
    }
   ],
   "source": [
    "%%writefile corpsMain.s\n",
    "@20: EcrChaine(\"Entrer un mot\")\n",
    "    ldr R1, LD_msg1              @ Qestion d)\n",
    "    bl EcrChaine                 @ Qestion d)\n",
    "@21: LireChaine(&ch1)\n",
    "    ldr R1, LD_ch1               @ Qestion d)\n",
    "    bl LireChaine                @ Qestion d)\n",
    "    _CONTROLE_CH1\n",
    "@22: EcrChaine(\"Entrer un mot\")\n",
    "    ldr R1, LD_msg1              \n",
    "    bl EcrChaine\n",
    "@23: LireChaine(&ch2)\n",
    "    ldr R1, LD_ch2\n",
    "    bl LireChaine\n",
    "    _CONTROLE_CH2\n",
    "@24: d:=DistLev(ch1,ch2)\n",
    "#ifdef APPEL\n",
    "#include \"appel.s\"\n",
    "#endif\n",
    "@25: EcrChaine(\"Distance entre les 2 mots \")\n",
    "    ldr R1, LD_msg2              @ Qestion d)\n",
    "    bl EcrChaine                 @ Qestion d)\n",
    "@26: EcrNdecimal32(d)\n",
    "    ldr R1, LD_d                 @ Qestion d)\n",
    "    ldr R1, [R1]                 @ Qestion d)\n",
    "    bl EcrNdecimal32             @ Qestion d)"
   ]
  },
  {
   "cell_type": "markdown",
   "id": "48edaec5-4063-4574-9468-5dabcee625f0",
   "metadata": {},
   "source": [
    "<a id=\"RetourAnnexe1\"></a>\n",
    "Pour tester (un peu) :"
   ]
  },
  {
   "cell_type": "code",
   "execution_count": 3,
   "id": "8cb3c83e-8d0b-49ac-9022-8c65b2722633",
   "metadata": {},
   "outputs": [
    {
     "name": "stdout",
     "output_type": "stream",
     "text": [
      "Entrer un mot\n",
      "Entrer un mot\n",
      "Distance entre les 2 mots \n",
      "42\n"
     ]
    }
   ],
   "source": [
    "!cpp progTBC.s  > prog.s\n",
    "!arm-linux-gnueabi-gcc -static prog.s es.s -o prog.e\n",
    "!printf 'INM\\nMIN\\n' | qemu-arm  prog.e"
   ]
  },
  {
   "cell_type": "markdown",
   "id": "e77f4199-1725-407d-97dd-f47fe4c6376d",
   "metadata": {},
   "source": [
    "La réponse (42) est la valeur initiale mise par défaut pour d. (rem. : Cette valeur initiale peut être modifiée sur la ligne de commande de la prè-compilation \\[cpp -D _INIT_D=<valeur initiale de d>\\])\n",
    "\n",
    "*Pour tester plus, il faudrait, par exemple, faire varier la valeur initiale de d et ajouter un affichage de contrôle des chaînes ch1 et ch2 (cf. [Annexe 1](#Annexe1))*"
   ]
  },
  {
   "cell_type": "markdown",
   "id": "ea789472-1bf6-4f7d-8145-795218d37668",
   "metadata": {},
   "source": [
    "### Question e) Appel de fonction"
   ]
  },
  {
   "cell_type": "code",
   "execution_count": 4,
   "id": "0cb71c0b-f793-4e37-bcba-f4f9c9528f00",
   "metadata": {},
   "outputs": [
    {
     "name": "stdout",
     "output_type": "stream",
     "text": [
      "Overwriting appel.s\n"
     ]
    }
   ],
   "source": [
    "%%writefile appel.s\n",
    "@d:=DistLev(ch1,ch2)             @ Qestion e)\n",
    "    ldr R0, LD_ch1\n",
    "    push {R0}\n",
    "    ldr R0, LD_ch2\n",
    "    push {R0}\n",
    "    sub SP, SP, #4\n",
    "    bl DistLev\n",
    "    pop {R0}\n",
    "    add SP, SP, #8\n",
    "    ldr R1, LD_d\n",
    "    str R0, [R1]"
   ]
  },
  {
   "cell_type": "markdown",
   "id": "3291df9e-22b8-4116-83b4-e6be70b23a47",
   "metadata": {},
   "source": [
    "<a id=\"RetourAnnexe2\"></a>\n",
    "Pour tester (un peu) :"
   ]
  },
  {
   "cell_type": "code",
   "execution_count": 5,
   "id": "294f101e-d04a-443d-a825-bada69a715a4",
   "metadata": {},
   "outputs": [
    {
     "name": "stdout",
     "output_type": "stream",
     "text": [
      "Entrer un mot\n",
      "Entrer un mot\n",
      "Distance entre les 2 mots \n",
      "1082132356\n"
     ]
    }
   ],
   "source": [
    "!cpp -D APPEL progTBC.s > prog.s\n",
    "!arm-linux-gnueabi-gcc -static prog.s es.s -o prog.e\n",
    "!printf \"INM\\nMIN\\n\" | qemu-arm  prog.e"
   ]
  },
  {
   "cell_type": "markdown",
   "id": "5719a8e1-6aaa-4f5b-bdda-5ad3b5b3b47b",
   "metadata": {},
   "source": [
    "La réponse (un nombre presque aléatoire) corespond à ce qui était en mémoire là où on a réservé de la place pour le résultat sur la pile, ce n'est pas complètement aléatoire (il y a bien eu un moment où cette valeur signifiait quelque chose pour le programme qui l'employait) mais elle n'est pas liée à ce que l'on veut faire.\n",
    "\n",
    "*Pour tester plus, il faudrait, par exemple, ajouter une action visible dans la fonction DistLev (comme, empiler une valeur connue au niveau du résultat, au lieu de simplement réserver de la place, cf. [Annexe 2](#Annexe2))*"
   ]
  },
  {
   "cell_type": "markdown",
   "id": "c503266d-2859-4bbe-838a-df1b75a00585",
   "metadata": {},
   "source": [
    "### Question f) et i) Prologue, retour et épilogue de la fonction"
   ]
  },
  {
   "cell_type": "code",
   "execution_count": 6,
   "id": "3ee2e64e-b96c-49e1-a0d3-837aaafc63b9",
   "metadata": {},
   "outputs": [
    {
     "name": "stdout",
     "output_type": "stream",
     "text": [
      "Overwriting fonction.s\n"
     ]
    }
   ],
   "source": [
    "%%writefile fonction.s\n",
    "DistLev:\n",
    "    push {lr}                   @ Qestion f) \n",
    "    push {fp}\n",
    "    mov fp,sp\n",
    "    sub sp,sp,#8\n",
    "    push {R0}\n",
    "    push {R1}\n",
    "    push {R2}\n",
    "#ifdef CORPS\n",
    "#include \"corpsFonction.s\"\n",
    "#endif\n",
    "    ldr R0, [fp,#-4]            @ Qestion i)\n",
    "    str R0, [fp,#8]\n",
    "    pop {R2}\n",
    "    pop {R1}\n",
    "    pop {R0}\n",
    "    add sp,sp,#8\n",
    "    pop {fp}\n",
    "    pop {lr}\n",
    "    bx lr"
   ]
  },
  {
   "cell_type": "markdown",
   "id": "69e0bcf4-5894-4bed-aa8c-dd786d019ea2",
   "metadata": {},
   "source": [
    "Pour tester (un peu) :"
   ]
  },
  {
   "cell_type": "code",
   "execution_count": 7,
   "id": "904cfb44-f4dd-440a-be59-d4d463f72557",
   "metadata": {},
   "outputs": [
    {
     "name": "stdout",
     "output_type": "stream",
     "text": [
      "Entrer un mot\n",
      "Entrer un mot\n",
      "Distance entre les 2 mots \n",
      "1082132684\n"
     ]
    }
   ],
   "source": [
    "!cpp  -D APPEL -D FONCTION progTBC.s > prog.s\n",
    "!arm-linux-gnueabi-gcc -static prog.s es.s -o prog.e\n",
    "!printf \"INM\\nMIN\\n\" | qemu-arm  prog.e"
   ]
  },
  {
   "cell_type": "markdown",
   "id": "bdf7476b-d6ef-4453-9bda-a65dd639bf4f",
   "metadata": {},
   "source": [
    "*Pour tester plus, il faudrait, par exemple, ajouter une action visible dans le corps de la fonction DistLev, c'est l'objet de la suite.*\n",
    "\n",
    "Pour la suite, un dessin permet de mieux comprendre l'organisation de la pile :\n",
    "```\n",
    "       | ... |\n",
    "       | R2  |\n",
    "       | R1  |  \n",
    "       | R0  |\n",
    "       | alt |  \n",
    "       | loc |\n",
    " fp -> | fp  |  \n",
    "       | lr  |\n",
    "       | res |  \n",
    "       | ch2 |\n",
    "       | ch1 |  \n",
    "       | ... |\n",
    "```"
   ]
  },
  {
   "cell_type": "markdown",
   "id": "b57a3f6f-82d4-453a-808d-f271c7896306",
   "metadata": {},
   "source": [
    "### Question g) Conditionnelle"
   ]
  },
  {
   "cell_type": "code",
   "execution_count": 8,
   "id": "f58a8992-3975-4f87-ab71-13bca7af6e99",
   "metadata": {},
   "outputs": [
    {
     "name": "stdout",
     "output_type": "stream",
     "text": [
      "Overwriting corpsFonction.s\n"
     ]
    }
   ],
   "source": [
    "%%writefile corpsFonction.s\n",
    "@si (a[0]+b[0]) == 0 alors loc = 0 sinon l.2 finsi(l.11)  @ Qestion g)\n",
    "    ldr R0, [fp,#16]\n",
    "    ldrb R0, [R0]\n",
    "    ldr R1, [fp,#12]\n",
    "    ldrb R1, [R1]\n",
    "    add R0, R0, R1\n",
    "    cmp R0, #0\n",
    "    bne l.2\n",
    "    str R0, [fp,#-4]\n",
    "    b l.11\n",
    "l.2: nop\n",
    "#ifdef ALT\n",
    "#include \"alt.s\"\n",
    "#endif\n",
    "l.11: nop"
   ]
  },
  {
   "cell_type": "markdown",
   "id": "95471c4e-6379-4b6b-85a1-5c79f627d7e9",
   "metadata": {},
   "source": [
    "Pour tester (un peu) :"
   ]
  },
  {
   "cell_type": "code",
   "execution_count": 9,
   "id": "98d38bd1-0503-4a28-9ba1-1cdafeb67a7e",
   "metadata": {},
   "outputs": [
    {
     "name": "stdout",
     "output_type": "stream",
     "text": [
      "Entrer un mot\n",
      "Entrer un mot\n",
      "Distance entre les 2 mots \n",
      "0\n"
     ]
    }
   ],
   "source": [
    "!cpp  -D APPEL -D FONCTION -D CORPS progTBC.s > prog.s\n",
    "!arm-linux-gnueabi-gcc -static prog.s es.s -o prog.e\n",
    "!printf \"\\n\\n\" | qemu-arm  prog.e"
   ]
  },
  {
   "cell_type": "markdown",
   "id": "49b11456-93d2-4fb3-ab72-bea366c44443",
   "metadata": {},
   "source": [
    "Pour 2 textes vides, le programme donne bien une distance de 0 (sans appel récursif imbriqué)\n",
    "\n",
    "*Pour tester un peu plus, il faudrait aussi vérifier avec 2 mots non vides*\n",
    "\n",
    "### Question h) appel récursif imbriqué"
   ]
  },
  {
   "cell_type": "code",
   "execution_count": 10,
   "id": "d3e17e4d-63d2-4d67-966e-f204e027f45e",
   "metadata": {},
   "outputs": [
    {
     "name": "stdout",
     "output_type": "stream",
     "text": [
      "Overwriting alt.s\n"
     ]
    }
   ],
   "source": [
    "%%writefile alt.s\n",
    "@alt = 1 + DistLev(a, adresse de b[1])     @ Qestion h)\n",
    "    ldr R0, [fp,#16]\n",
    "    push {R0}\n",
    "    ldr R0, [fp,#12]\n",
    "    add R0,R0,#1\n",
    "    push {R0}\n",
    "    sub SP, SP, #4\n",
    "    bl DistLev\n",
    "    pop {R0}\n",
    "    add SP, SP, #8\n",
    "    add R0,R0,#1\n",
    "    str R0, [fp,#-8]"
   ]
  },
  {
   "cell_type": "markdown",
   "id": "a1656e04-57c9-4f3c-87db-687c157b17db",
   "metadata": {},
   "source": [
    "<a id=\"RetourAnnexe3\"></a>\n",
    "Pour tester (un peu) :"
   ]
  },
  {
   "cell_type": "code",
   "execution_count": 11,
   "id": "ac817f6d-3346-43c9-8297-69eeefc88561",
   "metadata": {},
   "outputs": [
    {
     "name": "stdout",
     "output_type": "stream",
     "text": [
      "Entrer un mot\n",
      "Entrer un mot\n",
      "Distance entre les 2 mots \n",
      "1082132684\n"
     ]
    }
   ],
   "source": [
    "!cpp  -D APPEL -D FONCTION -D CORPS -D ALT progTBC.s > prog.s\n",
    "!arm-linux-gnueabi-gcc -static prog.s es.s -o prog.e\n",
    "!printf \"\\nMIN\\n\" | qemu-arm  prog.e"
   ]
  },
  {
   "cell_type": "markdown",
   "id": "c7448bf8-532f-485b-9adb-3ad5ef26154e",
   "metadata": {},
   "source": [
    "Ca donne un résultat imprévisible, parceque le code modifie ```alt``` et non pas ```loc```.\n",
    "\n",
    "*Pour tester plus, il faudrait, par exemple, prendre un cas qui repose seulement sur les cas présents (vide/vide et \\*/vide), par exemple le cas où l'un des textes est vide et où on épuise l'autre seulement et, de plus, que les calculs se fassent sur ```loc``` plutôt que sur ```alt```, cf. [Annexe 3](#Annexe3))*\n"
   ]
  },
  {
   "cell_type": "markdown",
   "id": "cb1907ef-daea-4568-9b0f-2019f718024a",
   "metadata": {},
   "source": [
    "\n",
    "### Fin de l'exercice\n",
    "\n",
    "L'exercice est terminé, les tests passent. Pour avoir l'ensemble de la fonction, il faudrait compléter le corps. Cela permettrait de valider un peu plus le programme en entier (cf. [Annexe 5](#Annexe5)) et voir l'ensemble du code (cf. [Annexe 6](#Annexe6))\n",
    "\n",
    "Remarques sur la rédaction de cette correction :  \n",
    "\n",
    "* une première rédaction papier (avec dessin, car c'est facile d'ajouter des dessins dans ce cas) : \n",
    "  * avait permis de voir une erreur de sujet (oubli de la fonction LireChaine dans les annexes du sujet)\n",
    "  * comportait une erreur d'inattention (mis R1 au lieu de R0, dans un contexte où il n'y avait pas de R1 !)\n",
    "* la rédaction sur jupyter (sans dessin, car cela semble difficile de faire des dessins en ascii \\[en fait, ce n'est pas vrai, on peut faire des dessins simples en ascii, cf. plus haut\\])\n",
    "  * a été plus difficile pour déterminer les adresses dans la pile (j'aurais dû faire un dessin plus tôt ; il a été introduit à la fin seulement, pour faire joli, il aurait dû être mis dès le départ, pour faciliter l'écriture !)\n",
    "  * comportait deux erreurs de copier-coller, hors des questions de l'examen (saisie de ch1 deux fois, au lieu de saisie de ch1 puis ch2, un +1 de trop l.4 du code initial, c'est la seule ligne où il n'y a pas +1 !)\n",
    "  * comportait une erreur d'écriture de la variable alt dans la pile (confusion entre alt et @alt)\n",
    "  * comportait une inversion ch1/ch2 (sans conséquence)\n",
    "* conclusion : le papier et les dessins, c'est bien ; mais avec jupyter, si l'on fait les dessins et les tests, c'est encore mieux car les erreurs sont découvertes/corrigées à l'exécution lors des tests et on vérifie effectivement que c'est vraiment ok."
   ]
  },
  {
   "cell_type": "markdown",
   "id": "7d1e2d1f-5cee-43e3-8cec-36f1e69b41d8",
   "metadata": {},
   "source": [
    "## Automate d'interprétation et processeur\n",
    "\n",
    "### Question j) Image mémoire\n",
    "  \n",
    "\n",
    " @  | Mem | Commentaire\n",
    "----|-----|--------------\n",
    " 0  |  2  |  ld\n",
    " 1  |  1  |\n",
    " 2  |  5  |  add\n",
    " 3  |  E  |\n",
    " 4  |  5  |  add\n",
    " 5  |  F  |\n",
    " 6  |  3  |  st\n",
    " 7  |  F  |\n",
    " 8  |  4  |  jmp\n",
    " 9  |  4  |\n",
    " A  |  ?  |  \n",
    " B  |  ?  |\n",
    " C  |  ?  |\n",
    " D  |  ?  |\n",
    " E  |  4  |  var A\n",
    " F  |  9  |  var B\n",
    " \n",
    "### Question k) Simulation ASM\n",
    "\n",
    "L'accumulateur prend les valeurs suivantes : 1, 5, 14 (=-2 sur 4 bits), 12 (=-4), 8 (=-8) puis 0.\n",
    "\n",
    "### Question l) Simulation Automate\n",
    "\n",
    "Les états et micro-actions :\n",
    "\n",
    "* pc <- 0\n",
    "* ma <- pc\n",
    "* md <- Mem[ma]\n",
    "* ri <- md\n",
    "* pc <- pc+1\n",
    "* ma <- pc\n",
    "* pc <_ pc+s\n",
    "* md <- Mem[ma]\n",
    "* acc <- md     @ fin de ld\n",
    "* ma <- pc\n",
    "* md <- Mem[ma]\n",
    "* ri <- md\n",
    "* pc <- pc+1\n",
    "* ma <- pc\n",
    "* pc <_ pc+s\n",
    "* md <- Mem[ma]\n",
    "* ma <- md\n",
    "* md <- Mem[ma]\n",
    "* acc <- acc + md @ fin de add\n",
    "* ...\n",
    "\n",
    "### Question m) Ajout d'instructions"
   ]
  },
  {
   "cell_type": "markdown",
   "id": "ebb454b8-f734-4156-b16d-f3131325d987",
   "metadata": {},
   "source": [
    "<a id=\"RetourAnnexe4\"></a>\n",
    "Automate avec ajout :  \n",
    "*(automate de contrôle initial en [annexe 4](#Annexe4))*\n",
    "\n",
    "![automate avec ajout](./graphSolution.png)"
   ]
  },
  {
   "cell_type": "markdown",
   "id": "78d826b7-1696-4306-af2d-65b80d76c85d",
   "metadata": {},
   "source": [
    "# Commentaires\n",
    "\n",
    "Moyenne des copies à 9.3, écart-type à 4.5, max à 20 (bravo)."
   ]
  },
  {
   "cell_type": "code",
   "execution_count": 12,
   "id": "40c72c37-56ea-4891-a248-d1e70c1fb67f",
   "metadata": {},
   "outputs": [
    {
     "name": "stdout",
     "output_type": "stream",
     "text": [
      "Overwriting histogramme.r\n"
     ]
    }
   ],
   "source": [
    "%%writefile histogramme.r\n",
    "notes <- c(rep(1, 10), rep(2, 12), rep(3, 10), rep(4, 9), rep(5, 7), rep(6, 16), rep(7, 10), rep(8, 21),rep(9, 14),rep(10, 23),rep(11, 19),rep(12, 15),rep(13, 12),rep(14, 16),rep(15, 8),rep(16, 11),rep(17, 5),rep(18, 3),rep(19, 3),rep(20, 1))\n",
    "png(file = \"histogramme.png\", width = 800, height = 700)\n",
    "plot(hist(notes, breaks=seq(0.5, 20.5, by=1), xlab=\"Notes\", ylab=\"Fréquence\", main=\"Histogramme des notes\"))\n",
    "dev.off()"
   ]
  },
  {
   "cell_type": "code",
   "execution_count": 13,
   "id": "d700904f-589f-423c-8d6d-ff4e2c00b210",
   "metadata": {},
   "outputs": [
    {
     "name": "stdout",
     "output_type": "stream",
     "text": [
      "null device \n",
      "          1 \n"
     ]
    },
    {
     "data": {
      "image/png": "[encoded data removed]",
      "text/plain": [
       "<PIL.PngImagePlugin.PngImageFile image mode=P size=800x700 at 0x7F076C325A00>"
      ]
     },
     "metadata": {},
     "output_type": "display_data"
    }
   ],
   "source": [
    "from PIL import Image\n",
    "from IPython.display import display\n",
    "!Rscript histogramme.r\n",
    "img = Image.open('histogramme.png')\n",
    "display(img)"
   ]
  },
  {
   "cell_type": "markdown",
   "id": "3ebedfc3-2d78-4cee-9848-405f05068e6b",
   "metadata": {},
   "source": [
    "Erreurs :  \n",
    "\n",
    "* Exercice 1 : très peu répondu, et souvent mal répondu (l'architecture de von Neumann n'était pas la réponse attendue), 1/3 des copies (seulement) a 1 point à la question a), pour les questions 2) et 3) c'est un peu moins encore (1/4 des copies)\n",
    "* Exercice 2 : assez bien répondu (par ex. 2/3 des questions d) bien répondues même s'il reste des erreurs (cf. [annexe 7](#Annexe7))),  cependant, il y a de nombreuses erreurs liées à la taille des caractères (1 seul octet, donc qestion d, ldr**b** et add ..., **#1**, (cf. [annexe 8](#Annexe8)))"
   ]
  },
  {
   "cell_type": "markdown",
   "id": "ef52c0fe-8c13-4fac-b05e-cb0a275b7916",
   "metadata": {},
   "source": [
    "N.B. : Matrice des questions, en fonction des domaines et des (niveaux de) compétences sollicités.\n",
    "\n",
    "|            | Binaire | Arm-AlgoElem | Arm-Fun | Archi |\n",
    "|------------|---------|--------------|---------|-------|\n",
    "| Connaitre  |         |              | Q-f,i   | Q-a,b,c |\n",
    "| Comprendre | Q-j,k,l |              |         |       |\n",
    "| Appliquer  |         |  Q-d,g,h     | Q-e     |       |\n",
    "| Maitriser  |         |              |         | Q-m   |\n",
    "\n",
    "rem . : la matrice du partiel remplissait les colonnes Binaire (Connaitre, Appliquer et Maitriser), Arm-AlgoElem (Connaitre, Appliquer)"
   ]
  },
  {
   "cell_type": "markdown",
   "id": "5fbb562d-ac1d-44e0-a3fb-714d2ca2a3ff",
   "metadata": {},
   "source": [
    "## Annexes\n"
   ]
  },
  {
   "cell_type": "markdown",
   "id": "7eab5922-4427-4e87-a1df-9a80c2cb6a64",
   "metadata": {},
   "source": [
    "\n",
    "<a id=\"Annexe1\"></a>\n",
    "\n",
    "### Annexe 1 [&uarr;](#RetourAnnexe1)\n"
   ]
  },
  {
   "cell_type": "code",
   "execution_count": 14,
   "id": "934ec4f3-ecf4-4ed8-a096-c74b03e07fc2",
   "metadata": {},
   "outputs": [
    {
     "name": "stdout",
     "output_type": "stream",
     "text": [
      "Entrer un mot\n",
      "Entrer un mot\n",
      "Distance entre les 2 mots \n",
      "2048\n"
     ]
    }
   ],
   "source": [
    "!cpp -D _INIT_D=2048 progTBC.s > prog.s\n",
    "!arm-linux-gnueabi-gcc -static prog.s es.s -o prog.e\n",
    "!printf 'INM\\nMIN\\n' | qemu-arm  prog.e"
   ]
  },
  {
   "cell_type": "code",
   "execution_count": 15,
   "id": "137b8e02-a477-4f7c-8629-474e049dc896",
   "metadata": {},
   "outputs": [
    {
     "name": "stdout",
     "output_type": "stream",
     "text": [
      "Entrer un mot\n",
      "INM\n",
      "Entrer un mot\n",
      "MIN\n",
      "Distance entre les 2 mots \n",
      "42\n"
     ]
    }
   ],
   "source": [
    "!cpp -D '_CONTROLE_CH1=£ldr R1, LD_ch1£bl EcrChaine£' -D '_CONTROLE_CH2=£ldr R1, LD_ch2£bl EcrChaine£' progTBC.s | tr '£' '\\n' > prog.s\n",
    "!arm-linux-gnueabi-gcc -static prog.s es.s -o prog.e\n",
    "!printf 'INM\\nMIN\\n' | qemu-arm  prog.e"
   ]
  },
  {
   "cell_type": "markdown",
   "id": "a1bc3b6a-6f96-4313-a044-bebab7e490d6",
   "metadata": {},
   "source": [
    "<a id=\"Annexe2\"></a>\n",
    "\n",
    "### Annexe 2 [&uarr;](#RetourAnnexe2)\n"
   ]
  },
  {
   "cell_type": "code",
   "execution_count": 16,
   "id": "70917f50-e9a9-4a60-82dd-06aaecc93fed",
   "metadata": {},
   "outputs": [
    {
     "name": "stdout",
     "output_type": "stream",
     "text": [
      "Overwriting appel.s\n"
     ]
    }
   ],
   "source": [
    "%%writefile appel.s\n",
    "@d:=DistLev(ch1,ch2)\n",
    "    ldr R0, LD_ch1\n",
    "    push {R0}\n",
    "    ldr R0, LD_ch2\n",
    "    push {R0}\n",
    "    mov R0, #1024\n",
    "    push {R0}\n",
    "    bl DistLev\n",
    "    pop {R0}\n",
    "    add SP, SP, #8\n",
    "    ldr R1, LD_d\n",
    "    str R0, [R1]"
   ]
  },
  {
   "cell_type": "code",
   "execution_count": 17,
   "id": "b558d7cb-e422-44af-8f13-9bba26cfd26e",
   "metadata": {},
   "outputs": [
    {
     "name": "stdout",
     "output_type": "stream",
     "text": [
      "Entrer un mot\n",
      "Entrer un mot\n",
      "Distance entre les 2 mots \n",
      "1024\n"
     ]
    }
   ],
   "source": [
    "!cpp -D APPEL progTBC.s > prog.s\n",
    "!arm-linux-gnueabi-gcc -static prog.s es.s -o prog.e\n",
    "!printf \"INM\\nMIN\\n\" | qemu-arm  prog.e"
   ]
  },
  {
   "cell_type": "markdown",
   "id": "108627f0-fc8d-4692-b3cd-774abc868e96",
   "metadata": {},
   "source": [
    "Pour la suite, vous pouvez reprendre la première définition de ```appel.s``` ([plus haut](#RetourAnnexe2)) ou garder celle-ci (un peu plus longue)."
   ]
  },
  {
   "cell_type": "markdown",
   "id": "4d89a615-2f00-48c3-b2cb-bff446a3ac63",
   "metadata": {},
   "source": [
    "<a id=\"Annexe3\"></a>\n",
    "\n",
    "### Annexe 3 [&uarr;](#RetourAnnexe3)\n"
   ]
  },
  {
   "cell_type": "code",
   "execution_count": 18,
   "id": "7157b01b-3ff3-4a40-b073-aaf20c107e43",
   "metadata": {},
   "outputs": [
    {
     "name": "stdout",
     "output_type": "stream",
     "text": [
      "Overwriting alt.s\n"
     ]
    }
   ],
   "source": [
    "%%writefile alt.s\n",
    "@alt = 1 + DistLev(a, adresse de b[1]) ==>> loc = 1 + DistLev(a, adresse de b[1]) \n",
    "    ldr R0, [fp,#16]\n",
    "    push {R0}\n",
    "    ldr R0, [fp,#12]\n",
    "    add R0,R0,#1 \n",
    "    push {R0}\n",
    "    sub SP, SP, #4\n",
    "    bl DistLev\n",
    "    pop {R0}\n",
    "    add SP, SP, #8\n",
    "    add R0,R0,#1\n",
    "    str R0, [fp,#-4] @@ loc au lieu de alt"
   ]
  },
  {
   "cell_type": "code",
   "execution_count": 19,
   "id": "110af744-cbbf-4fa9-aabb-6de7fbe3d8e0",
   "metadata": {},
   "outputs": [
    {
     "name": "stdout",
     "output_type": "stream",
     "text": [
      "Entrer un mot\n",
      "Entrer un mot\n",
      "Distance entre les 2 mots \n",
      "3\n"
     ]
    }
   ],
   "source": [
    "!cpp  -D APPEL -D FONCTION -D CORPS -D ALT progTBC.s > prog.s\n",
    "!arm-linux-gnueabi-gcc -static prog.s es.s -o prog.e\n",
    "!printf \"\\nMIN\\n\" | qemu-arm  prog.e"
   ]
  },
  {
   "cell_type": "markdown",
   "id": "5222fca0-3e16-4180-997c-d1664efe32ee",
   "metadata": {},
   "source": [
    "Attention, pour la suite, reprendre la bonne définition de ```alt.s``` (cf. [plus haut](#RetourAnnexe3) ou ci-dessous)."
   ]
  },
  {
   "cell_type": "code",
   "execution_count": 20,
   "id": "36f3d65b-002c-4e5d-809c-f5f87b728653",
   "metadata": {},
   "outputs": [
    {
     "name": "stdout",
     "output_type": "stream",
     "text": [
      "Overwriting alt.s\n"
     ]
    }
   ],
   "source": [
    "%%writefile alt.s\n",
    "@alt = 1 + DistLev(a, adresse de b[1]) \n",
    "    ldr R0, [fp,#16]\n",
    "    push {R0}\n",
    "    ldr R0, [fp,#12]\n",
    "    add R0,R0,#1 \n",
    "    push {R0}\n",
    "    sub SP, SP, #4\n",
    "    bl DistLev\n",
    "    pop {R0}\n",
    "    add SP, SP, #8\n",
    "    add R0,R0,#1\n",
    "    str R0, [fp,#-8] "
   ]
  },
  {
   "cell_type": "markdown",
   "id": "28f75b70-6634-4851-9774-f353244d16a2",
   "metadata": {},
   "source": [
    "<a id=\"Annexe4\"></a>\n",
    "\n",
    "### Annexe 4 [&uarr;](#RetourAnnexe4) \n"
   ]
  },
  {
   "cell_type": "code",
   "execution_count": 21,
   "id": "702bcf31-061b-49d4-8121-5abf922f01d8",
   "metadata": {
    "tags": []
   },
   "outputs": [
    {
     "name": "stdout",
     "output_type": "stream",
     "text": [
      "Overwriting graphInit.dot\n"
     ]
    }
   ],
   "source": [
    "%%writefile graphInit.dot\n",
    "digraph { \n",
    "    init -> fetch;\n",
    "    fetch -> arg [label = \"*\"];\n",
    "    arg -> ld [label = \"ld\"];\n",
    "    arg -> jmp [label = \"jmp\"];\n",
    "    arg -> arg2 [label = \"*\"];\n",
    "    arg2 -> st [label = \"st\"];\n",
    "    arg2 -> add [label = \"add\"];\n",
    "    fetch -> clr [label = \"clr\"] ;\n",
    "    {ld clr st add jmp} -> ret:w  [arrowhead=\"none\"];\n",
    "    ret -> fetch:e [tailport=\"e\"];\n",
    "    \n",
    "    init [label = \"pc <- 0\"];     \n",
    "    fetch [label = \"ma <- pc ;\\n md <- Mem[ma] ;\\n ri <- md ;\\n pc <- pc +1\"];\n",
    "    clr [label = \"acc <- 0\"];\n",
    "    arg [label = \"ma <- pc ;\\n md <- Mem[ma] ;\\n pc <- pc +1\"];\n",
    "    ld [label = \"acc <- md\"];\n",
    "    jmp [label = \"pc <- md\"];\n",
    "    arg2 [label = \"ma <- md\"]; \n",
    "    st [label = \"md <- acc ;\\n Mem[ma] <- md\"]; \n",
    "    add [label = \"md <- Mem[ma] ;\\n acc <- acc + md\"]; \n",
    "    ret [label =\"return fetch\" ; color=\"white\"];\n",
    "}"
   ]
  },
  {
   "cell_type": "code",
   "execution_count": 22,
   "id": "3100efc8-3172-44fe-8768-6e49e447f64c",
   "metadata": {
    "tags": []
   },
   "outputs": [
    {
     "data": {
      "image/png": "[encoded data removed]",
      "text/plain": [
       "<PIL.PngImagePlugin.PngImageFile image mode=RGB size=849x813 at 0x7F075D25C4C0>"
      ]
     },
     "metadata": {},
     "output_type": "display_data"
    }
   ],
   "source": [
    "from PIL import Image\n",
    "from IPython.display import display\n",
    "!dot -Tpng < graphInit.dot > graphInit.png \n",
    "img = Image.open('graphInit.png')\n",
    "display(img)"
   ]
  },
  {
   "cell_type": "code",
   "execution_count": 23,
   "id": "ae03ccef-b25a-41a8-8fc4-4d6f5e9c9d30",
   "metadata": {
    "tags": []
   },
   "outputs": [
    {
     "name": "stdout",
     "output_type": "stream",
     "text": [
      "Overwriting graphSolution.dot\n"
     ]
    }
   ],
   "source": [
    "%%writefile graphSolution.dot\n",
    "digraph { \n",
    "    init -> fetch;\n",
    "    fetch -> arg [label = \"*\"];\n",
    "    arg -> ld [label = \"ld\"];\n",
    "    arg -> jmp [label = \"jmp\"];\n",
    "    arg -> tmp  [color=\"red\"];\n",
    "    arg -> arg2 [label = \"*\"];\n",
    "    tmp -> ldd [label =\"ldd\" ; color=\"red\"];\n",
    "    tmp -> std [label =\"std\" ; color=\"red\"];\n",
    "    arg2 -> st [label = \"st\"];\n",
    "    arg2 -> add [label = \"add\"];\n",
    "    fetch -> clr [label = \"clr\"] ;\n",
    "    {ld clr st add jmp ldd std} -> ret:w  [arrowhead=\"none\"];\n",
    "    ret -> fetch:e [tailport=\"e\"];\n",
    "    \n",
    "    init [label = \"...\"];     \n",
    "    fetch [label = \"...\"];\n",
    "    clr [label = \"...\"];\n",
    "    arg [label = \"...\"];\n",
    "    ld [label = \"...\"];\n",
    "    jmp [label = \"...\"];\n",
    "    arg2 [label = \"...\"]; \n",
    "    st [label = \"...\"]; \n",
    "    add [label = \"...\"]; \n",
    "    ret [label =\"...\" ; color=\"white\"];\n",
    "    \n",
    "    tmp [label =\"tmp <- acc + md\" ; color=\"red\"];\n",
    "    ldd [label =\"ma <- tmp ;\\n md <- Mem[ma] ;\\n acc <- md\" ; color=\"red\"];\n",
    "    std [label =\"ma <- pc ;\\n md <- Mem[ma] ;\\n pc <- pc+1 ;\\n ma <- tmp ;\\n Mem[ma] <- md\" ; color=\"red\"];\n",
    "}"
   ]
  },
  {
   "cell_type": "code",
   "execution_count": 24,
   "id": "5b3106be-ce96-469d-9159-23abab5f301a",
   "metadata": {
    "tags": []
   },
   "outputs": [
    {
     "data": {
      "image/png": "[encoded data removed]",
      "text/plain": [
       "<PIL.PngImagePlugin.PngImageFile image mode=RGBA size=990x766 at 0x7F075D264BE0>"
      ]
     },
     "metadata": {},
     "output_type": "display_data"
    }
   ],
   "source": [
    "from PIL import Image\n",
    "from IPython.display import display\n",
    "!dot -Tpng < graphSolution.dot > graphSolution.png \n",
    "img = Image.open('graphSolution.png')\n",
    "display(img)"
   ]
  },
  {
   "cell_type": "markdown",
   "id": "1432ec34-3b17-4941-aafa-8e0b432855ba",
   "metadata": {},
   "source": [
    "<a id=\"Annexe5\"></a>\n",
    "\n",
    "### Annexe 5 [&uarr;](#RetourAnnexe5)\n",
    "\n",
    "Le corps de la fonction en entier (variations sur le thème de la question h, l.9, rédigée/testée en 20 min):"
   ]
  },
  {
   "cell_type": "code",
   "execution_count": 25,
   "id": "d93e8d11-ecad-4032-a9dd-2dc5c8e81007",
   "metadata": {},
   "outputs": [
    {
     "name": "stdout",
     "output_type": "stream",
     "text": [
      "Overwriting corpsFonction.s\n"
     ]
    }
   ],
   "source": [
    "%%writefile corpsFonction.s\n",
    "@si (a[0]+b[0]) == 0 alors loc = 0 sinon l.2 finsi(l.11)  @ Qestion g)\n",
    "    ldr R0, [fp,#16]\n",
    "    ldrb R0, [R0]\n",
    "    ldr R1, [fp,#12]\n",
    "    ldrb R1, [R1]\n",
    "    add R0, R0, R1\n",
    "    cmp R0, #0\n",
    "    bne l.2\n",
    "    str R0, [fp,#-4]\n",
    "    b l.11\n",
    "l.2: @sinon si a[0] == 0 alors loc = 1 + DistLev(a, adresse de b[1])\n",
    "    ldr R0, [fp,#16]\n",
    "    ldrb R0, [R0]\n",
    "    cmp R0, #0         \n",
    "    bne l.3\n",
    "    ldr R0, [fp,#16]\n",
    "    push {R0}\n",
    "    ldr R0, [fp,#12]\n",
    "    add R0,R0,#1 \n",
    "    push {R0}\n",
    "    sub SP, SP, #4\n",
    "    bl DistLev\n",
    "    pop {R0}\n",
    "    add SP, SP, #8\n",
    "    add R0,R0,#1\n",
    "    str R0, [fp,#-4]         \n",
    "    b l.11\n",
    "l.3: @sinon si b[0] == 0 alors loc = 1 + DistLev(adresse de a[1],b)          \n",
    "    ldr R0, [fp,#12]\n",
    "    ldrb R0, [R0]\n",
    "    cmp R0, #0         \n",
    "    bne l.4\n",
    "    ldr R0, [fp,#16]\n",
    "    add R0,R0,#1 \n",
    "    push {R0}\n",
    "    ldr R0, [fp,#12]\n",
    "    push {R0}\n",
    "    sub SP, SP, #4\n",
    "    bl DistLev\n",
    "    pop {R0}\n",
    "    add SP, SP, #8\n",
    "    add R0,R0,#1\n",
    "    str R0, [fp,#-4]         \n",
    "    b l.11                                             \n",
    "l.4: @sinon si a[0] == b[0] alors loc = DistLev(adresse de a[1], adresse de b[1])\n",
    "    ldr R0, [fp,#12]\n",
    "#ifndef BugTailleB\n",
    "    ldrb R0, [R0]\n",
    "#else\n",
    "    ldr R0, [R0]   @erreur de taille (ldr au lieu de ldrb)\n",
    "#endif\n",
    "    ldr R1, [fp,#16]\n",
    "#ifndef BugTailleB\n",
    "    ldrb R1, [R1]\n",
    "#else\n",
    "    ldr R1, [R1]   @erreur de taille (ldr au lieu de ldrb)\n",
    "#endif\n",
    "    cmp R0, R1         \n",
    "    bne l.5\n",
    "    ldr R0, [fp,#16]\n",
    "#ifndef BugTaille4\n",
    "    add R0,R0,#1 \n",
    "#else\n",
    "    add R0,R0,#4 \n",
    "#endif\n",
    "    push {R0}\n",
    "    ldr R0, [fp,#12]\n",
    "#ifndef BugTaille4\n",
    "    add R0,R0,#1 \n",
    "#else\n",
    "    add R0,R0,#4 \n",
    "#endif\n",
    "    push {R0}\n",
    "    sub SP, SP, #4\n",
    "    bl DistLev\n",
    "    pop {R0}\n",
    "    add SP, SP, #8\n",
    "    str R0, [fp,#-4]\n",
    "    b l.11  \n",
    "l.5: @sinon\n",
    "l.6:  @loc = 1 + DistLev(adresse de a[1], b)\n",
    "    ldr R0, [fp,#16]\n",
    "    add R0,R0,#1 \n",
    "    push {R0}\n",
    "    ldr R0, [fp,#12]\n",
    "    push {R0}\n",
    "    sub SP, SP, #4\n",
    "    bl DistLev\n",
    "    pop {R0}\n",
    "    add SP, SP, #8\n",
    "    add R0,R0,#1\n",
    "    str R0, [fp,#-4]         \n",
    "l.7: @ alt = 1 + DistLev(adresse de a[1], adresse de b[1])\n",
    "    ldr R0, [fp,#16]\n",
    "    add R0,R0,#1 \n",
    "    push {R0}\n",
    "    ldr R0, [fp,#12]\n",
    "    add R0,R0,#1 \n",
    "    push {R0}\n",
    "    sub SP, SP, #4\n",
    "    bl DistLev\n",
    "    pop {R0}\n",
    "    add SP, SP, #8\n",
    "    add R0,R0,#1\n",
    "    str R0, [fp,#-8]                      \n",
    "l.8: @si alt < loc alors loc = alt finsi\n",
    "    ldr R0, [fp,#-8]                      \n",
    "    ldr R1, [fp,#-4]                      \n",
    "    cmp R0, R1\n",
    "    bgt l.9\n",
    "    str R0,  [fp,#-4]                      \n",
    "l.9: @alt = 1 + DistLev(a, adresse de b[1])\n",
    "#ifdef ALT\n",
    "#include \"alt.s\"\n",
    "#endif                                   \n",
    "l.10: @si alt < loc alors loc = alt finsi\n",
    "    ldr R0, [fp,#-8]                      \n",
    "    ldr R1, [fp,#-4]                      \n",
    "    cmp R0, R1\n",
    "    bgt l.11\n",
    "    str R0,  [fp,#-4]                          \n",
    "l.11: nop"
   ]
  },
  {
   "cell_type": "markdown",
   "id": "da74cdf8-0f5a-4654-a85b-d838c67936f0",
   "metadata": {},
   "source": [
    "Quelques tests pour vérifier que cela marche :"
   ]
  },
  {
   "cell_type": "code",
   "execution_count": 26,
   "id": "8b3eafee-f970-4dad-ad4f-ca9b4362af13",
   "metadata": {},
   "outputs": [
    {
     "name": "stdout",
     "output_type": "stream",
     "text": [
      "Entrer un mot\n",
      "Entrer un mot\n",
      "Distance entre les 2 mots \n",
      "0\n"
     ]
    }
   ],
   "source": [
    "!cpp  -D APPEL -D FONCTION -D CORPS -D ALT progTBC.s > prog.s\n",
    "!arm-linux-gnueabi-gcc -static prog.s es.s -o prog.e\n",
    "!printf \"\\n\\n\" | qemu-arm  prog.e"
   ]
  },
  {
   "cell_type": "code",
   "execution_count": 27,
   "id": "f824ad3b-06e8-4c93-bfa2-a5fa613e44bc",
   "metadata": {},
   "outputs": [
    {
     "name": "stdout",
     "output_type": "stream",
     "text": [
      "Entrer un mot\n",
      "Entrer un mot\n",
      "Distance entre les 2 mots \n",
      "3\n"
     ]
    }
   ],
   "source": [
    "!cpp  -D APPEL -D FONCTION -D CORPS -D ALT progTBC.s > prog.s\n",
    "!arm-linux-gnueabi-gcc -static prog.s es.s -o prog.e\n",
    "!printf \"INM\\n\\n\" | qemu-arm  prog.e"
   ]
  },
  {
   "cell_type": "code",
   "execution_count": 28,
   "id": "d9050a49-c928-4315-b7ba-38c5d478a3c6",
   "metadata": {},
   "outputs": [
    {
     "name": "stdout",
     "output_type": "stream",
     "text": [
      "Entrer un mot\n",
      "Entrer un mot\n",
      "Distance entre les 2 mots \n",
      "3\n"
     ]
    }
   ],
   "source": [
    "!cpp  -D APPEL -D FONCTION -D CORPS -D ALT progTBC.s > prog.s\n",
    "!arm-linux-gnueabi-gcc -static prog.s es.s -o prog.e\n",
    "!printf \"\\nMIN\\n\" | qemu-arm  prog.e"
   ]
  },
  {
   "cell_type": "code",
   "execution_count": 29,
   "id": "e883ab1c-b439-4613-a685-f2a78e36e3e8",
   "metadata": {},
   "outputs": [
    {
     "name": "stdout",
     "output_type": "stream",
     "text": [
      "Entrer un mot\n",
      "Entrer un mot\n",
      "Distance entre les 2 mots \n",
      "2\n"
     ]
    }
   ],
   "source": [
    "!cpp  -D APPEL -D FONCTION -D CORPS -D ALT progTBC.s > prog.s\n",
    "!arm-linux-gnueabi-gcc -static prog.s es.s -o prog.e\n",
    "!printf \"INM\\nMIN\\n\" | qemu-arm  prog.e"
   ]
  },
  {
   "cell_type": "code",
   "execution_count": 30,
   "id": "5aedd329-e872-4bde-8e04-930092ffc4ad",
   "metadata": {},
   "outputs": [
    {
     "name": "stdout",
     "output_type": "stream",
     "text": [
      "Entrer un mot\n",
      "Entrer un mot\n",
      "Distance entre les 2 mots \n",
      "0\n"
     ]
    }
   ],
   "source": [
    "!cpp  -D APPEL -D FONCTION -D CORPS -D ALT progTBC.s > prog.s\n",
    "!arm-linux-gnueabi-gcc -static prog.s es.s -o prog.e\n",
    "!printf \"INM\\nINM\\n\" | qemu-arm  prog.e"
   ]
  },
  {
   "cell_type": "markdown",
   "id": "099c771e-dab1-4636-8ef9-c4767134202d",
   "metadata": {},
   "source": [
    "Tout semble ok."
   ]
  },
  {
   "cell_type": "markdown",
   "id": "a57afc4a-bfb5-4e78-b09b-bb05251327cc",
   "metadata": {},
   "source": [
    "<a id=\"Annexe6\"></a>\n",
    "\n",
    "### Annexe 6 [&uarr;](#RetourAnnexe6)\n",
    "\n",
    "L'ensemble du programme en assembleur :"
   ]
  },
  {
   "cell_type": "code",
   "execution_count": 31,
   "id": "fd59a4b6-6d4c-424e-8052-136de9e0f066",
   "metadata": {},
   "outputs": [
    {
     "name": "stdout",
     "output_type": "stream",
     "text": [
      ".data\n",
      "msg1: .asciz \"Entrer un mot\"\n",
      "msg2: .asciz \"Distance entre les 2 mots \"\n",
      "d: .word 42\n",
      ".bss\n",
      "ch1: .skip 80\n",
      "ch2: .skip 80\n",
      ".text\n",
      ".global main\n",
      "main: push {lr}\n",
      "    @@ A COMPLETER\n",
      "@20: EcrChaine(\"Entrer un mot\")\n",
      "    ldr R1, LD_msg1 @ Qestion d)\n",
      "    bl EcrChaine @ Qestion d)\n",
      "@21: LireChaine(&ch1)\n",
      "    ldr R1, LD_ch1 @ Qestion d)\n",
      "    bl LireChaine @ Qestion d)\n",
      "   \n",
      "@22: EcrChaine(\"Entrer un mot\")\n",
      "    ldr R1, LD_msg1\n",
      "    bl EcrChaine\n",
      "@23: LireChaine(&ch2)\n",
      "    ldr R1, LD_ch2\n",
      "    bl LireChaine\n",
      "   \n",
      "@24: d:=DistLev(ch1,ch2)\n",
      "@d:=DistLev(ch1,ch2)\n",
      "    ldr R0, LD_ch1\n",
      "    push {R0}\n",
      "    ldr R0, LD_ch2\n",
      "    push {R0}\n",
      "    mov R0, #1024\n",
      "    push {R0}\n",
      "    bl DistLev\n",
      "    pop {R0}\n",
      "    add SP, SP, #8\n",
      "    ldr R1, LD_d\n",
      "    str R0, [R1]\n",
      "@25: EcrChaine(\"Distance entre les 2 mots \")\n",
      "    ldr R1, LD_msg2 @ Qestion d)\n",
      "    bl EcrChaine @ Qestion d)\n",
      "@26: EcrNdecimal32(d)\n",
      "    ldr R1, LD_d @ Qestion d)\n",
      "    ldr R1, [R1] @ Qestion d)\n",
      "    bl EcrNdecimal32 @ Qestion d)\n",
      "    pop {lr}\n",
      "    mov R0, #0\n",
      "    bx lr\n",
      "DistLev:\n",
      "    push {lr} @ Qestion f)\n",
      "    push {fp}\n",
      "    mov fp,sp\n",
      "    sub sp,sp,#8\n",
      "    push {R0}\n",
      "    push {R1}\n",
      "    push {R2}\n",
      "@si (a[0]+b[0]) == 0 alors loc = 0 sinon l.2 finsi(l.11) @ Qestion g)\n",
      "    ldr R0, [fp,#16]\n",
      "    ldrb R0, [R0]\n",
      "    ldr R1, [fp,#12]\n",
      "    ldrb R1, [R1]\n",
      "    add R0, R0, R1\n",
      "    cmp R0, #0\n",
      "    bne l.2\n",
      "    str R0, [fp,#-4]\n",
      "    b l.11\n",
      "l.2: @sinon si a[0] == 0 alors loc = 1 + DistLev(a, adresse de b[1])\n",
      "    ldr R0, [fp,#16]\n",
      "    ldrb R0, [R0]\n",
      "    cmp R0, #0\n",
      "    bne l.3\n",
      "    ldr R0, [fp,#16]\n",
      "    push {R0}\n",
      "    ldr R0, [fp,#12]\n",
      "    add R0,R0,#1\n",
      "    push {R0}\n",
      "    sub SP, SP, #4\n",
      "    bl DistLev\n",
      "    pop {R0}\n",
      "    add SP, SP, #8\n",
      "    add R0,R0,#1\n",
      "    str R0, [fp,#-4]\n",
      "    b l.11\n",
      "l.3: @sinon si b[0] == 0 alors loc = 1 + DistLev(adresse de a[1],b)\n",
      "    ldr R0, [fp,#12]\n",
      "    ldrb R0, [R0]\n",
      "    cmp R0, #0\n",
      "    bne l.4\n",
      "    ldr R0, [fp,#16]\n",
      "    add R0,R0,#1\n",
      "    push {R0}\n",
      "    ldr R0, [fp,#12]\n",
      "    push {R0}\n",
      "    sub SP, SP, #4\n",
      "    bl DistLev\n",
      "    pop {R0}\n",
      "    add SP, SP, #8\n",
      "    add R0,R0,#1\n",
      "    str R0, [fp,#-4]\n",
      "    b l.11\n",
      "l.4: @sinon si a[0] == b[0] alors loc = DistLev(adresse de a[1], adresse de b[1])\n",
      "    ldr R0, [fp,#12]\n",
      "    ldrb R0, [R0]\n",
      "    ldr R1, [fp,#16]\n",
      "    ldrb R1, [R1]\n",
      "    cmp R0, R1\n",
      "    bne l.5\n",
      "    ldr R0, [fp,#16]\n",
      "    add R0,R0,#1\n",
      "    push {R0}\n",
      "    ldr R0, [fp,#12]\n",
      "    add R0,R0,#1\n",
      "    push {R0}\n",
      "    sub SP, SP, #4\n",
      "    bl DistLev\n",
      "    pop {R0}\n",
      "    add SP, SP, #8\n",
      "    str R0, [fp,#-4]\n",
      "    b l.11\n",
      "l.5: @sinon\n",
      "l.6: @loc = 1 + DistLev(adresse de a[1], b)\n",
      "    ldr R0, [fp,#16]\n",
      "    add R0,R0,#1\n",
      "    push {R0}\n",
      "    ldr R0, [fp,#12]\n",
      "    push {R0}\n",
      "    sub SP, SP, #4\n",
      "    bl DistLev\n",
      "    pop {R0}\n",
      "    add SP, SP, #8\n",
      "    add R0,R0,#1\n",
      "    str R0, [fp,#-4]\n",
      "l.7: @ alt = 1 + DistLev(adresse de a[1], adresse de b[1])\n",
      "    ldr R0, [fp,#16]\n",
      "    add R0,R0,#1\n",
      "    push {R0}\n",
      "    ldr R0, [fp,#12]\n",
      "    add R0,R0,#1\n",
      "    push {R0}\n",
      "    sub SP, SP, #4\n",
      "    bl DistLev\n",
      "    pop {R0}\n",
      "    add SP, SP, #8\n",
      "    add R0,R0,#1\n",
      "    str R0, [fp,#-8]\n",
      "l.8: @si alt < loc alors loc = alt finsi\n",
      "    ldr R0, [fp,#-8]\n",
      "    ldr R1, [fp,#-4]\n",
      "    cmp R0, R1\n",
      "    bgt l.9\n",
      "    str R0, [fp,#-4]\n",
      "l.9: @alt = 1 + DistLev(a, adresse de b[1])\n",
      "@alt = 1 + DistLev(a, adresse de b[1])\n",
      "    ldr R0, [fp,#16]\n",
      "    push {R0}\n",
      "    ldr R0, [fp,#12]\n",
      "    add R0,R0,#1\n",
      "    push {R0}\n",
      "    sub SP, SP, #4\n",
      "    bl DistLev\n",
      "    pop {R0}\n",
      "    add SP, SP, #8\n",
      "    add R0,R0,#1\n",
      "    str R0, [fp,#-8]\n",
      "l.10: @si alt < loc alors loc = alt finsi\n",
      "    ldr R0, [fp,#-8]\n",
      "    ldr R1, [fp,#-4]\n",
      "    cmp R0, R1\n",
      "    bgt l.11\n",
      "    str R0, [fp,#-4]\n",
      "l.11: nop\n",
      "    ldr R0, [fp,#-4] @ Qestion i)\n",
      "    str R0, [fp,#8]\n",
      "    pop {R2}\n",
      "    pop {R1}\n",
      "    pop {R0}\n",
      "    add sp,sp,#8\n",
      "    pop {fp}\n",
      "    pop {lr}\n",
      "    bx lr\n",
      "LD_d: .word d\n",
      "LD_ch1: .word ch1\n",
      "LD_ch2: .word ch2\n",
      "LD_msg1: .word msg1\n",
      "LD_msg2: .word msg2\n"
     ]
    }
   ],
   "source": [
    "!cpp  -P -D APPEL -D FONCTION -D CORPS -D ALT progTBC.s"
   ]
  },
  {
   "cell_type": "markdown",
   "id": "1b5fd678-844b-449e-9b12-a96c148d5260",
   "metadata": {},
   "source": [
    "<a id=\"Annexe7\"></a>\n",
    "\n",
    "### Annexe 7 [&uarr;](#RetourAnnexe7)\n",
    "\n",
    "Une erreur de saisie courante  :  \n",
    "\n",
    "* après la lecture d'une chaîne, la chaîne est déjà stockée à l'adresse fournie pour la lecture, \n",
    "* il n'y a pas besoin de faire une écriture\n",
    "* pourtant on voit des str ...\n",
    "```\n",
    "    ldr R1, LD_ch1 \n",
    "    bl LireChaine\n",
    "    str R0, [R1]\n",
    "```\n",
    "\n",
    "Si on affiche la chaîne lue, voilà le résultat :"
   ]
  },
  {
   "cell_type": "code",
   "execution_count": 39,
   "id": "0060f8e1-9378-4699-9890-40069dd1dac7",
   "metadata": {},
   "outputs": [
    {
     "name": "stdout",
     "output_type": "stream",
     "text": [
      "Entrer un mot\n",
      "\n",
      "Entrer un mot\n",
      "MIN\n",
      "Distance entre les 2 mots \n",
      "3\n"
     ]
    }
   ],
   "source": [
    "!cpp -D APPEL -D FONCTION -D CORPS -D ALT  -D '_CONTROLE_CH1=£str R0, [R1]£ldr R1, LD_ch1£bl EcrChaine£' -D '_CONTROLE_CH2=£ldr R1, LD_ch2£bl EcrChaine£' progTBC.s | tr '£' '\\n' > prog.s\n",
    "!arm-linux-gnueabi-gcc -static prog.s es.s -o prog.e\n",
    "!printf 'INM\\nMIN\\n' | qemu-arm  prog.e"
   ]
  },
  {
   "cell_type": "markdown",
   "id": "3d7d5b3c-80f1-42da-8654-b5aa1ff22c3d",
   "metadata": {},
   "source": [
    "La chaîne semble avoir disparue ! (à l'affichage, et dans le calcul)\n",
    "\n",
    "Et oui, ```str R0, [R1]``` écrit ```R0``` à l'adresse ```R1```. Or ```R0``` c'est le résultat du dernier appel de la fonction de saisie, c'est le nombre de résultats lus et ```R1``` c'est l'adresse de la chaîne qui vient d'être lue. Donc cette ligne mets un ```0``` ou ```1``` en début de chaîne ! Si c'est ```0```, c'est comme si on effaçait la chaîne, si c'est ```1``` ce n'est pas mieux (caractère non affichable) !"
   ]
  },
  {
   "cell_type": "markdown",
   "id": "8d9ef9ad-de24-459d-92fb-ce244b50831b",
   "metadata": {},
   "source": [
    "<a id=\"Annexe8\"></a>\n",
    "\n",
    "### Annexe 8 [&uarr;](#RetourAnnexe8)\n",
    "\n",
    "Des erreurs de taille :  \n",
    "\n",
    "* les lettres sont des octets (bytes), pour le lire, il ne faut pas oublier de le préciser et utiliser ```ldrb R0,[R0]``` au lieu de ```ldr R0,[R0]```\n",
    "* sinon, ce sont 4 lettres qui sont prises en même temps (et les chances que les 4 soient identiques ne sont pas les même que si la première lettre seulement avait été prise)\n",
    "* si on essaye ce que cela donne :"
   ]
  },
  {
   "cell_type": "code",
   "execution_count": 33,
   "id": "531ec3d1-ffcd-4270-8a4a-7d3b32f6ca18",
   "metadata": {},
   "outputs": [
    {
     "name": "stdout",
     "output_type": "stream",
     "text": [
      "Entrer un mot\n",
      "Entrer un mot\n",
      "Distance entre les 2 mots \n",
      "4\n"
     ]
    }
   ],
   "source": [
    "!cpp  -D APPEL -D FONCTION -D CORPS -D ALT -D BugTailleB progTBC.s > prog.s\n",
    "!arm-linux-gnueabi-gcc -static prog.s es.s -o prog.e\n",
    "!printf \"INM2\\nINM3\\n\" | qemu-arm  prog.e"
   ]
  },
  {
   "cell_type": "markdown",
   "id": "ef060071-2b7d-473f-8686-70fbc80f2487",
   "metadata": {},
   "source": [
    "Entre ```INM2```et ```INM3``` la distance devrait être de 1, mais le résultat est 4, parce que ce n'est pas ```I``` qui est comparé à ```I```, mais ```INM2``` qui est comparé à ```INM3```"
   ]
  },
  {
   "cell_type": "markdown",
   "id": "dbca999e-29aa-4c4d-8430-022489de66ee",
   "metadata": {},
   "source": [
    "Autre erreur de lecture (cohérente avec ce qui précède, mais malheureusement fausse aussi, c'est cohérent) :  \n",
    "\n",
    "* Les adresses de la lettre d'indice ```K``` (dans ```R1```), sont ```R0 + R1``` (avec ```R0``` adresse de base) et non pas ```R0 + R1 LSL #2```. Avec cette définition, c'est l'adresse d'une lettre  4 fois trop loin, et 3 lettres sont sautées."
   ]
  },
  {
   "cell_type": "code",
   "execution_count": 34,
   "id": "6b1797ad-f745-44c3-a438-2cab281da732",
   "metadata": {},
   "outputs": [
    {
     "name": "stdout",
     "output_type": "stream",
     "text": [
      "Entrer un mot\n",
      "Entrer un mot\n",
      "Distance entre les 2 mots \n",
      "0\n"
     ]
    }
   ],
   "source": [
    "!cpp  -D APPEL -D FONCTION -D CORPS -D ALT -D BugTaille4 progTBC.s > prog.s\n",
    "!arm-linux-gnueabi-gcc -static prog.s es.s -o prog.e\n",
    "!printf \"INM2\\nINM3\\n\" | qemu-arm  prog.e"
   ]
  },
  {
   "cell_type": "markdown",
   "id": "bbb212f8-00b4-43b4-b737-c7943cfa0e0c",
   "metadata": {},
   "source": [
    "Entre ```INM2```et ```INM3``` la distance devrait toujours être de 1, mais le résultat est 0, parce que une fois ```I``` comparé à ```I```, le programme avance de 3 lettres, et c'est déjà la fin des chaînes, donc tous les tests ont été concluants, la distance est de 0.\n",
    "\n",
    "Pour comparer le 2 et le 3, il faudrait qu'ils soient une place plus loin (en 4e position), et les lettres entre le I et le 2 ou le 3 pourraient être n'importe quoi, ce qui donnerait :"
   ]
  },
  {
   "cell_type": "code",
   "execution_count": 35,
   "id": "e3db7f69-698d-42e2-9044-2459e82f8348",
   "metadata": {},
   "outputs": [
    {
     "name": "stdout",
     "output_type": "stream",
     "text": [
      "Entrer un mot\n",
      "Entrer un mot\n",
      "Distance entre les 2 mots \n",
      "1\n"
     ]
    }
   ],
   "source": [
    "!cpp  -D APPEL -D FONCTION -D CORPS -D ALT -D BugTaille4 progTBC.s > prog.s\n",
    "!arm-linux-gnueabi-gcc -static prog.s es.s -o prog.e\n",
    "!printf \"IXYZ2\\nIABC3\\n\" | qemu-arm  prog.e"
   ]
  },
  {
   "cell_type": "markdown",
   "id": "cc681d3c-f8a3-4d39-9262-0525b69d09d6",
   "metadata": {},
   "source": [
    "C'est le bon résultat pour comparer ```I2``` et ```I3```, mais pas pour ```Ixyz2``` et ```Iabc3```."
   ]
  },
  {
   "cell_type": "markdown",
   "id": "f3ad93d2-a815-4ba5-84e9-5e6eed8edfdc",
   "metadata": {},
   "source": [
    "### Annexe 99\n",
    "\n",
    "Pour éliminer les fichiers inutiles, mettre ```true``` au lieu de ```false``` dans la commande suivante"
   ]
  },
  {
   "cell_type": "code",
   "execution_count": 36,
   "id": "465e7eb6-1ffc-45d3-aa2f-55066d7e248f",
   "metadata": {},
   "outputs": [],
   "source": [
    "!if false; then rm alt.s appel.s corpsMain.s corpsFonction.s fonction.s progTBC.s prog.e *.dot *.r; fi;"
   ]
  }
 ],
 "metadata": {
  "kernelspec": {
   "display_name": "Python 3 (ipykernel)",
   "language": "python",
   "name": "python3"
  },
  "language_info": {
   "codemirror_mode": {
    "name": "ipython",
    "version": 3
   },
   "file_extension": ".py",
   "mimetype": "text/x-python",
   "name": "python",
   "nbconvert_exporter": "python",
   "pygments_lexer": "ipython3",
   "version": "3.9.2"
  },
  "title": "Architecture des Ordinateurs (Examen)"
 },
 "nbformat": 4,
 "nbformat_minor": 5
}
