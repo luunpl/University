{
 "cells": [
  {
   "cell_type": "markdown",
   "id": "43159bf2-ffa0-40c9-bd2e-c602d668fbea",
   "metadata": {
    "tags": []
   },
   "source": [
    "# Suite de Syracuse\n",
    "\n",
    "## Introduction\n",
    "\n",
    "Le TP 5 d'INF401 sur GDB se termine avec un calcul de la suite de Syracuse selon le programme suivant :\n",
    "\n",
    "```\n",
    "Suite de Syracuse (pour n : entier)\n",
    "11: Tant que n différent de 1 faire :\n",
    "12:   Si n est pair alors :\n",
    "13:     n = n div 2\n",
    "14:   sinon :\n",
    "15:     n = 3*n+1\n",
    "16:   finsi\n",
    "17: fin tant que\n",
    "```\n",
    "Le programme proposé dans le TP n'avait pas d'affichage, pour observer son exécution, il fallait utiliser GDB !\n",
    "\n",
    "Pour la suite, nous ajouterons un affichage à la ligne 16.5 (EcrZdecimal32) et une saisie au début ligne 10 (et avant) pour fixer la valeur de n (Lire32).\n",
    "\n",
    "\n",
    "L'objectif du TP était de traduire ce code en un programme en assembleur ARM. C'est encore à faire !\n",
    "\n",
    "Une ébauche de code ARM peut être :\n",
    "```arm\n",
    ".data\n",
    "msgDebut: ...\n",
    "msgFin:   ...\n",
    "n:        ...\n",
    ".text\n",
    "main:\n",
    "@ saisie, calcul et affichage de la suite de syracuse.\n",
    "bx lr  @retour au système\n",
    "ptr_msgDebut: ...\n",
    "ptr_msgFin:   ...\n",
    "ptr_n:        ...\n",
    "```\n",
    "\n",
    "Pour la suite, nous utiliserons cette ébauche pour écrire et tester nos programmes.\n",
    "\n",
    "Expliquez dans le compte-rendu et/ou commentez dans le code ces lignes et exécutez la cellule pour rendre ce code effectif :"
   ]
  },
  {
   "cell_type": "code",
   "execution_count": null,
   "id": "b18473d5-6b61-453c-a8e9-826df21686a3",
   "metadata": {
    "autorun": true,
    "tags": []
   },
   "outputs": [],
   "source": [
    "%%writefile syracuse.se\n",
    ".data\n",
    "msgDebut: .asciz \"Entrer un nombre\"\n",
    "msgFin:   .asciz \"Fin du programme avec la valeur\"\n",
    ".balign 4\n",
    "n:        .word 1948 @initialisation presque aléatoire\n",
    ".text\n",
    ".global main\n",
    "main:\n",
    "push {lr}\n",
    "@Prog Principal\n",
    "#include \"syracuseDebut.se\"  \n",
    "#include \"syracuseCalcul.se\"\n",
    "#include \"syracuseFin.se\"\n",
    "mov r0,#0\n",
    "pop {lr}\n",
    "bx lr\n",
    "ptr_msgDebut: .word msgDebut\n",
    "ptr_msgFin: .word msgFin\n",
    "ptr_n: .word n"
   ]
  },
  {
   "cell_type": "markdown",
   "id": "6adb6fd9-73b2-4fad-81eb-942b5e22f69f",
   "metadata": {},
   "source": [
    "Et par défaut on crée des fichiers (presque vides) pour la suite (exécutez cette cellule aussi, idem pour les suivantes)."
   ]
  },
  {
   "cell_type": "code",
   "execution_count": null,
   "id": "72cc0956-6349-42a1-b372-64f7db892bb2",
   "metadata": {
    "autorun": true,
    "tags": []
   },
   "outputs": [],
   "source": [
    "!echo \"@AFAIRE\" > syracuseDebut.se\n",
    "!echo \"@AFAIRE\" > syracuseCalcul.se\n",
    "!echo \"@AFAIRE\" > syracuseFin.se"
   ]
  },
  {
   "cell_type": "markdown",
   "id": "672d17d1-2af8-43ab-989a-71a84fdeaf4d",
   "metadata": {},
   "source": [
    "## Fin\n",
    "\n",
    "### Affichage d'un message de fin avec la dernière valeur de n.\n",
    "\n",
    "Il s'agit de traduire :\n",
    "```\n",
    "EcrChaine(\"Fin du programme avec la valeur\")\n",
    "EcrZdecimal32(n)\n",
    "```\n",
    "\n",
    "Question : A votre avis, pourquoi commencer par la fin ? Est-ce qu'il y a une bonne raison (compléter votre compte-rendu)\n",
    "\n",
    "\n",
    "Traduction (à expliquer, compléter et exécuter) :"
   ]
  },
  {
   "cell_type": "code",
   "execution_count": null,
   "id": "9fb98b8a-fe86-469b-8944-1d33641781db",
   "metadata": {},
   "outputs": [],
   "source": [
    "%%writefile syracuseFin.se\n",
    "@18: EcrChaine(\"Fin du programme avec la valeur\")\n",
    "\n",
    "    @ à completer\n",
    "    \n",
    "@19: EcrZdecimal32(&n)\n",
    "   \n",
    "    @ à completer"
   ]
  },
  {
   "cell_type": "markdown",
   "id": "6dea0add-f23f-4664-93e9-2f0326021861",
   "metadata": {},
   "source": [
    "Pour vérifier la syntaxe et ce début d'exécution, on peut demander au compilateur et au processeur de travailler (on s'attends à avoir juste l'affichage du nombre pre-enregistré. \n",
    "\n",
    "Expliquez les commandes suivantes, prévoyez le résultat, exécutez ces commandes et commentez le résultat obtenu."
   ]
  },
  {
   "cell_type": "code",
   "execution_count": null,
   "id": "8c02a495-78ff-4da6-927f-2320ce124156",
   "metadata": {},
   "outputs": [],
   "source": [
    "!arm-linux-gnueabi-cpp syracuse.se -o syracuse.s\n",
    "!arm-linux-gnueabi-gcc -static syracuse.s es.s -o syracuse.e\n",
    "!echo 15 | qemu-arm  syracuse.e\n",
    "!echo fin"
   ]
  },
  {
   "cell_type": "markdown",
   "id": "a14e7524-6f0e-4252-9167-2d90a20aec8f",
   "metadata": {},
   "source": [
    "Alors ? Est-ce le résultat attendu ?"
   ]
  },
  {
   "cell_type": "markdown",
   "id": "2d0f804b-a44a-4762-bcb6-788a83da62b5",
   "metadata": {
    "tags": []
   },
   "source": [
    "## Début\n",
    "\n",
    "Après avoir fait la fin, il faut faire le début (complétez le compte-rendu si nécessaire)\n",
    "\n",
    "### Saisie d'un nombre\n",
    "Il s'agit de traduire :\n",
    "```\n",
    "EcrChaine(\"Entrer un nombre\")\n",
    "Lire32(&n)\n",
    "```\n",
    "Traduction (à faire) :"
   ]
  },
  {
   "cell_type": "code",
   "execution_count": null,
   "id": "5702b191-5f35-442c-9491-c70b3cb99c05",
   "metadata": {},
   "outputs": [],
   "source": [
    "%%writefile syracuseDebut.se\n",
    "@9: EcrChaine(\"Entrer un nombre\")\n",
    "\n",
    "    @ à completer\n",
    "    \n",
    "@10: Lire32(&n)\n",
    "\n",
    "    @ à completer"
   ]
  },
  {
   "cell_type": "markdown",
   "id": "4d6ee4b5-80ca-479e-ab0a-f7a7d4eb15c8",
   "metadata": {},
   "source": [
    "Pour vérifier la syntaxe, et un peu l'exécution, on peut demander au compilateur d'exécuter l'ensemble (debut+fin), cependant pour la saisie, comme on est dans jupyter, cela complique un peu le test, il faut juste prévoir la saisie (ici, j'ai mis 15 comme entrée envoyée au programme, on peut changer ce nombre, il y a d'autres solutions pour éviter les saisies avec #define #ifdef, si besoin) :"
   ]
  },
  {
   "cell_type": "code",
   "execution_count": null,
   "id": "ebda1744-d7d4-418a-8c5c-a0d668953086",
   "metadata": {},
   "outputs": [],
   "source": [
    "!arm-linux-gnueabi-cpp syracuse.se -o syracuse.s\n",
    "!arm-linux-gnueabi-gcc -static syracuse.s es.s -o syracuse.e\n",
    "!echo 15 | qemu-arm  syracuse.e\n",
    "!echo fin"
   ]
  },
  {
   "cell_type": "markdown",
   "id": "0eb3d46a-91df-4b9f-a481-5e17879fa78c",
   "metadata": {},
   "source": [
    "Alors ? Est-ce le résultat attendu ? (complétez votre compte-rendu)"
   ]
  },
  {
   "cell_type": "markdown",
   "id": "07022890-6f01-4184-b01e-792f8661a53b",
   "metadata": {},
   "source": [
    "## Calcul de la suite de Syracuse\n",
    "\n",
    "Il reste à faire la traduction du calcul de la suite lui-même. Il faut peut-être décomposer en plusieurs étapes. À vous de voir. Et il ne faut pas oublier d'ajouter un affichage dans la boucle  (à la ligne 16.5) !\n",
    "\n",
    "Reprenez et complétez le travail que vous avez fait en TP, ne pas oublier de commenter votre code et/ou d'expliquer votre programme dans le compte-rendu. (pour récupérer par copier-coller, votre code, depuis vote tp ; vous pouvez utiliser l'onglet bloc-note de caseine, et ouvrir ce bloc note sous jupyter à l'adresse http://localhost:8888/edit/blocNote.txt )\n",
    "\n",
    "Traduction (complète ou partielle, explications, tests, etc.)\n",
    "\n",
    "\n"
   ]
  },
  {
   "cell_type": "code",
   "execution_count": null,
   "id": "c882b1e9-7613-4416-bba1-a3f69a07f3a1",
   "metadata": {},
   "outputs": [],
   "source": [
    "%%writefile syracuseCalcul.se\n",
    "\n",
    "  @ à faire"
   ]
  },
  {
   "cell_type": "markdown",
   "id": "31644f73-94c4-4cc7-99dc-ca87ec1c6647",
   "metadata": {},
   "source": [
    "Test :"
   ]
  },
  {
   "cell_type": "code",
   "execution_count": null,
   "id": "24767bab-a562-4221-a08e-d3e64c8f0f93",
   "metadata": {},
   "outputs": [],
   "source": [
    "!arm-linux-gnueabi-cpp syracuse.se -o syracuse.s\n",
    "!arm-linux-gnueabi-gcc -static syracuse.s es.s -o syracuse.e\n",
    "!echo 15 | qemu-arm  syracuse.e\n",
    "!echo fin"
   ]
  },
  {
   "cell_type": "markdown",
   "id": "86154e1b-d786-4636-b1d3-c80ff109bea6",
   "metadata": {},
   "source": [
    "Alors ? Est-ce le résultat attendu ?"
   ]
  },
  {
   "cell_type": "markdown",
   "id": "895cd035-fcea-49b3-a751-037b08e1e8e4",
   "metadata": {},
   "source": [
    "## Conclusion(s)\n",
    "\n",
    "Comment le tp s'est déroulé ?\n",
    "\n",
    "Si c'était à refaire ?\n",
    "\n",
    "Leçons apprises ?\n",
    "\n",
    "Limites du programmes ?\n",
    "\n",
    "Extensions possibles ?\n",
    "\n",
    "..."
   ]
  }
 ],
 "metadata": {
  "kernelspec": {
   "display_name": "Python 3 (ipykernel)",
   "language": "python",
   "name": "python3"
  },
  "language_info": {
   "codemirror_mode": {
    "name": "ipython",
    "version": 3
   },
   "file_extension": ".py",
   "mimetype": "text/x-python",
   "name": "python",
   "nbconvert_exporter": "python",
   "pygments_lexer": "ipython3",
   "version": "3.9.2"
  }
 },
 "nbformat": 4,
 "nbformat_minor": 5
}
