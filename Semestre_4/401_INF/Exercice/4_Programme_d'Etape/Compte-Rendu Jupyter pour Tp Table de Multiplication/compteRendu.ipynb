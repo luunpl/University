{
 "cells": [
  {
   "cell_type": "markdown",
   "id": "e24652c5-9010-4143-b968-a3a702f2619d",
   "metadata": {},
   "source": [
    "# Table de multiplication\n",
    "\n",
    "(proposition de trame pour le compte-rendu, vous pouvez reprendre, modifier, compléter, supprimer tout ou partie ; à la fin il faut que cela soit **votre compte-rendu**, pas seulement parce que vous aurez ajouter votre code, mais aussi parce que vous aurez ajouter des tests et surtout des commentaires, explications, etc. : c'est un compte-rendu, pas un listing, il faut du textes à lire, pour introduire et accompagner votre code et vos tests)\n",
    "\n",
    "## Introduction\n",
    "\n",
    "Les TP 6-7 vous proposent de réaliser un programme qui calcule les tables de multiplications et les affiche.\n",
    "\n",
    "Deux algorithmes sont fournis, l'un pour calculer et sauver en mémoire les tables de multiplication ; l'autre pour les afficher (cf. sujet de tp).\n",
    "\n",
    "Un squelette de programme est également fourni :"
   ]
  },
  {
   "cell_type": "code",
   "execution_count": null,
   "id": "43d002b0-7ad3-4a12-ba5c-9ee5bc9a2895",
   "metadata": {
    "autorun": true,
    "tags": []
   },
   "outputs": [],
   "source": [
    "%%writefile squeletteTableMultiplication.se\n",
    "N_MAX= 10\n",
    "   .data\n",
    "barre :  .byte '|'\n",
    "         .byte 0\n",
    "espace : .byte ' '\n",
    "         .byte 0\n",
    "tirets : .asciz \"---\"\n",
    "\n",
    "debutTab:    .skip N_MAX*N_MAX*4   @ adresse du debut du tableau\n",
    "\n",
    "   .text\n",
    "   .global main\n",
    "main: push {lr}\n",
    "\n",
    "    @ remplissage du tableau\n",
    "#include \"remplissage.se\"\n",
    "\n",
    "    @ affichage du tableau\n",
    "#include \"affichage.se\"\n",
    "\n",
    "fin: \n",
    "     mov r1, #'*'\n",
    "     bl EcrCar  @ un étoile pour indiquer la fin des affichages\n",
    "     mov r0, #0\n",
    "     pop {lr}\n",
    "     bx lr\n",
    "\n",
    "ptr_debutTab : .word debutTab\n",
    "adr_barre :    .word barre\n",
    "adr_espace :   .word espace\n",
    "adr_tirets :   .word tirets"
   ]
  },
  {
   "cell_type": "markdown",
   "id": "b5eed66d-63a7-4793-b397-ecbfeac9b6b3",
   "metadata": {},
   "source": [
    "Si une exécution du code est lancée, il ne se passera pas grand chose (juste une étoile pour marquer la fin des affichages)."
   ]
  },
  {
   "cell_type": "code",
   "execution_count": null,
   "id": "ba6441ae-e216-4be3-9d1c-9832aeb9487f",
   "metadata": {},
   "outputs": [],
   "source": [
    "!touch remplissage.se\n",
    "!touch affichage.se\n",
    "!arm-linux-gnueabi-cpp squeletteTableMultiplication.se -P -o tableMultiplication.s\n",
    "!arm-linux-gnueabi-gcc -static tableMultiplication.s es.s -o tableMultiplication.e\n",
    "!qemu-arm  tableMultiplication.e"
   ]
  },
  {
   "cell_type": "markdown",
   "id": "e602fcbe-6207-4b16-8667-4eeaf0cd1b75",
   "metadata": {},
   "source": [
    "## Remplissage\n",
    "\n",
    "Dans le double boucle de remplissage, l'affectation est le point délicat. Dans un premier temps, pour simplifier, la taille du tableau (10x10) est supposée constante. Coder en supposant NLig dans R6, NCol dans R7. \n",
    "\n",
    "Travail à faire : l'affectation (codage, commentaires et explications générales)"
   ]
  },
  {
   "cell_type": "code",
   "execution_count": null,
   "id": "4b100d24-b006-4b82-a70c-e0690b9751d4",
   "metadata": {
    "autorun": true,
    "tags": []
   },
   "outputs": [],
   "source": [
    "%%writefile affectation.se\n",
    "#ifdef debugMult\n",
    "  @ pour debug, recuperer adresse du tableau (?)\n",
    "  mov R6, #(valeurR6) @sera transmis par la compilation (voir ci-après)\n",
    "  mov R7, #(valeurR7)\n",
    "#endif\n",
    "  \n",
    "    @ A Faire Tab[NLig-1][NCol-1] = NLig * NCol\n",
    "\n",
    "#ifdef debugMult\n",
    "  @ajouter un affichage (pour debug seulement) du résultat, et/ou du calcul de l_adresse\n",
    "#endif\n"
   ]
  },
  {
   "cell_type": "markdown",
   "id": "4e7996d1-3c19-464a-bd55-7a79ff91c8ba",
   "metadata": {},
   "source": [
    "Test d'exécution (en supposant NLig dans R6, NCol dans R7), à exécuter (plusieurs fois si nécessaires) et commenter (pour chaque exécution, et à la fin pour conclure les tests)."
   ]
  },
  {
   "cell_type": "code",
   "execution_count": null,
   "id": "427d6b7e-3c5e-4ee2-8e3a-d23871d4946e",
   "metadata": {},
   "outputs": [],
   "source": [
    "!touch remplissage.se\n",
    "!touch affichage.se\n",
    "!arm-linux-gnueabi-cpp squeletteTableMultiplication.se -D valeurR6=9 -D valeurR7=3 -P -D debugMult  -o tableMultiplication.s\n",
    "!arm-linux-gnueabi-gcc -static tableMultiplication.s es.s -o tableMultiplication.e\n",
    "!qemu-arm  tableMultiplication.e"
   ]
  },
  {
   "cell_type": "markdown",
   "id": "4f2d0c16-3ac9-481c-9c73-bec17532560b",
   "metadata": {},
   "source": [
    "Ensuite, travail à faire : ajout de la double boucle (codage, commentaires et explications générales)"
   ]
  },
  {
   "cell_type": "code",
   "execution_count": null,
   "id": "c2a0e930-44f2-46a2-94b9-63f1b3e42bb4",
   "metadata": {
    "autorun": true,
    "tags": []
   },
   "outputs": [],
   "source": [
    "%%writefile remplissage.se\n",
    "@ A Faire une double boucle de remplissage, avec au coeur :\n",
    "#include \"affectation.se\""
   ]
  },
  {
   "cell_type": "markdown",
   "id": "2bd297b4-ff7e-4177-8825-448c90eb2a00",
   "metadata": {},
   "source": [
    "Prévoir un test (si possible), le mettre en place, l'exécuter et le commenter."
   ]
  },
  {
   "cell_type": "markdown",
   "id": "0cdb2597-ccbf-4fe7-943a-fdb9413ab04d",
   "metadata": {},
   "source": [
    "## Affichage\n",
    "En commençant l'affichage par le coeur, il faut afficher un entier sur 3 caractères (en ajoutant des espaces si le nombre à afficher est petit). Supposer, par exemple que le nombre à afficher est dans R8.\n",
    "\n",
    "Travail à faire : codage, commentaires, explications générales."
   ]
  },
  {
   "cell_type": "code",
   "execution_count": null,
   "id": "a9bb228f-2af4-4caa-afee-3538782ebdef",
   "metadata": {
    "autorun": true,
    "tags": []
   },
   "outputs": [],
   "source": [
    "%%writefile affichageUnEntier.se\n",
    "@ A Faire afficher un entier sur 3 caractères\n",
    "#ifdef debugAfficheEntier\n",
    "  @ pour debug\n",
    "  mov R8, #(valeurR8)  @ la valeur sera fournie à la compilation\n",
    "#endif\n",
    "  \n",
    "  @ Affichage de R8 sur 3 caractères : A FAIRE\n"
   ]
  },
  {
   "cell_type": "markdown",
   "id": "9b8028f5-dd1b-4468-8a57-abaa7b647983",
   "metadata": {},
   "source": [
    "Test d'exécution (avec le nombre à afficher dans R8)"
   ]
  },
  {
   "cell_type": "code",
   "execution_count": null,
   "id": "2002caf1-654a-4818-93d4-ab49380dee3e",
   "metadata": {},
   "outputs": [],
   "source": [
    "!touch remplissage.se\n",
    "!touch affichage.se\n",
    "!arm-linux-gnueabi-cpp squeletteTableMultiplication.se -D valeurR8=7 -P -D debugAfficheEntier  -o tableMultiplication.s\n",
    "!arm-linux-gnueabi-gcc -static tableMultiplication.s es.s -o tableMultiplication.e\n",
    "!qemu-arm  tableMultiplication.e"
   ]
  },
  {
   "cell_type": "markdown",
   "id": "63a9ad9e-2894-4f5c-81ff-5f3f6c0655f5",
   "metadata": {},
   "source": [
    "Commentaires sur le test, les résultats."
   ]
  },
  {
   "cell_type": "markdown",
   "id": "41957bdf-a89f-4fc0-80dd-245495b757c4",
   "metadata": {},
   "source": [
    "Suite, ajout de l'affichage de la case :"
   ]
  },
  {
   "cell_type": "code",
   "execution_count": null,
   "id": "f9ea9a06-7f9d-48e5-8e54-95152b7a1f38",
   "metadata": {
    "autorun": true,
    "tags": []
   },
   "outputs": [],
   "source": [
    "%%writefile affichageUneCase.se\n",
    "@à compléter en utilisant\n",
    "#include \"affichageUnEntier.se\""
   ]
  },
  {
   "cell_type": "markdown",
   "id": "8a30b118-b4aa-40ea-9aa5-0ca02dc6f27a",
   "metadata": {},
   "source": [
    "Test à prévoir."
   ]
  },
  {
   "cell_type": "markdown",
   "id": "57036b97-6df5-4670-a33e-10b111b68d82",
   "metadata": {},
   "source": [
    "Avant d'ajouter la fin (double boucle), compléter avec l'affichage d'une ligne complète de tirets."
   ]
  },
  {
   "cell_type": "code",
   "execution_count": null,
   "id": "5b1ee7bd-02bf-4792-814c-dd6ec7acc851",
   "metadata": {
    "autorun": true,
    "tags": []
   },
   "outputs": [],
   "source": [
    "%%writefile affichageUneLigne.se\n",
    "@A FAIRE"
   ]
  },
  {
   "cell_type": "markdown",
   "id": "f7eb5b01-2345-4a44-b322-6bed2aabd28d",
   "metadata": {},
   "source": [
    "Test à prévoir."
   ]
  },
  {
   "cell_type": "markdown",
   "id": "1b152ef6-0300-49e5-85f4-a01442793877",
   "metadata": {},
   "source": [
    "Finaliser avec la double boucle."
   ]
  },
  {
   "cell_type": "code",
   "execution_count": null,
   "id": "6e080f8f-07d7-4169-9b82-518bef1b1ad8",
   "metadata": {
    "autorun": true,
    "tags": []
   },
   "outputs": [],
   "source": [
    "%%writefile affichage.se\n",
    "@à faire (double boucle) en utilisant au bon endroit\n",
    "#include \"affichageUneCase.se\"\n",
    "#include \"affichageUneLigne.se\""
   ]
  },
  {
   "cell_type": "markdown",
   "id": "78e1e348-7b55-48b0-af66-a4a28f002a06",
   "metadata": {},
   "source": [
    "Test final (ou tests finaux)."
   ]
  },
  {
   "cell_type": "code",
   "execution_count": null,
   "id": "85359c5f-96ab-4462-83cd-050a63943247",
   "metadata": {},
   "outputs": [],
   "source": [
    "!touch remplissage.se\n",
    "!touch affichage.se\n",
    "!arm-linux-gnueabi-cpp squeletteTableMultiplication.se -P -o tableMultiplication.s\n",
    "!arm-linux-gnueabi-gcc -static tableMultiplication.s es.s -o tableMultiplication.e\n",
    "!qemu-arm  tableMultiplication.e"
   ]
  },
  {
   "cell_type": "markdown",
   "id": "d83b5737-c034-42d5-8d15-5a5e90a17aba",
   "metadata": {},
   "source": [
    "## Conclusion finale ou intermédiaire\n",
    "\n",
    "à compléter, et poursuivre avec d'autres tests, des améliorations, une conclusion finale, ... "
   ]
  }
 ],
 "metadata": {
  "kernelspec": {
   "display_name": "Python 3 (ipykernel)",
   "language": "python",
   "name": "python3"
  },
  "language_info": {
   "codemirror_mode": {
    "name": "ipython",
    "version": 3
   },
   "file_extension": ".py",
   "mimetype": "text/x-python",
   "name": "python",
   "nbconvert_exporter": "python",
   "pygments_lexer": "ipython3",
   "version": "3.9.2"
  }
 },
 "nbformat": 4,
 "nbformat_minor": 5
}
